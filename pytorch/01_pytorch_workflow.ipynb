{
  "nbformat": 4,
  "nbformat_minor": 0,
  "metadata": {
    "colab": {
      "provenance": [],
      "gpuType": "T4",
      "authorship_tag": "ABX9TyPAvpnNr4FxaB29fUsAZZec",
      "include_colab_link": true
    },
    "kernelspec": {
      "name": "python3",
      "display_name": "Python 3"
    },
    "language_info": {
      "name": "python"
    },
    "accelerator": "GPU"
  },
  "cells": [
    {
      "cell_type": "markdown",
      "metadata": {
        "id": "view-in-github",
        "colab_type": "text"
      },
      "source": [
        "<a href=\"https://colab.research.google.com/github/bala-baskar/aiml_tech_courses/blob/main/pytorch/01_pytorch_workflow.ipynb\" target=\"_parent\"><img src=\"https://colab.research.google.com/assets/colab-badge.svg\" alt=\"Open In Colab\"/></a>"
      ]
    },
    {
      "cell_type": "markdown",
      "source": [
        "## Pytorch workflow\n",
        "\n",
        "1. Data prepare and load\n",
        "2. Build model\n",
        "3. Fitting the model to data (training)\n",
        "4. Making predictions and evaluating the model (inference)\n",
        "5. Saving and loading a model\n",
        "6. Collate all together"
      ],
      "metadata": {
        "id": "5T_RhyRpbxOU"
      }
    },
    {
      "cell_type": "code",
      "execution_count": 110,
      "metadata": {
        "colab": {
          "base_uri": "https://localhost:8080/"
        },
        "id": "sUKBbqw_bcyU",
        "outputId": "3a2ef093-ee08-40e9-aa7e-5b614609f696"
      },
      "outputs": [
        {
          "output_type": "stream",
          "name": "stdout",
          "text": [
            "2.1.0+cu121\n"
          ]
        }
      ],
      "source": [
        "import torch\n",
        "from torch import nn\n",
        "import matplotlib.pyplot as plt\n",
        "\n",
        "print(torch.__version__)"
      ]
    },
    {
      "cell_type": "code",
      "source": [
        "weight = 0.5\n",
        "bias = 0.2\n",
        "\n",
        "X = torch.arange(0,1,0.02).unsqueeze(dim=1)\n",
        "y = weight * X + bias\n",
        "\n",
        "X, y"
      ],
      "metadata": {
        "colab": {
          "base_uri": "https://localhost:8080/"
        },
        "id": "AZv7i9MjdJdg",
        "outputId": "099e5aac-24a1-4741-9485-5adcf9be3cb8"
      },
      "execution_count": 111,
      "outputs": [
        {
          "output_type": "execute_result",
          "data": {
            "text/plain": [
              "(tensor([[0.0000],\n",
              "         [0.0200],\n",
              "         [0.0400],\n",
              "         [0.0600],\n",
              "         [0.0800],\n",
              "         [0.1000],\n",
              "         [0.1200],\n",
              "         [0.1400],\n",
              "         [0.1600],\n",
              "         [0.1800],\n",
              "         [0.2000],\n",
              "         [0.2200],\n",
              "         [0.2400],\n",
              "         [0.2600],\n",
              "         [0.2800],\n",
              "         [0.3000],\n",
              "         [0.3200],\n",
              "         [0.3400],\n",
              "         [0.3600],\n",
              "         [0.3800],\n",
              "         [0.4000],\n",
              "         [0.4200],\n",
              "         [0.4400],\n",
              "         [0.4600],\n",
              "         [0.4800],\n",
              "         [0.5000],\n",
              "         [0.5200],\n",
              "         [0.5400],\n",
              "         [0.5600],\n",
              "         [0.5800],\n",
              "         [0.6000],\n",
              "         [0.6200],\n",
              "         [0.6400],\n",
              "         [0.6600],\n",
              "         [0.6800],\n",
              "         [0.7000],\n",
              "         [0.7200],\n",
              "         [0.7400],\n",
              "         [0.7600],\n",
              "         [0.7800],\n",
              "         [0.8000],\n",
              "         [0.8200],\n",
              "         [0.8400],\n",
              "         [0.8600],\n",
              "         [0.8800],\n",
              "         [0.9000],\n",
              "         [0.9200],\n",
              "         [0.9400],\n",
              "         [0.9600],\n",
              "         [0.9800]]),\n",
              " tensor([[0.2000],\n",
              "         [0.2100],\n",
              "         [0.2200],\n",
              "         [0.2300],\n",
              "         [0.2400],\n",
              "         [0.2500],\n",
              "         [0.2600],\n",
              "         [0.2700],\n",
              "         [0.2800],\n",
              "         [0.2900],\n",
              "         [0.3000],\n",
              "         [0.3100],\n",
              "         [0.3200],\n",
              "         [0.3300],\n",
              "         [0.3400],\n",
              "         [0.3500],\n",
              "         [0.3600],\n",
              "         [0.3700],\n",
              "         [0.3800],\n",
              "         [0.3900],\n",
              "         [0.4000],\n",
              "         [0.4100],\n",
              "         [0.4200],\n",
              "         [0.4300],\n",
              "         [0.4400],\n",
              "         [0.4500],\n",
              "         [0.4600],\n",
              "         [0.4700],\n",
              "         [0.4800],\n",
              "         [0.4900],\n",
              "         [0.5000],\n",
              "         [0.5100],\n",
              "         [0.5200],\n",
              "         [0.5300],\n",
              "         [0.5400],\n",
              "         [0.5500],\n",
              "         [0.5600],\n",
              "         [0.5700],\n",
              "         [0.5800],\n",
              "         [0.5900],\n",
              "         [0.6000],\n",
              "         [0.6100],\n",
              "         [0.6200],\n",
              "         [0.6300],\n",
              "         [0.6400],\n",
              "         [0.6500],\n",
              "         [0.6600],\n",
              "         [0.6700],\n",
              "         [0.6800],\n",
              "         [0.6900]]))"
            ]
          },
          "metadata": {},
          "execution_count": 111
        }
      ]
    },
    {
      "cell_type": "code",
      "source": [
        "split_idx = int(0.8 * len(X))\n",
        "X_train, X_test = X[:split_idx], X[split_idx:]\n",
        "y_train, y_test = y[:split_idx], y[split_idx:]\n",
        "\n",
        "len(X_train), len(X_test), len(y_train), len(y_test)"
      ],
      "metadata": {
        "colab": {
          "base_uri": "https://localhost:8080/"
        },
        "id": "C6364JKYjlZV",
        "outputId": "d67f7a57-72ba-4cb8-d581-0e8b5ec323a2"
      },
      "execution_count": 112,
      "outputs": [
        {
          "output_type": "execute_result",
          "data": {
            "text/plain": [
              "(40, 10, 40, 10)"
            ]
          },
          "metadata": {},
          "execution_count": 112
        }
      ]
    },
    {
      "cell_type": "code",
      "source": [
        "plt.plot(X_train,y_train)\n",
        "plt.plot(X_test,y_test)"
      ],
      "metadata": {
        "colab": {
          "base_uri": "https://localhost:8080/",
          "height": 447
        },
        "id": "V9xC2exUkHBr",
        "outputId": "e73df904-cd53-4b0a-e45e-81dd860bba45"
      },
      "execution_count": 113,
      "outputs": [
        {
          "output_type": "execute_result",
          "data": {
            "text/plain": [
              "[<matplotlib.lines.Line2D at 0x7e877e8f1ea0>]"
            ]
          },
          "metadata": {},
          "execution_count": 113
        },
        {
          "output_type": "display_data",
          "data": {
            "text/plain": [
              "<Figure size 640x480 with 1 Axes>"
            ],
            "image/png": "[encoded data removed]"
          },
          "metadata": {}
        }
      ]
    },
    {
      "cell_type": "code",
      "source": [
        "class LinearRegressionModel(nn.Module):\n",
        "\n",
        "  def __init__(self):\n",
        "    super().__init__()\n",
        "    self.weights = nn.Parameter(torch.randn(1,\n",
        "                                            requires_grad=True,\n",
        "                                            dtype=torch.float))\n",
        "\n",
        "    self.bias = nn.Parameter(torch.randn(1,\n",
        "                                         requires_grad=True,\n",
        "                                         dtype=torch.float))\n",
        "\n",
        "  def forward(self, x: torch.Tensor) -> torch.Tensor:\n",
        "    return self.weights * x + self.bias"
      ],
      "metadata": {
        "id": "8Ng6Z8sOkqi8"
      },
      "execution_count": 114,
      "outputs": []
    },
    {
      "cell_type": "code",
      "source": [
        "# Initialize the model object\n",
        "torch.manual_seed(42)\n",
        "model_0 = LinearRegressionModel()\n",
        "print(model_0)\n",
        "print(list(model_0.parameters()))\n",
        "print(model_0.state_dict())"
      ],
      "metadata": {
        "colab": {
          "base_uri": "https://localhost:8080/"
        },
        "id": "xFy1FHwcqBVH",
        "outputId": "546d6b1e-003a-49cf-abb4-6445658ebc19"
      },
      "execution_count": 115,
      "outputs": [
        {
          "output_type": "stream",
          "name": "stdout",
          "text": [
            "LinearRegressionModel()\n",
            "[Parameter containing:\n",
            "tensor([0.3367], requires_grad=True), Parameter containing:\n",
            "tensor([0.1288], requires_grad=True)]\n",
            "OrderedDict([('weights', tensor([0.3367])), ('bias', tensor([0.1288]))])\n"
          ]
        }
      ]
    },
    {
      "cell_type": "code",
      "source": [
        "# Prediction\n",
        "with torch.inference_mode():\n",
        "  y_pred = model_0(X_test)"
      ],
      "metadata": {
        "id": "0fLV7MwmubJr"
      },
      "execution_count": 116,
      "outputs": []
    },
    {
      "cell_type": "code",
      "source": [
        "plt.plot(X_train,y_train)\n",
        "plt.plot(X_test,y_test)\n",
        "plt.plot(X_test,y_pred)"
      ],
      "metadata": {
        "colab": {
          "base_uri": "https://localhost:8080/",
          "height": 447
        },
        "id": "4f5SLMWtvfpU",
        "outputId": "029b17f1-92f9-495c-f7d6-2c17b553c09a"
      },
      "execution_count": 117,
      "outputs": [
        {
          "output_type": "execute_result",
          "data": {
            "text/plain": [
              "[<matplotlib.lines.Line2D at 0x7e877e3e0ac0>]"
            ]
          },
          "metadata": {},
          "execution_count": 117
        },
        {
          "output_type": "display_data",
          "data": {
            "text/plain": [
              "<Figure size 640x480 with 1 Axes>"
            ],
            "image/png": "[encoded data removed]"
          },
          "metadata": {}
        }
      ]
    },
    {
      "cell_type": "code",
      "source": [
        "# Model training\n",
        "# Setup a loss function\n",
        "loss_fn = nn.L1Loss()\n",
        "optimizer = torch.optim.SGD(params=model_0.parameters(),lr = 0.01)"
      ],
      "metadata": {
        "id": "LyPjGBsMvinJ"
      },
      "execution_count": 118,
      "outputs": []
    },
    {
      "cell_type": "code",
      "source": [
        "# Model training loop\n",
        "\n",
        "epochs = 200\n",
        "\n",
        "epoch_values = []\n",
        "loss_values = []\n",
        "test_loss_values = []\n",
        "\n",
        "for epoch in range(epochs):\n",
        "\n",
        "  # Training\n",
        "  model_0.train() # model in training mode\n",
        "  y_pred = model_0(X_train) # call forward() function\n",
        "  loss = loss_fn(y_pred,y_train) # forward pass\n",
        "  #print(loss)\n",
        "  optimizer.zero_grad() # optimizer sets the grad to 0 before updation\n",
        "  loss.backward() # backpropagation\n",
        "  optimizer.step() # calculates the step to update the parameters\n",
        "\n",
        "  #Testing\n",
        "  model_0.eval() # test the model\n",
        "  with torch.inference_mode():\n",
        "    test_pred = model_0(X_test)\n",
        "    test_loss = loss_fn(test_pred, y_test)\n",
        "\n",
        "    if epoch % 10 == 0:\n",
        "      print(f\"Epoch {epoch}: Loss {loss} : Test Loss {test_loss}\")\n",
        "      epoch_values.append(epoch)\n",
        "      loss_values.append(loss)\n",
        "      test_loss_values.append(test_loss)\n",
        "      print(model_0.state_dict())"
      ],
      "metadata": {
        "colab": {
          "base_uri": "https://localhost:8080/"
        },
        "id": "EpxzyJBi236Y",
        "outputId": "830ccb51-3d74-4df9-a5b0-85d1bcf37965"
      },
      "execution_count": 119,
      "outputs": [
        {
          "output_type": "stream",
          "name": "stdout",
          "text": [
            "Epoch 0: Loss 0.13488134741783142 : Test Loss 0.2030651569366455\n",
            "OrderedDict([('weights', tensor([0.3406])), ('bias', tensor([0.1388]))])\n",
            "Epoch 10: Loss 0.03132527321577072 : Test Loss 0.07949598133563995\n",
            "OrderedDict([('weights', tensor([0.3789])), ('bias', tensor([0.2283]))])\n",
            "Epoch 20: Loss 0.019853416830301285 : Test Loss 0.04678727313876152\n",
            "OrderedDict([('weights', tensor([0.4027])), ('bias', tensor([0.2398]))])\n",
            "Epoch 30: Loss 0.016392573714256287 : Test Loss 0.03782790154218674\n",
            "OrderedDict([('weights', tensor([0.4201])), ('bias', tensor([0.2333]))])\n",
            "Epoch 40: Loss 0.012963002547621727 : Test Loss 0.029555415734648705\n",
            "OrderedDict([('weights', tensor([0.4372])), ('bias', tensor([0.2263]))])\n",
            "Epoch 50: Loss 0.009524193592369556 : Test Loss 0.021282946690917015\n",
            "OrderedDict([('weights', tensor([0.4544])), ('bias', tensor([0.2193]))])\n",
            "Epoch 60: Loss 0.006090622395277023 : Test Loss 0.01369735598564148\n",
            "OrderedDict([('weights', tensor([0.4713])), ('bias', tensor([0.2118]))])\n",
            "Epoch 70: Loss 0.0026598810218274593 : Test Loss 0.004746878053992987\n",
            "OrderedDict([('weights', tensor([0.4887])), ('bias', tensor([0.2053]))])\n",
            "Epoch 80: Loss 0.004575380124151707 : Test Loss 0.004555904772132635\n",
            "OrderedDict([('weights', tensor([0.4952])), ('bias', tensor([0.2088]))])\n",
            "Epoch 90: Loss 0.004575380124151707 : Test Loss 0.004555904772132635\n",
            "OrderedDict([('weights', tensor([0.4952])), ('bias', tensor([0.2088]))])\n",
            "Epoch 100: Loss 0.004575380124151707 : Test Loss 0.004555904772132635\n",
            "OrderedDict([('weights', tensor([0.4952])), ('bias', tensor([0.2088]))])\n",
            "Epoch 110: Loss 0.004575380124151707 : Test Loss 0.004555904772132635\n",
            "OrderedDict([('weights', tensor([0.4952])), ('bias', tensor([0.2088]))])\n",
            "Epoch 120: Loss 0.004575380124151707 : Test Loss 0.004555904772132635\n",
            "OrderedDict([('weights', tensor([0.4952])), ('bias', tensor([0.2088]))])\n",
            "Epoch 130: Loss 0.004575380124151707 : Test Loss 0.004555904772132635\n",
            "OrderedDict([('weights', tensor([0.4952])), ('bias', tensor([0.2088]))])\n",
            "Epoch 140: Loss 0.004575380124151707 : Test Loss 0.004555904772132635\n",
            "OrderedDict([('weights', tensor([0.4952])), ('bias', tensor([0.2088]))])\n",
            "Epoch 150: Loss 0.004575380124151707 : Test Loss 0.004555904772132635\n",
            "OrderedDict([('weights', tensor([0.4952])), ('bias', tensor([0.2088]))])\n",
            "Epoch 160: Loss 0.004575380124151707 : Test Loss 0.004555904772132635\n",
            "OrderedDict([('weights', tensor([0.4952])), ('bias', tensor([0.2088]))])\n",
            "Epoch 170: Loss 0.004575380124151707 : Test Loss 0.004555904772132635\n",
            "OrderedDict([('weights', tensor([0.4952])), ('bias', tensor([0.2088]))])\n",
            "Epoch 180: Loss 0.004575380124151707 : Test Loss 0.004555904772132635\n",
            "OrderedDict([('weights', tensor([0.4952])), ('bias', tensor([0.2088]))])\n",
            "Epoch 190: Loss 0.004575380124151707 : Test Loss 0.004555904772132635\n",
            "OrderedDict([('weights', tensor([0.4952])), ('bias', tensor([0.2088]))])\n"
          ]
        }
      ]
    },
    {
      "cell_type": "code",
      "source": [
        "with torch.inference_mode():\n",
        "  y_pred_new = model_0(X_test)\n",
        "\n",
        "plt.plot(X_train,y_train)\n",
        "plt.plot(X_test,y_test)\n",
        "plt.plot(X_test,y_pred_new)"
      ],
      "metadata": {
        "colab": {
          "base_uri": "https://localhost:8080/",
          "height": 447
        },
        "id": "sYaheDy76MPH",
        "outputId": "a4e032d6-41a4-4a36-c2f9-25ffd85a8698"
      },
      "execution_count": 120,
      "outputs": [
        {
          "output_type": "execute_result",
          "data": {
            "text/plain": [
              "[<matplotlib.lines.Line2D at 0x7e877e45ddb0>]"
            ]
          },
          "metadata": {},
          "execution_count": 120
        },
        {
          "output_type": "display_data",
          "data": {
            "text/plain": [
              "<Figure size 640x480 with 1 Axes>"
            ],
            "image/png": "[encoded data removed]"
          },
          "metadata": {}
        }
      ]
    },
    {
      "cell_type": "code",
      "source": [
        "plt.plot(epoch_values,torch.tensor(loss_values).numpy(),label=\"Train loss\")\n",
        "plt.plot(epoch_values,torch.tensor(test_loss_values).numpy(),label=\"Train loss\")\n",
        "plt.title(\"Train & Test loss\")\n",
        "plt.legend()"
      ],
      "metadata": {
        "colab": {
          "base_uri": "https://localhost:8080/",
          "height": 469
        },
        "id": "_InReRcn6z_V",
        "outputId": "3fd5f65c-4e45-4b59-84b6-c79859861794"
      },
      "execution_count": 121,
      "outputs": [
        {
          "output_type": "execute_result",
          "data": {
            "text/plain": [
              "<matplotlib.legend.Legend at 0x7e877e387d90>"
            ]
          },
          "metadata": {},
          "execution_count": 121
        },
        {
          "output_type": "display_data",
          "data": {
            "text/plain": [
              "<Figure size 640x480 with 1 Axes>"
            ],
            "image/png": "[encoded data removed]"
          },
          "metadata": {}
        }
      ]
    },
    {
      "cell_type": "code",
      "source": [
        "# Save the model\n",
        "from pathlib import Path\n",
        "\n",
        "# Create new directory\n",
        "MODEL_PATH = Path(\"models\")\n",
        "MODEL_PATH.mkdir(parents=True, exist_ok=True)\n",
        "\n",
        "# Create model save path\n",
        "MODEL_NAME = \"pytorch_workflow_model1.pth\"\n",
        "MODEL_SAVE_PATH = MODEL_PATH / MODEL_NAME\n",
        "\n",
        "# Save the model state dict\n",
        "print(\"Saving model to:\",MODEL_SAVE_PATH)\n",
        "torch.save(obj=model_0.state_dict(),\n",
        "           f=MODEL_SAVE_PATH)"
      ],
      "metadata": {
        "colab": {
          "base_uri": "https://localhost:8080/"
        },
        "id": "x0Qn4nlG-8pg",
        "outputId": "f3c86312-b8b4-4459-cf55-caf3bd9aa9ae"
      },
      "execution_count": 122,
      "outputs": [
        {
          "output_type": "stream",
          "name": "stdout",
          "text": [
            "Saving model to: models/pytorch_workflow_model1.pth\n"
          ]
        }
      ]
    },
    {
      "cell_type": "code",
      "source": [
        "# Load the model\n",
        "loaded_model_0 = LinearRegressionModel()\n",
        "print(loaded_model_0.state_dict())\n",
        "\n",
        "loaded_model_0.load_state_dict(torch.load(f=MODEL_SAVE_PATH))\n",
        "print(loaded_model_0.state_dict())"
      ],
      "metadata": {
        "colab": {
          "base_uri": "https://localhost:8080/"
        },
        "id": "N1UjpbG4CuOX",
        "outputId": "79a95b8a-7e4d-4ad9-c68a-fd27a29f9d39"
      },
      "execution_count": 123,
      "outputs": [
        {
          "output_type": "stream",
          "name": "stdout",
          "text": [
            "OrderedDict([('weights', tensor([0.2345])), ('bias', tensor([0.2303]))])\n",
            "OrderedDict([('weights', tensor([0.4913])), ('bias', tensor([0.1988]))])\n"
          ]
        }
      ]
    },
    {
      "cell_type": "markdown",
      "source": [
        "### Model module with Linear layer"
      ],
      "metadata": {
        "id": "BEq2PbBcNfr2"
      }
    },
    {
      "cell_type": "code",
      "source": [
        "import torch\n",
        "from torch import nn\n",
        "import matplotlib.pyplot as plt"
      ],
      "metadata": {
        "id": "RFq7xdVgDxIk"
      },
      "execution_count": 1,
      "outputs": []
    },
    {
      "cell_type": "code",
      "source": [
        "device = \"cuda\" if torch.cuda.is_available() else \"cpu\"\n",
        "device"
      ],
      "metadata": {
        "colab": {
          "base_uri": "https://localhost:8080/",
          "height": 35
        },
        "id": "2TS_Lu2MNrud",
        "outputId": "4fa69323-102d-480f-a009-894df46544a5"
      },
      "execution_count": 138,
      "outputs": [
        {
          "output_type": "execute_result",
          "data": {
            "text/plain": [
              "'cpu'"
            ],
            "application/vnd.google.colaboratory.intrinsic+json": {
              "type": "string"
            }
          },
          "metadata": {},
          "execution_count": 138
        }
      ]
    },
    {
      "cell_type": "code",
      "source": [
        "# Changing runtime from CPU to GPU\n",
        "device = \"cuda\" if torch.cuda.is_available() else \"cpu\"\n",
        "device"
      ],
      "metadata": {
        "colab": {
          "base_uri": "https://localhost:8080/",
          "height": 35
        },
        "id": "_V1J9VYIOGNY",
        "outputId": "490ed9da-1d79-40cc-b40d-3f240af9bedc"
      },
      "execution_count": 2,
      "outputs": [
        {
          "output_type": "execute_result",
          "data": {
            "text/plain": [
              "'cuda'"
            ],
            "application/vnd.google.colaboratory.intrinsic+json": {
              "type": "string"
            }
          },
          "metadata": {},
          "execution_count": 2
        }
      ]
    },
    {
      "cell_type": "code",
      "source": [
        "# Data\n",
        "weights = 0.7\n",
        "bias = 0.1\n",
        "\n",
        "X = torch.arange(0,1,0.02).unsqueeze(dim=1)\n",
        "y = weights * X + bias"
      ],
      "metadata": {
        "id": "conNGdPIEn-F"
      },
      "execution_count": 3,
      "outputs": []
    },
    {
      "cell_type": "code",
      "source": [
        "split_idx = int(X.shape[0]*0.8)\n",
        "X_train, y_train = X[:split_idx], y[:split_idx]\n",
        "X_test, y_test = X[split_idx:], y[split_idx:]"
      ],
      "metadata": {
        "id": "aZU5ogPjFElT"
      },
      "execution_count": 4,
      "outputs": []
    },
    {
      "cell_type": "code",
      "source": [
        "X_train.to(device)\n",
        "y_train.to(device)\n",
        "X_test.to(device)\n",
        "y_test.to(device)"
      ],
      "metadata": {
        "colab": {
          "base_uri": "https://localhost:8080/"
        },
        "id": "X9IsKZfdOSET",
        "outputId": "99540e58-cdb1-495f-f574-cccb3fb1a6a0"
      },
      "execution_count": 5,
      "outputs": [
        {
          "output_type": "execute_result",
          "data": {
            "text/plain": [
              "tensor([[0.6600],\n",
              "        [0.6740],\n",
              "        [0.6880],\n",
              "        [0.7020],\n",
              "        [0.7160],\n",
              "        [0.7300],\n",
              "        [0.7440],\n",
              "        [0.7580],\n",
              "        [0.7720],\n",
              "        [0.7860]], device='cuda:0')"
            ]
          },
          "metadata": {},
          "execution_count": 5
        }
      ]
    },
    {
      "cell_type": "code",
      "source": [
        "plt.plot(X_train,y_train)\n",
        "plt.plot(X_test,y_test)"
      ],
      "metadata": {
        "colab": {
          "base_uri": "https://localhost:8080/",
          "height": 447
        },
        "id": "SG6OT1j0FT-q",
        "outputId": "2268e730-1b4c-4fad-a5ad-48633637e9e8"
      },
      "execution_count": 6,
      "outputs": [
        {
          "output_type": "execute_result",
          "data": {
            "text/plain": [
              "[<matplotlib.lines.Line2D at 0x7b6ea8c46530>]"
            ]
          },
          "metadata": {},
          "execution_count": 6
        },
        {
          "output_type": "display_data",
          "data": {
            "text/plain": [
              "<Figure size 640x480 with 1 Axes>"
            ],
            "image/png": "[encoded data removed]"
          },
          "metadata": {}
        }
      ]
    },
    {
      "cell_type": "code",
      "source": [
        "class LinearRegressionModel(nn.Module):\n",
        "\n",
        "  def __init__(self):\n",
        "    super().__init__()\n",
        "    self.weights = nn.Parameter(torch.randn(1,\n",
        "                                            dtype=float,\n",
        "                                            requires_grad=True))\n",
        "    self.bias = nn.Parameter(torch.randn(1,\n",
        "                                         dtype=float,\n",
        "                                         requires_grad=True))\n",
        "\n",
        "  def forward(self, x:torch.Tensor) -> torch.Tensor:\n",
        "    return self.weights * x + self.bias"
      ],
      "metadata": {
        "id": "E0ly51y_FX3T"
      },
      "execution_count": 7,
      "outputs": []
    },
    {
      "cell_type": "code",
      "source": [
        "class LinearRegressionModelV2(nn.Module):\n",
        "\n",
        "  def __init__(self):\n",
        "    super().__init__()\n",
        "    self.linear_layer = nn.Linear(in_features=1,\n",
        "                                  out_features=1)\n",
        "\n",
        "  def forward(self, x:torch.Tensor) -> torch.Tensor:\n",
        "    return self.linear_layer(x)"
      ],
      "metadata": {
        "id": "BKNFhpi8K_MA"
      },
      "execution_count": 8,
      "outputs": []
    },
    {
      "cell_type": "code",
      "source": [
        "torch.manual_seed(42)\n",
        "model_1 = LinearRegressionModelV2()\n",
        "print(model_1.state_dict())\n",
        "\n",
        "loss_fn = nn.L1Loss()\n",
        "optimizer = torch.optim.SGD(params=model_1.parameters(),lr=0.02)"
      ],
      "metadata": {
        "colab": {
          "base_uri": "https://localhost:8080/"
        },
        "id": "6dlOi5KBGRL0",
        "outputId": "20699c8f-77e8-4547-e1be-f78c79b32135"
      },
      "execution_count": 9,
      "outputs": [
        {
          "output_type": "stream",
          "name": "stdout",
          "text": [
            "OrderedDict([('linear_layer.weight', tensor([[0.7645]])), ('linear_layer.bias', tensor([0.8300]))])\n"
          ]
        }
      ]
    },
    {
      "cell_type": "code",
      "source": [
        "epochs = 200\n",
        "epoch_val = []\n",
        "loss_val = []\n",
        "test_loss_val = []\n",
        "\n",
        "for epoch in range(epochs):\n",
        "\n",
        "  model_1.train()\n",
        "  y_pred = model_1(X_train)\n",
        "  loss = loss_fn(y_pred,y_train)\n",
        "  optimizer.zero_grad()\n",
        "  loss.backward()\n",
        "  optimizer.step()\n",
        "\n",
        "  model_1.eval()\n",
        "  with torch.inference_mode():\n",
        "    y_pred_n = model_1(X_test)\n",
        "    test_loss = loss_fn(y_pred_n,y_test)\n",
        "    if epoch % 10 == 0:\n",
        "      print(f\"Epoch {epoch} - Loss {loss} - Test loss {test_loss}\")\n",
        "      print(model_1.state_dict())\n",
        "      epoch_val.append(epoch)\n",
        "      loss_val.append(loss)\n",
        "      test_loss_val.append(test_loss)"
      ],
      "metadata": {
        "colab": {
          "base_uri": "https://localhost:8080/"
        },
        "id": "hSOD9G_rGI1g",
        "outputId": "30e1c937-db07-4614-d177-10bc6a826467"
      },
      "execution_count": 10,
      "outputs": [
        {
          "output_type": "stream",
          "name": "stdout",
          "text": [
            "Epoch 0 - Loss 0.7551778554916382 - Test loss 0.760505199432373\n",
            "OrderedDict([('linear_layer.weight', tensor([[0.7567]])), ('linear_layer.bias', tensor([0.8100]))])\n",
            "Epoch 10 - Loss 0.5247582197189331 - Test loss 0.4910855293273926\n",
            "OrderedDict([('linear_layer.weight', tensor([[0.6787]])), ('linear_layer.bias', tensor([0.6100]))])\n",
            "Epoch 20 - Loss 0.29433831572532654 - Test loss 0.22166574001312256\n",
            "OrderedDict([('linear_layer.weight', tensor([[0.6007]])), ('linear_layer.bias', tensor([0.4100]))])\n",
            "Epoch 30 - Loss 0.06402688473463058 - Test loss 0.0460599884390831\n",
            "OrderedDict([('linear_layer.weight', tensor([[0.5235]])), ('linear_layer.bias', tensor([0.2110]))])\n",
            "Epoch 40 - Loss 0.03227909654378891 - Test loss 0.07377608120441437\n",
            "OrderedDict([('linear_layer.weight', tensor([[0.5429]])), ('linear_layer.bias', tensor([0.1660]))])\n",
            "Epoch 50 - Loss 0.025391723960638046 - Test loss 0.05723118782043457\n",
            "OrderedDict([('linear_layer.weight', tensor([[0.5773]])), ('linear_layer.bias', tensor([0.1520]))])\n",
            "Epoch 60 - Loss 0.018532071262598038 - Test loss 0.04206009581685066\n",
            "OrderedDict([('linear_layer.weight', tensor([[0.6112]])), ('linear_layer.bias', tensor([0.1370]))])\n",
            "Epoch 70 - Loss 0.011662078090012074 - Test loss 0.025515198707580566\n",
            "OrderedDict([('linear_layer.weight', tensor([[0.6455]])), ('linear_layer.bias', tensor([0.1230]))])\n",
            "Epoch 80 - Loss 0.004785050638020039 - Test loss 0.010344058275222778\n",
            "OrderedDict([('linear_layer.weight', tensor([[0.6794]])), ('linear_layer.bias', tensor([0.1080]))])\n",
            "Epoch 90 - Loss 0.008841072209179401 - Test loss 0.022161072120070457\n",
            "OrderedDict([('linear_layer.weight', tensor([[0.6841]])), ('linear_layer.bias', tensor([0.0920]))])\n",
            "Epoch 100 - Loss 0.008841072209179401 - Test loss 0.022161072120070457\n",
            "OrderedDict([('linear_layer.weight', tensor([[0.6841]])), ('linear_layer.bias', tensor([0.0920]))])\n",
            "Epoch 110 - Loss 0.008841072209179401 - Test loss 0.022161072120070457\n",
            "OrderedDict([('linear_layer.weight', tensor([[0.6841]])), ('linear_layer.bias', tensor([0.0920]))])\n",
            "Epoch 120 - Loss 0.008841072209179401 - Test loss 0.022161072120070457\n",
            "OrderedDict([('linear_layer.weight', tensor([[0.6841]])), ('linear_layer.bias', tensor([0.0920]))])\n",
            "Epoch 130 - Loss 0.008841072209179401 - Test loss 0.022161072120070457\n",
            "OrderedDict([('linear_layer.weight', tensor([[0.6841]])), ('linear_layer.bias', tensor([0.0920]))])\n",
            "Epoch 140 - Loss 0.008841072209179401 - Test loss 0.022161072120070457\n",
            "OrderedDict([('linear_layer.weight', tensor([[0.6841]])), ('linear_layer.bias', tensor([0.0920]))])\n",
            "Epoch 150 - Loss 0.008841072209179401 - Test loss 0.022161072120070457\n",
            "OrderedDict([('linear_layer.weight', tensor([[0.6841]])), ('linear_layer.bias', tensor([0.0920]))])\n",
            "Epoch 160 - Loss 0.008841072209179401 - Test loss 0.022161072120070457\n",
            "OrderedDict([('linear_layer.weight', tensor([[0.6841]])), ('linear_layer.bias', tensor([0.0920]))])\n",
            "Epoch 170 - Loss 0.008841072209179401 - Test loss 0.022161072120070457\n",
            "OrderedDict([('linear_layer.weight', tensor([[0.6841]])), ('linear_layer.bias', tensor([0.0920]))])\n",
            "Epoch 180 - Loss 0.008841072209179401 - Test loss 0.022161072120070457\n",
            "OrderedDict([('linear_layer.weight', tensor([[0.6841]])), ('linear_layer.bias', tensor([0.0920]))])\n",
            "Epoch 190 - Loss 0.008841072209179401 - Test loss 0.022161072120070457\n",
            "OrderedDict([('linear_layer.weight', tensor([[0.6841]])), ('linear_layer.bias', tensor([0.0920]))])\n"
          ]
        }
      ]
    },
    {
      "cell_type": "code",
      "source": [
        "plt.plot(X_train,y_train)\n",
        "plt.plot(X_test,y_test)\n",
        "plt.plot(X_test,y_pred_n)"
      ],
      "metadata": {
        "colab": {
          "base_uri": "https://localhost:8080/",
          "height": 447
        },
        "id": "ieuzNHTYJ7l-",
        "outputId": "2495999f-64fa-4c07-b5bc-f0927d53275d"
      },
      "execution_count": 11,
      "outputs": [
        {
          "output_type": "execute_result",
          "data": {
            "text/plain": [
              "[<matplotlib.lines.Line2D at 0x7b6e6fc31f00>]"
            ]
          },
          "metadata": {},
          "execution_count": 11
        },
        {
          "output_type": "display_data",
          "data": {
            "text/plain": [
              "<Figure size 640x480 with 1 Axes>"
            ],
            "image/png": "[encoded data removed]"
          },
          "metadata": {}
        }
      ]
    },
    {
      "cell_type": "code",
      "source": [
        "plt.plot(epoch_val,torch.tensor(loss_val).numpy(), label=\"Train loss\")\n",
        "plt.plot(epoch_val,torch.tensor(test_loss_val).numpy(), label=\"Test loss\")\n",
        "plt.title(\"Model train & test loss\")\n",
        "plt.legend()"
      ],
      "metadata": {
        "colab": {
          "base_uri": "https://localhost:8080/",
          "height": 469
        },
        "id": "QCzcqHfzJEC6",
        "outputId": "dc49b104-7acf-4b12-edac-ed538442b696"
      },
      "execution_count": 12,
      "outputs": [
        {
          "output_type": "execute_result",
          "data": {
            "text/plain": [
              "<matplotlib.legend.Legend at 0x7b6e6fc83cd0>"
            ]
          },
          "metadata": {},
          "execution_count": 12
        },
        {
          "output_type": "display_data",
          "data": {
            "text/plain": [
              "<Figure size 640x480 with 1 Axes>"
            ],
            "image/png": "[encoded data removed]"
          },
          "metadata": {}
        }
      ]
    },
    {
      "cell_type": "code",
      "source": [
        "!mkdir models\n",
        "torch.save(obj=model_1.state_dict(),\n",
        "           f=\"models/pytorch_model_1.pth\")"
      ],
      "metadata": {
        "id": "qPgoKO4DJa60"
      },
      "execution_count": 14,
      "outputs": []
    },
    {
      "cell_type": "code",
      "source": [
        "load_model_1 = LinearRegressionModelV2()\n",
        "print(load_model_1.state_dict())\n",
        "load_model_1.load_state_dict(torch.load(\"models/pytorch_model_1.pth\"))\n",
        "print(load_model_1.state_dict())"
      ],
      "metadata": {
        "colab": {
          "base_uri": "https://localhost:8080/"
        },
        "id": "vll8VBFJKo_l",
        "outputId": "2fd497a2-600c-4346-919e-2728cc3da1c4"
      },
      "execution_count": 15,
      "outputs": [
        {
          "output_type": "stream",
          "name": "stdout",
          "text": [
            "OrderedDict([('linear_layer.weight', tensor([[-0.2343]])), ('linear_layer.bias', tensor([0.9186]))])\n",
            "OrderedDict([('linear_layer.weight', tensor([[0.6919]])), ('linear_layer.bias', tensor([0.1120]))])\n"
          ]
        }
      ]
    },
    {
      "cell_type": "code",
      "source": [],
      "metadata": {
        "id": "E1gbrGnrK6Tk"
      },
      "execution_count": 135,
      "outputs": []
    }
  ]
}