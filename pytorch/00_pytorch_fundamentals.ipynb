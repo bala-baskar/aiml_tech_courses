{
  "nbformat": 4,
  "nbformat_minor": 0,
  "metadata": {
    "colab": {
      "provenance": [],
      "authorship_tag": "ABX9TyNQfq3QKA2jhdugmcEU4ZIb",
      "include_colab_link": true
    },
    "kernelspec": {
      "name": "python3",
      "display_name": "Python 3"
    },
    "language_info": {
      "name": "python"
    }
  },
  "cells": [
    {
      "cell_type": "markdown",
      "metadata": {
        "id": "view-in-github",
        "colab_type": "text"
      },
      "source": [
        "<a href=\"https://colab.research.google.com/github/bala-baskar/aiml_tech_courses/blob/main/pytorch/00_pytorch_fundamentals.ipynb\" target=\"_parent\"><img src=\"https://colab.research.google.com/assets/colab-badge.svg\" alt=\"Open In Colab\"/></a>"
      ]
    },
    {
      "cell_type": "markdown",
      "source": [
        "## Import libraries"
      ],
      "metadata": {
        "id": "UHb_MilmcRwn"
      }
    },
    {
      "cell_type": "code",
      "execution_count": null,
      "metadata": {
        "colab": {
          "base_uri": "https://localhost:8080/"
        },
        "id": "wlos-CMsasUc",
        "outputId": "a4ad3983-b31f-48e7-e7bc-454959fa00a7"
      },
      "outputs": [
        {
          "output_type": "stream",
          "name": "stdout",
          "text": [
            "2.1.0+cu121\n"
          ]
        }
      ],
      "source": [
        "import pandas as pd\n",
        "import numpy as np\n",
        "import matplotlib.pyplot as plt\n",
        "import torch\n",
        "\n",
        "print(torch.__version__)"
      ]
    },
    {
      "cell_type": "markdown",
      "source": [
        "## Introduction to Tensors"
      ],
      "metadata": {
        "id": "DYe_NBnucV9B"
      }
    },
    {
      "cell_type": "code",
      "source": [
        "# scalar\n",
        "scalar = torch.tensor(7)\n",
        "scalar\n"
      ],
      "metadata": {
        "colab": {
          "base_uri": "https://localhost:8080/"
        },
        "id": "7e884twabcZB",
        "outputId": "bef90bd6-27ab-467d-e900-24ba6b6cec2e"
      },
      "execution_count": null,
      "outputs": [
        {
          "output_type": "execute_result",
          "data": {
            "text/plain": [
              "tensor(7)"
            ]
          },
          "metadata": {},
          "execution_count": 2
        }
      ]
    },
    {
      "cell_type": "code",
      "source": [
        "scalar.ndim, scalar.item()"
      ],
      "metadata": {
        "colab": {
          "base_uri": "https://localhost:8080/"
        },
        "id": "zfT3PIRtccKK",
        "outputId": "d7cd3e89-21ab-4395-84c1-00c001b33ff2"
      },
      "execution_count": null,
      "outputs": [
        {
          "output_type": "execute_result",
          "data": {
            "text/plain": [
              "(0, 7)"
            ]
          },
          "metadata": {},
          "execution_count": 3
        }
      ]
    },
    {
      "cell_type": "code",
      "source": [
        "# vector\n",
        "vector = torch.tensor([10,4])\n",
        "vector"
      ],
      "metadata": {
        "colab": {
          "base_uri": "https://localhost:8080/"
        },
        "id": "ru0zAXAldANh",
        "outputId": "2db745aa-207a-42f5-af30-7aab67bf0127"
      },
      "execution_count": null,
      "outputs": [
        {
          "output_type": "execute_result",
          "data": {
            "text/plain": [
              "tensor([10,  4])"
            ]
          },
          "metadata": {},
          "execution_count": 4
        }
      ]
    },
    {
      "cell_type": "code",
      "source": [
        "vector.ndim"
      ],
      "metadata": {
        "colab": {
          "base_uri": "https://localhost:8080/"
        },
        "id": "EBj0e4Rcddq-",
        "outputId": "e5d21aa4-f119-4c5a-b6c6-fcd87f380f0f"
      },
      "execution_count": null,
      "outputs": [
        {
          "output_type": "execute_result",
          "data": {
            "text/plain": [
              "1"
            ]
          },
          "metadata": {},
          "execution_count": 5
        }
      ]
    },
    {
      "cell_type": "code",
      "source": [
        "vector.shape"
      ],
      "metadata": {
        "colab": {
          "base_uri": "https://localhost:8080/"
        },
        "id": "vGzmacimdiLn",
        "outputId": "5bfbd943-fb07-4738-c12b-3169174c14c9"
      },
      "execution_count": null,
      "outputs": [
        {
          "output_type": "execute_result",
          "data": {
            "text/plain": [
              "torch.Size([2])"
            ]
          },
          "metadata": {},
          "execution_count": 6
        }
      ]
    },
    {
      "cell_type": "code",
      "source": [
        "# Matrix\n",
        "\n",
        "MATRIX = torch.tensor([[10,2],[4,6]])\n",
        "MATRIX"
      ],
      "metadata": {
        "colab": {
          "base_uri": "https://localhost:8080/"
        },
        "id": "8mDMeEu9dk_5",
        "outputId": "2e1ed2c1-864f-4e5c-c85f-d39ad41c9a0d"
      },
      "execution_count": null,
      "outputs": [
        {
          "output_type": "execute_result",
          "data": {
            "text/plain": [
              "tensor([[10,  2],\n",
              "        [ 4,  6]])"
            ]
          },
          "metadata": {},
          "execution_count": 11
        }
      ]
    },
    {
      "cell_type": "code",
      "source": [
        "MATRIX.shape, MATRIX.ndim"
      ],
      "metadata": {
        "colab": {
          "base_uri": "https://localhost:8080/"
        },
        "id": "1CcUBgZHd3uy",
        "outputId": "95fd1e53-d1bf-4105-f585-4d470790e8ab"
      },
      "execution_count": null,
      "outputs": [
        {
          "output_type": "execute_result",
          "data": {
            "text/plain": [
              "(torch.Size([2, 2]), 2)"
            ]
          },
          "metadata": {},
          "execution_count": 13
        }
      ]
    },
    {
      "cell_type": "code",
      "source": [
        "MATRIX[0][1]"
      ],
      "metadata": {
        "colab": {
          "base_uri": "https://localhost:8080/"
        },
        "id": "2zKd-ny-d8mW",
        "outputId": "1b6e3599-fb93-4496-814d-71b2b97579f3"
      },
      "execution_count": null,
      "outputs": [
        {
          "output_type": "execute_result",
          "data": {
            "text/plain": [
              "tensor(2)"
            ]
          },
          "metadata": {},
          "execution_count": 15
        }
      ]
    },
    {
      "cell_type": "code",
      "source": [
        "# Tensor\n",
        "\n",
        "tensor = torch.tensor([[[1,2,3],\n",
        "                       [3,4,5],\n",
        "                       [4,5,6]]])\n",
        "tensor"
      ],
      "metadata": {
        "colab": {
          "base_uri": "https://localhost:8080/"
        },
        "id": "erbTWddfeG6e",
        "outputId": "7f6d95c5-9117-494f-9f28-e57a5de7503a"
      },
      "execution_count": null,
      "outputs": [
        {
          "output_type": "execute_result",
          "data": {
            "text/plain": [
              "tensor([[[1, 2, 3],\n",
              "         [3, 4, 5],\n",
              "         [4, 5, 6]]])"
            ]
          },
          "metadata": {},
          "execution_count": 16
        }
      ]
    },
    {
      "cell_type": "code",
      "source": [
        "tensor.ndim, tensor.shape"
      ],
      "metadata": {
        "colab": {
          "base_uri": "https://localhost:8080/"
        },
        "id": "1mUEUjWvefml",
        "outputId": "24c17a51-f0cf-4daf-deab-ce05dba2f192"
      },
      "execution_count": null,
      "outputs": [
        {
          "output_type": "execute_result",
          "data": {
            "text/plain": [
              "(3, torch.Size([1, 3, 3]))"
            ]
          },
          "metadata": {},
          "execution_count": 17
        }
      ]
    },
    {
      "cell_type": "code",
      "source": [
        "tensor[0][1][2] = 10"
      ],
      "metadata": {
        "id": "sKxDypSherrT"
      },
      "execution_count": null,
      "outputs": []
    },
    {
      "cell_type": "code",
      "source": [
        "tensor"
      ],
      "metadata": {
        "colab": {
          "base_uri": "https://localhost:8080/"
        },
        "id": "YgxDRj-Meu7C",
        "outputId": "cb2e1102-003e-4a10-8f3c-9414a1109d91"
      },
      "execution_count": null,
      "outputs": [
        {
          "output_type": "execute_result",
          "data": {
            "text/plain": [
              "tensor([[[ 1,  2,  3],\n",
              "         [ 3,  4, 10],\n",
              "         [ 4,  5,  6]]])"
            ]
          },
          "metadata": {},
          "execution_count": 21
        }
      ]
    },
    {
      "cell_type": "code",
      "source": [
        "# Create 4 dimensional tensor\n",
        "\n",
        "tensor_4 = torch.tensor([[[[1,2,3],[2,3,4]]]])\n",
        "print(tensor_4.ndim, tensor_4.shape)"
      ],
      "metadata": {
        "colab": {
          "base_uri": "https://localhost:8080/"
        },
        "id": "XPb28auCAobR",
        "outputId": "0da66ee9-4707-44d0-a502-8a7c33fdd188"
      },
      "execution_count": null,
      "outputs": [
        {
          "output_type": "stream",
          "name": "stdout",
          "text": [
            "4 torch.Size([1, 1, 2, 3])\n"
          ]
        }
      ]
    },
    {
      "cell_type": "markdown",
      "source": [
        "## Random Tensors"
      ],
      "metadata": {
        "id": "7bWz3Lr7fQyA"
      }
    },
    {
      "cell_type": "code",
      "source": [
        "random_tensor = torch.rand(3,4,4)\n",
        "random_tensor"
      ],
      "metadata": {
        "colab": {
          "base_uri": "https://localhost:8080/"
        },
        "id": "-Yi66SNdfN94",
        "outputId": "fea0175f-1a44-4086-be71-f52b244dfaa7"
      },
      "execution_count": null,
      "outputs": [
        {
          "output_type": "execute_result",
          "data": {
            "text/plain": [
              "tensor([[[0.5152, 0.7787, 0.0871, 0.8001],\n",
              "         [0.5789, 0.5259, 0.9271, 0.4165],\n",
              "         [0.6558, 0.4168, 0.9528, 0.4487],\n",
              "         [0.5135, 0.3161, 0.4612, 0.1427]],\n",
              "\n",
              "        [[0.8005, 0.2428, 0.9780, 0.5108],\n",
              "         [0.5347, 0.5453, 0.2820, 0.0273],\n",
              "         [0.4749, 0.5715, 0.9218, 0.2357],\n",
              "         [0.1780, 0.8987, 0.1814, 0.0804]],\n",
              "\n",
              "        [[0.2944, 0.0967, 0.0686, 0.7712],\n",
              "         [0.7265, 0.9684, 0.0779, 0.2411],\n",
              "         [0.7911, 0.2088, 0.1703, 0.7394],\n",
              "         [0.6599, 0.9235, 0.7430, 0.9580]]])"
            ]
          },
          "metadata": {},
          "execution_count": 22
        }
      ]
    },
    {
      "cell_type": "code",
      "source": [
        "random_tensor.ndim, random_tensor.shape"
      ],
      "metadata": {
        "colab": {
          "base_uri": "https://localhost:8080/"
        },
        "id": "dK7Vmgqsf5AE",
        "outputId": "fa568782-77cf-452b-e168-285d91126265"
      },
      "execution_count": null,
      "outputs": [
        {
          "output_type": "execute_result",
          "data": {
            "text/plain": [
              "(3, torch.Size([3, 4, 4]))"
            ]
          },
          "metadata": {},
          "execution_count": 24
        }
      ]
    },
    {
      "cell_type": "markdown",
      "source": [
        "## Zeros and ones"
      ],
      "metadata": {
        "id": "jqa9sYzCg4gK"
      }
    },
    {
      "cell_type": "code",
      "source": [
        "zeros = torch.zeros(size=(3,3))\n",
        "zeros"
      ],
      "metadata": {
        "colab": {
          "base_uri": "https://localhost:8080/"
        },
        "id": "gWjnfaw2f7b4",
        "outputId": "95701668-9a52-45a1-b18f-bdcc2a10b9eb"
      },
      "execution_count": null,
      "outputs": [
        {
          "output_type": "execute_result",
          "data": {
            "text/plain": [
              "tensor([[0., 0., 0.],\n",
              "        [0., 0., 0.],\n",
              "        [0., 0., 0.]])"
            ]
          },
          "metadata": {},
          "execution_count": 25
        }
      ]
    },
    {
      "cell_type": "code",
      "source": [
        "ones = torch.ones(size=(3,3))\n",
        "ones"
      ],
      "metadata": {
        "colab": {
          "base_uri": "https://localhost:8080/"
        },
        "id": "evfLUiCsg-kE",
        "outputId": "cc2747ef-4f2a-4cdb-968c-b745721fe98e"
      },
      "execution_count": null,
      "outputs": [
        {
          "output_type": "execute_result",
          "data": {
            "text/plain": [
              "tensor([[1., 1., 1.],\n",
              "        [1., 1., 1.],\n",
              "        [1., 1., 1.]])"
            ]
          },
          "metadata": {},
          "execution_count": 26
        }
      ]
    },
    {
      "cell_type": "code",
      "source": [
        "zeros + ones * 5"
      ],
      "metadata": {
        "colab": {
          "base_uri": "https://localhost:8080/"
        },
        "id": "fJTTDC5AhHVZ",
        "outputId": "e2a20d45-9acd-4ffb-dc31-f2d60a830ea8"
      },
      "execution_count": null,
      "outputs": [
        {
          "output_type": "execute_result",
          "data": {
            "text/plain": [
              "tensor([[5., 5., 5.],\n",
              "        [5., 5., 5.],\n",
              "        [5., 5., 5.]])"
            ]
          },
          "metadata": {},
          "execution_count": 28
        }
      ]
    },
    {
      "cell_type": "code",
      "source": [
        "ones.dtype"
      ],
      "metadata": {
        "colab": {
          "base_uri": "https://localhost:8080/"
        },
        "id": "HvQjvsMBhNBA",
        "outputId": "2b09d68c-59b6-4cc2-fb14-cb1f122ac140"
      },
      "execution_count": null,
      "outputs": [
        {
          "output_type": "execute_result",
          "data": {
            "text/plain": [
              "torch.float32"
            ]
          },
          "metadata": {},
          "execution_count": 29
        }
      ]
    },
    {
      "cell_type": "markdown",
      "source": [
        "## Create range and tensor like"
      ],
      "metadata": {
        "id": "K8mNlXyBhl9d"
      }
    },
    {
      "cell_type": "code",
      "source": [
        "range_tensors = torch.arange(1,10)\n",
        "range_tensors"
      ],
      "metadata": {
        "colab": {
          "base_uri": "https://localhost:8080/"
        },
        "id": "EElcD-3BhR7P",
        "outputId": "b88eb1ac-026d-4b75-b71a-d8ca9e68b686"
      },
      "execution_count": null,
      "outputs": [
        {
          "output_type": "execute_result",
          "data": {
            "text/plain": [
              "tensor([1, 2, 3, 4, 5, 6, 7, 8, 9])"
            ]
          },
          "metadata": {},
          "execution_count": 30
        }
      ]
    },
    {
      "cell_type": "code",
      "source": [
        "range_1_100_5 = torch.arange(1,100,5)\n",
        "range_1_100_5"
      ],
      "metadata": {
        "colab": {
          "base_uri": "https://localhost:8080/"
        },
        "id": "D5yRXE7chr0R",
        "outputId": "49718515-36c8-401c-bf81-c17b581b3048"
      },
      "execution_count": null,
      "outputs": [
        {
          "output_type": "execute_result",
          "data": {
            "text/plain": [
              "tensor([ 1,  6, 11, 16, 21, 26, 31, 36, 41, 46, 51, 56, 61, 66, 71, 76, 81, 86,\n",
              "        91, 96])"
            ]
          },
          "metadata": {},
          "execution_count": 31
        }
      ]
    },
    {
      "cell_type": "code",
      "source": [
        "# creating tensors like\n",
        "tensor_like = torch.zeros_like(input=range_tensors)\n",
        "#tensor_like = torch.ones_like(input=range_tensors)\n",
        "tensor_like"
      ],
      "metadata": {
        "colab": {
          "base_uri": "https://localhost:8080/"
        },
        "id": "JVYzEGurh07A",
        "outputId": "81cd740e-8f12-4332-c731-b2ea4f1b65fa"
      },
      "execution_count": null,
      "outputs": [
        {
          "output_type": "execute_result",
          "data": {
            "text/plain": [
              "tensor([1, 1, 1, 1, 1, 1, 1, 1, 1])"
            ]
          },
          "metadata": {},
          "execution_count": 33
        }
      ]
    },
    {
      "cell_type": "markdown",
      "source": [
        "## Tensor data type"
      ],
      "metadata": {
        "id": "vVmSPfkMiT5N"
      }
    },
    {
      "cell_type": "code",
      "source": [
        "tensor_1 = torch.tensor([2.0,3.0,1.0],\n",
        "                        dtype=torch.float16,\n",
        "                        device=\"cpu\",\n",
        "                        requires_grad=False)\n",
        "tensor_1"
      ],
      "metadata": {
        "colab": {
          "base_uri": "https://localhost:8080/"
        },
        "id": "L_6cOwu-iIVe",
        "outputId": "72d5c928-bf9d-49f6-9e91-ad893fe271c4"
      },
      "execution_count": null,
      "outputs": [
        {
          "output_type": "execute_result",
          "data": {
            "text/plain": [
              "tensor([2., 3., 1.], dtype=torch.float16)"
            ]
          },
          "metadata": {},
          "execution_count": 41
        }
      ]
    },
    {
      "cell_type": "code",
      "source": [
        "tensor_1.type(torch.float32).dtype"
      ],
      "metadata": {
        "colab": {
          "base_uri": "https://localhost:8080/"
        },
        "id": "yD7e53ZFihWD",
        "outputId": "f0ed732f-7557-400b-8c00-cb3e8cfeeaff"
      },
      "execution_count": null,
      "outputs": [
        {
          "output_type": "execute_result",
          "data": {
            "text/plain": [
              "torch.float32"
            ]
          },
          "metadata": {},
          "execution_count": 43
        }
      ]
    },
    {
      "cell_type": "code",
      "source": [
        "tensor_1.dtype, tensor_1.shape, tensor_1.device"
      ],
      "metadata": {
        "colab": {
          "base_uri": "https://localhost:8080/"
        },
        "id": "2Y9eLKOoil3M",
        "outputId": "1af4722d-2091-42e4-a888-aff856acb40c"
      },
      "execution_count": null,
      "outputs": [
        {
          "output_type": "execute_result",
          "data": {
            "text/plain": [
              "(torch.float16, torch.Size([3]), device(type='cpu'))"
            ]
          },
          "metadata": {},
          "execution_count": 44
        }
      ]
    },
    {
      "cell_type": "markdown",
      "source": [
        "## Manipulating tensors"
      ],
      "metadata": {
        "id": "VYnW2INiltKW"
      }
    },
    {
      "cell_type": "code",
      "source": [
        "tensor_1 = torch.rand(3,4)\n",
        "tensor_2 = torch.rand(3,4)\n",
        "tensor_1, tensor_2"
      ],
      "metadata": {
        "colab": {
          "base_uri": "https://localhost:8080/"
        },
        "id": "xOMbVFJAk-KP",
        "outputId": "b2fa01e6-174d-4f06-8dc5-a547e3bbf298"
      },
      "execution_count": null,
      "outputs": [
        {
          "output_type": "execute_result",
          "data": {
            "text/plain": [
              "(tensor([[0.9336, 0.1272, 0.5977, 0.9558],\n",
              "         [0.0528, 0.0547, 0.6844, 0.6346],\n",
              "         [0.0774, 0.9631, 0.3322, 0.6970]]),\n",
              " tensor([[0.3271, 0.1307, 0.3003, 0.2674],\n",
              "         [0.9873, 0.9378, 0.5347, 0.5788],\n",
              "         [0.1532, 0.7754, 0.0302, 0.2143]]))"
            ]
          },
          "metadata": {},
          "execution_count": 45
        }
      ]
    },
    {
      "cell_type": "code",
      "source": [
        "tensor_1 + tensor_2"
      ],
      "metadata": {
        "colab": {
          "base_uri": "https://localhost:8080/"
        },
        "id": "iSr7x7WJmJCh",
        "outputId": "a609b3c1-3be9-4750-c738-3f5bc02cdef4"
      },
      "execution_count": null,
      "outputs": [
        {
          "output_type": "execute_result",
          "data": {
            "text/plain": [
              "tensor([[1.2607, 0.2579, 0.8980, 1.2232],\n",
              "        [1.0401, 0.9925, 1.2192, 1.2134],\n",
              "        [0.2306, 1.7385, 0.3624, 0.9113]])"
            ]
          },
          "metadata": {},
          "execution_count": 46
        }
      ]
    },
    {
      "cell_type": "code",
      "source": [
        "tensor_1 - tensor_2"
      ],
      "metadata": {
        "colab": {
          "base_uri": "https://localhost:8080/"
        },
        "id": "NbU_BamlmL_X",
        "outputId": "1ac1085e-7307-4459-f224-c1a57d87a138"
      },
      "execution_count": null,
      "outputs": [
        {
          "output_type": "execute_result",
          "data": {
            "text/plain": [
              "tensor([[ 0.6064, -0.0036,  0.2974,  0.6884],\n",
              "        [-0.9345, -0.8831,  0.1497,  0.0558],\n",
              "        [-0.0758,  0.1878,  0.3021,  0.4827]])"
            ]
          },
          "metadata": {},
          "execution_count": 47
        }
      ]
    },
    {
      "cell_type": "code",
      "source": [
        "tensor_1 * tensor_2"
      ],
      "metadata": {
        "colab": {
          "base_uri": "https://localhost:8080/"
        },
        "id": "UfS5xCtKmNqA",
        "outputId": "b715e312-ab58-4bd6-bf83-9020c389088b"
      },
      "execution_count": null,
      "outputs": [
        {
          "output_type": "execute_result",
          "data": {
            "text/plain": [
              "tensor([[0.3054, 0.0166, 0.1795, 0.2556],\n",
              "        [0.0522, 0.0513, 0.3660, 0.3673],\n",
              "        [0.0119, 0.7468, 0.0100, 0.1494]])"
            ]
          },
          "metadata": {},
          "execution_count": 48
        }
      ]
    },
    {
      "cell_type": "code",
      "source": [
        "tensor_1 / tensor_2"
      ],
      "metadata": {
        "colab": {
          "base_uri": "https://localhost:8080/"
        },
        "id": "xR8OVhZHmPZP",
        "outputId": "75cadac2-47f4-49f0-867b-7cd1089c47ff"
      },
      "execution_count": null,
      "outputs": [
        {
          "output_type": "execute_result",
          "data": {
            "text/plain": [
              "tensor([[ 2.8538,  0.9727,  1.9905,  3.5742],\n",
              "        [ 0.0535,  0.0583,  1.2799,  1.0965],\n",
              "        [ 0.5053,  1.2422, 11.0176,  3.2522]])"
            ]
          },
          "metadata": {},
          "execution_count": 49
        }
      ]
    },
    {
      "cell_type": "code",
      "source": [
        "torch.add(tensor_1, 10)"
      ],
      "metadata": {
        "colab": {
          "base_uri": "https://localhost:8080/"
        },
        "id": "fiIGhpw1mUPV",
        "outputId": "d4dd968b-c327-4030-8813-bd50a3c607d1"
      },
      "execution_count": null,
      "outputs": [
        {
          "output_type": "execute_result",
          "data": {
            "text/plain": [
              "tensor([[10.9336, 10.1272, 10.5977, 10.9558],\n",
              "        [10.0528, 10.0547, 10.6844, 10.6346],\n",
              "        [10.0774, 10.9631, 10.3322, 10.6970]])"
            ]
          },
          "metadata": {},
          "execution_count": 51
        }
      ]
    },
    {
      "cell_type": "code",
      "source": [
        "torch.subtract(tensor_2, 5)"
      ],
      "metadata": {
        "colab": {
          "base_uri": "https://localhost:8080/"
        },
        "id": "RAUUcON9mhmf",
        "outputId": "a73e8a99-812d-483a-aeea-6ace9f0351b8"
      },
      "execution_count": null,
      "outputs": [
        {
          "output_type": "execute_result",
          "data": {
            "text/plain": [
              "tensor([[-4.6729, -4.8693, -4.6997, -4.7326],\n",
              "        [-4.0127, -4.0622, -4.4653, -4.4212],\n",
              "        [-4.8468, -4.2246, -4.9698, -4.7857]])"
            ]
          },
          "metadata": {},
          "execution_count": 52
        }
      ]
    },
    {
      "cell_type": "code",
      "source": [
        "torch.mul(tensor_1, 2)"
      ],
      "metadata": {
        "colab": {
          "base_uri": "https://localhost:8080/"
        },
        "id": "bzqQuDZ1mtge",
        "outputId": "60a4588f-31a5-43b8-a571-6439919debc8"
      },
      "execution_count": null,
      "outputs": [
        {
          "output_type": "execute_result",
          "data": {
            "text/plain": [
              "tensor([[1.8672, 0.2543, 1.1954, 1.9116],\n",
              "        [0.1056, 0.1094, 1.3689, 1.2692],\n",
              "        [0.1548, 1.9263, 0.6645, 1.3940]])"
            ]
          },
          "metadata": {},
          "execution_count": 54
        }
      ]
    },
    {
      "cell_type": "code",
      "source": [
        "tensor_1.mul(2)"
      ],
      "metadata": {
        "colab": {
          "base_uri": "https://localhost:8080/"
        },
        "id": "CL32HV6EmwIj",
        "outputId": "83e99174-3069-42c0-bfb0-c5e5d49abf87"
      },
      "execution_count": null,
      "outputs": [
        {
          "output_type": "execute_result",
          "data": {
            "text/plain": [
              "tensor([[1.8672, 0.2543, 1.1954, 1.9116],\n",
              "        [0.1056, 0.1094, 1.3689, 1.2692],\n",
              "        [0.1548, 1.9263, 0.6645, 1.3940]])"
            ]
          },
          "metadata": {},
          "execution_count": 55
        }
      ]
    },
    {
      "cell_type": "code",
      "source": [
        "torch.matmul(tensor_1.T,tensor_2)"
      ],
      "metadata": {
        "colab": {
          "base_uri": "https://localhost:8080/"
        },
        "id": "70mAcMmAm3fa",
        "outputId": "7076cd77-9967-4944-ff88-18913cdc5add"
      },
      "execution_count": null,
      "outputs": [
        {
          "output_type": "execute_result",
          "data": {
            "text/plain": [
              "tensor([[0.3694, 0.2316, 0.3109, 0.2968],\n",
              "        [0.2432, 0.8147, 0.0965, 0.2721],\n",
              "        [0.9222, 0.9776, 0.5555, 0.6272],\n",
              "        [1.0460, 1.2605, 0.6474, 0.7722]])"
            ]
          },
          "metadata": {},
          "execution_count": 60
        }
      ]
    },
    {
      "cell_type": "code",
      "source": [
        "tensor_1.T.matmul(tensor_2)"
      ],
      "metadata": {
        "colab": {
          "base_uri": "https://localhost:8080/"
        },
        "id": "b3VVeBV5m7Ho",
        "outputId": "c012e02b-aaf7-4ecb-cb16-0f1457d0faab"
      },
      "execution_count": null,
      "outputs": [
        {
          "output_type": "execute_result",
          "data": {
            "text/plain": [
              "tensor([[0.3694, 0.2316, 0.3109, 0.2968],\n",
              "        [0.2432, 0.8147, 0.0965, 0.2721],\n",
              "        [0.9222, 0.9776, 0.5555, 0.6272],\n",
              "        [1.0460, 1.2605, 0.6474, 0.7722]])"
            ]
          },
          "metadata": {},
          "execution_count": 61
        }
      ]
    },
    {
      "cell_type": "code",
      "source": [
        "torch.sum(tensor_1.T.matmul(tensor_2))"
      ],
      "metadata": {
        "colab": {
          "base_uri": "https://localhost:8080/"
        },
        "id": "9khDDe8lnlNE",
        "outputId": "9e9d3df9-9c5c-4171-8783-4d1e037cfc49"
      },
      "execution_count": null,
      "outputs": [
        {
          "output_type": "execute_result",
          "data": {
            "text/plain": [
              "tensor(9.4439)"
            ]
          },
          "metadata": {},
          "execution_count": 65
        }
      ]
    },
    {
      "cell_type": "code",
      "source": [
        "tensor_1 = torch.rand(3,3)\n",
        "tensor_1"
      ],
      "metadata": {
        "colab": {
          "base_uri": "https://localhost:8080/"
        },
        "id": "VjVn5X1Xhe0y",
        "outputId": "37c362a5-004f-47f7-f47b-286aeadddd06"
      },
      "execution_count": null,
      "outputs": [
        {
          "output_type": "execute_result",
          "data": {
            "text/plain": [
              "tensor([[0.8188, 0.8531, 0.7147],\n",
              "        [0.4068, 0.2145, 0.6191],\n",
              "        [0.6316, 0.7110, 0.0488]])"
            ]
          },
          "metadata": {},
          "execution_count": 8
        }
      ]
    },
    {
      "cell_type": "code",
      "source": [
        "tensor_1.min(), tensor_1.max()"
      ],
      "metadata": {
        "colab": {
          "base_uri": "https://localhost:8080/"
        },
        "id": "QwEvEzw6hi-z",
        "outputId": "3e33d3e2-e494-4769-b665-03a054ecef40"
      },
      "execution_count": null,
      "outputs": [
        {
          "output_type": "execute_result",
          "data": {
            "text/plain": [
              "(tensor(0.0488), tensor(0.8531))"
            ]
          },
          "metadata": {},
          "execution_count": 9
        }
      ]
    },
    {
      "cell_type": "code",
      "source": [
        "tensor_1.argmin(), tensor_1.argmax()"
      ],
      "metadata": {
        "colab": {
          "base_uri": "https://localhost:8080/"
        },
        "id": "3awMX9FQhmti",
        "outputId": "03ba2ebc-b8ed-482b-cc99-47e8ec4f2286"
      },
      "execution_count": null,
      "outputs": [
        {
          "output_type": "execute_result",
          "data": {
            "text/plain": [
              "(tensor(8), tensor(1))"
            ]
          },
          "metadata": {},
          "execution_count": 10
        }
      ]
    },
    {
      "cell_type": "markdown",
      "source": [
        "## Reshaping, viewing, squeeze & unsqueeze"
      ],
      "metadata": {
        "id": "-TJdprR7g98V"
      }
    },
    {
      "cell_type": "code",
      "source": [
        "tensor_1 = torch.arange(1,10)\n",
        "tensor_1"
      ],
      "metadata": {
        "id": "Ix3CUpwanppO",
        "colab": {
          "base_uri": "https://localhost:8080/"
        },
        "outputId": "258d190a-0e26-4f9e-97da-f87636e1e599"
      },
      "execution_count": null,
      "outputs": [
        {
          "output_type": "execute_result",
          "data": {
            "text/plain": [
              "tensor([1, 2, 3, 4, 5, 6, 7, 8, 9])"
            ]
          },
          "metadata": {},
          "execution_count": 11
        }
      ]
    },
    {
      "cell_type": "code",
      "source": [
        "tensor_3_3 = tensor_1.reshape(3,3)\n",
        "tensor_3_3, tensor_3_3.shape"
      ],
      "metadata": {
        "colab": {
          "base_uri": "https://localhost:8080/"
        },
        "id": "s0NAwmvFhGkD",
        "outputId": "24d70b14-03b6-499a-d801-0a610a31dd69"
      },
      "execution_count": null,
      "outputs": [
        {
          "output_type": "execute_result",
          "data": {
            "text/plain": [
              "(tensor([[1, 2, 3],\n",
              "         [4, 5, 6],\n",
              "         [7, 8, 9]]),\n",
              " torch.Size([3, 3]))"
            ]
          },
          "metadata": {},
          "execution_count": 13
        }
      ]
    },
    {
      "cell_type": "code",
      "source": [
        "z = tensor_3_3.view(1,9)\n",
        "tensor_3_3, z"
      ],
      "metadata": {
        "colab": {
          "base_uri": "https://localhost:8080/"
        },
        "id": "XBD32e70hbhv",
        "outputId": "9b5d4a6f-71fa-49bd-bca0-7205a988053a"
      },
      "execution_count": null,
      "outputs": [
        {
          "output_type": "execute_result",
          "data": {
            "text/plain": [
              "(tensor([[1, 2, 3],\n",
              "         [4, 5, 6],\n",
              "         [7, 8, 9]]),\n",
              " tensor([[1, 2, 3, 4, 5, 6, 7, 8, 9]]))"
            ]
          },
          "metadata": {},
          "execution_count": 14
        }
      ]
    },
    {
      "cell_type": "code",
      "source": [
        "torch.stack([z,z,z],dim=0).shape"
      ],
      "metadata": {
        "colab": {
          "base_uri": "https://localhost:8080/"
        },
        "id": "_a9zjQDUhcfl",
        "outputId": "b2dcb350-e857-4191-f9d7-09c997a106b0"
      },
      "execution_count": null,
      "outputs": [
        {
          "output_type": "execute_result",
          "data": {
            "text/plain": [
              "torch.Size([3, 1, 9])"
            ]
          },
          "metadata": {},
          "execution_count": 18
        }
      ]
    },
    {
      "cell_type": "code",
      "source": [
        "torch.stack([z,z,z],dim=1).shape"
      ],
      "metadata": {
        "colab": {
          "base_uri": "https://localhost:8080/"
        },
        "id": "3vYITCK7iWT3",
        "outputId": "e7ea1d4a-1b1e-42ea-98e0-f48b65e27d1d"
      },
      "execution_count": null,
      "outputs": [
        {
          "output_type": "execute_result",
          "data": {
            "text/plain": [
              "torch.Size([1, 3, 9])"
            ]
          },
          "metadata": {},
          "execution_count": 19
        }
      ]
    },
    {
      "cell_type": "code",
      "source": [
        "torch.hstack([z,z,z]).shape"
      ],
      "metadata": {
        "colab": {
          "base_uri": "https://localhost:8080/"
        },
        "id": "1MLT3c6QibGg",
        "outputId": "4ee1f306-5764-4430-c7ee-e5ddee9773f6"
      },
      "execution_count": null,
      "outputs": [
        {
          "output_type": "execute_result",
          "data": {
            "text/plain": [
              "torch.Size([1, 27])"
            ]
          },
          "metadata": {},
          "execution_count": 20
        }
      ]
    },
    {
      "cell_type": "code",
      "source": [
        "torch.vstack([z,z,z]).shape"
      ],
      "metadata": {
        "colab": {
          "base_uri": "https://localhost:8080/"
        },
        "id": "hsnnxfnfihWC",
        "outputId": "23c4129d-27aa-4d06-cc2f-bf17b839949b"
      },
      "execution_count": null,
      "outputs": [
        {
          "output_type": "execute_result",
          "data": {
            "text/plain": [
              "torch.Size([3, 9])"
            ]
          },
          "metadata": {},
          "execution_count": 22
        }
      ]
    },
    {
      "cell_type": "code",
      "source": [
        "x = torch.rand(1,9).reshape(1,9)\n",
        "x"
      ],
      "metadata": {
        "colab": {
          "base_uri": "https://localhost:8080/"
        },
        "id": "LCzC0cPKi6N6",
        "outputId": "b3925209-cce6-4251-c4aa-0a265dad6eea"
      },
      "execution_count": null,
      "outputs": [
        {
          "output_type": "execute_result",
          "data": {
            "text/plain": [
              "tensor([[0.1651, 0.7044, 0.5131, 0.3334, 0.7076, 0.4914, 0.0373, 0.8505, 0.1545]])"
            ]
          },
          "metadata": {},
          "execution_count": 23
        }
      ]
    },
    {
      "cell_type": "code",
      "source": [
        "x.squeeze()"
      ],
      "metadata": {
        "colab": {
          "base_uri": "https://localhost:8080/"
        },
        "id": "QgniShgnpMkH",
        "outputId": "4678308f-49c3-49ee-ea3c-74508534d065"
      },
      "execution_count": null,
      "outputs": [
        {
          "output_type": "execute_result",
          "data": {
            "text/plain": [
              "tensor([0.1651, 0.7044, 0.5131, 0.3334, 0.7076, 0.4914, 0.0373, 0.8505, 0.1545])"
            ]
          },
          "metadata": {},
          "execution_count": 24
        }
      ]
    },
    {
      "cell_type": "code",
      "source": [
        "x.squeeze().shape"
      ],
      "metadata": {
        "colab": {
          "base_uri": "https://localhost:8080/"
        },
        "id": "rW6_pVjVpOwi",
        "outputId": "0bac4de3-5fef-4d0b-8d95-4280d61e86b6"
      },
      "execution_count": null,
      "outputs": [
        {
          "output_type": "execute_result",
          "data": {
            "text/plain": [
              "torch.Size([9])"
            ]
          },
          "metadata": {},
          "execution_count": 26
        }
      ]
    },
    {
      "cell_type": "code",
      "source": [
        "x.unsqueeze(dim=2).shape"
      ],
      "metadata": {
        "colab": {
          "base_uri": "https://localhost:8080/"
        },
        "id": "7u5QkDlJpTRe",
        "outputId": "3533bbe3-bf57-436b-9272-2cab547eface"
      },
      "execution_count": null,
      "outputs": [
        {
          "output_type": "execute_result",
          "data": {
            "text/plain": [
              "torch.Size([1, 9, 1])"
            ]
          },
          "metadata": {},
          "execution_count": 32
        }
      ]
    },
    {
      "cell_type": "markdown",
      "source": [
        "1. squeeze - removes all single dimension from tensor\n",
        "2. unsqueeze - adds single dimension in the given location\n",
        "3. reshape - reshapes the tensor with the given shape\n",
        "4. view - returns a view same as reshape\n",
        "5. hstack - horizontally stack the tensors\n",
        "6. vstack - vertically stack the tensors\n",
        "7. permute - return a view of the input with dimensions permuted (swapped) in a certain way"
      ],
      "metadata": {
        "id": "ju-p5Ps4p5p7"
      }
    },
    {
      "cell_type": "code",
      "source": [
        "#image tensor\n",
        "img = torch.rand(size=(224,224,3))\n",
        "img"
      ],
      "metadata": {
        "colab": {
          "base_uri": "https://localhost:8080/"
        },
        "id": "ESnBa-o6pZwf",
        "outputId": "6d9c17a5-2f00-40d3-9950-ef365d14f095"
      },
      "execution_count": null,
      "outputs": [
        {
          "output_type": "execute_result",
          "data": {
            "text/plain": [
              "tensor([[[0.8533, 0.6861, 0.8365],\n",
              "         [0.5966, 0.3686, 0.8920],\n",
              "         [0.4590, 0.3086, 0.0179],\n",
              "         ...,\n",
              "         [0.8264, 0.3144, 0.4345],\n",
              "         [0.8404, 0.1851, 0.2859],\n",
              "         [0.9031, 0.1780, 0.0488]],\n",
              "\n",
              "        [[0.2191, 0.2494, 0.9397],\n",
              "         [0.1420, 0.2989, 0.9581],\n",
              "         [0.4438, 0.5775, 0.1166],\n",
              "         ...,\n",
              "         [0.9499, 0.2400, 0.3770],\n",
              "         [0.2507, 0.9825, 0.1435],\n",
              "         [0.0035, 0.0547, 0.0361]],\n",
              "\n",
              "        [[0.4767, 0.8956, 0.8948],\n",
              "         [0.6250, 0.5306, 0.4800],\n",
              "         [0.6214, 0.8692, 0.0525],\n",
              "         ...,\n",
              "         [0.8944, 0.8752, 0.5439],\n",
              "         [0.9122, 0.7628, 0.1030],\n",
              "         [0.7901, 0.1777, 0.2620]],\n",
              "\n",
              "        ...,\n",
              "\n",
              "        [[0.9044, 0.9037, 0.9183],\n",
              "         [0.9409, 0.6653, 0.0298],\n",
              "         [0.9871, 0.2303, 0.3166],\n",
              "         ...,\n",
              "         [0.5531, 0.6779, 0.7437],\n",
              "         [0.5088, 0.8547, 0.5010],\n",
              "         [0.7896, 0.9885, 0.8451]],\n",
              "\n",
              "        [[0.0063, 0.7643, 0.8847],\n",
              "         [0.3031, 0.1334, 0.7582],\n",
              "         [0.8990, 0.6203, 0.0814],\n",
              "         ...,\n",
              "         [0.9498, 0.6247, 0.7954],\n",
              "         [0.8997, 0.1474, 0.2361],\n",
              "         [0.4334, 0.9474, 0.5861]],\n",
              "\n",
              "        [[0.4903, 0.9265, 0.6661],\n",
              "         [0.9799, 0.6733, 0.3954],\n",
              "         [0.3032, 0.3381, 0.1780],\n",
              "         ...,\n",
              "         [0.1476, 0.2958, 0.1956],\n",
              "         [0.0955, 0.5354, 0.3624],\n",
              "         [0.6870, 0.6278, 0.2809]]])"
            ]
          },
          "metadata": {},
          "execution_count": 33
        }
      ]
    },
    {
      "cell_type": "code",
      "source": [
        "# change the order of dimension\n",
        "img.permute(2,1,0).shape, img.shape"
      ],
      "metadata": {
        "colab": {
          "base_uri": "https://localhost:8080/"
        },
        "id": "e7yLehigvljp",
        "outputId": "3feba073-9e55-4d30-ba91-839c1f827f05"
      },
      "execution_count": null,
      "outputs": [
        {
          "output_type": "execute_result",
          "data": {
            "text/plain": [
              "(torch.Size([3, 224, 224]), torch.Size([224, 224, 3]))"
            ]
          },
          "metadata": {},
          "execution_count": 36
        }
      ]
    },
    {
      "cell_type": "code",
      "source": [
        "img[0,0,0] = 100\n",
        "img"
      ],
      "metadata": {
        "colab": {
          "base_uri": "https://localhost:8080/"
        },
        "id": "ch1g-Doevw1J",
        "outputId": "2bc250d1-36ef-4b24-8fe2-822a144f40ce"
      },
      "execution_count": null,
      "outputs": [
        {
          "output_type": "execute_result",
          "data": {
            "text/plain": [
              "tensor([[[1.0000e+02, 6.8611e-01, 8.3650e-01],\n",
              "         [5.9659e-01, 3.6857e-01, 8.9200e-01],\n",
              "         [4.5896e-01, 3.0861e-01, 1.7902e-02],\n",
              "         ...,\n",
              "         [8.2636e-01, 3.1439e-01, 4.3454e-01],\n",
              "         [8.4039e-01, 1.8506e-01, 2.8590e-01],\n",
              "         [9.0312e-01, 1.7800e-01, 4.8836e-02]],\n",
              "\n",
              "        [[2.1913e-01, 2.4942e-01, 9.3967e-01],\n",
              "         [1.4203e-01, 2.9887e-01, 9.5810e-01],\n",
              "         [4.4377e-01, 5.7746e-01, 1.1664e-01],\n",
              "         ...,\n",
              "         [9.4985e-01, 2.4001e-01, 3.7701e-01],\n",
              "         [2.5074e-01, 9.8247e-01, 1.4350e-01],\n",
              "         [3.4682e-03, 5.4715e-02, 3.6139e-02]],\n",
              "\n",
              "        [[4.7670e-01, 8.9556e-01, 8.9477e-01],\n",
              "         [6.2498e-01, 5.3063e-01, 4.7999e-01],\n",
              "         [6.2140e-01, 8.6919e-01, 5.2500e-02],\n",
              "         ...,\n",
              "         [8.9438e-01, 8.7515e-01, 5.4391e-01],\n",
              "         [9.1224e-01, 7.6282e-01, 1.0301e-01],\n",
              "         [7.9012e-01, 1.7767e-01, 2.6200e-01]],\n",
              "\n",
              "        ...,\n",
              "\n",
              "        [[9.0442e-01, 9.0365e-01, 9.1829e-01],\n",
              "         [9.4088e-01, 6.6527e-01, 2.9767e-02],\n",
              "         [9.8712e-01, 2.3035e-01, 3.1656e-01],\n",
              "         ...,\n",
              "         [5.5314e-01, 6.7791e-01, 7.4369e-01],\n",
              "         [5.0875e-01, 8.5473e-01, 5.0105e-01],\n",
              "         [7.8956e-01, 9.8851e-01, 8.4509e-01]],\n",
              "\n",
              "        [[6.2560e-03, 7.6434e-01, 8.8468e-01],\n",
              "         [3.0309e-01, 1.3338e-01, 7.5820e-01],\n",
              "         [8.9903e-01, 6.2034e-01, 8.1446e-02],\n",
              "         ...,\n",
              "         [9.4977e-01, 6.2468e-01, 7.9539e-01],\n",
              "         [8.9974e-01, 1.4737e-01, 2.3611e-01],\n",
              "         [4.3336e-01, 9.4740e-01, 5.8609e-01]],\n",
              "\n",
              "        [[4.9030e-01, 9.2654e-01, 6.6613e-01],\n",
              "         [9.7991e-01, 6.7333e-01, 3.9537e-01],\n",
              "         [3.0319e-01, 3.3809e-01, 1.7795e-01],\n",
              "         ...,\n",
              "         [1.4758e-01, 2.9585e-01, 1.9556e-01],\n",
              "         [9.5468e-02, 5.3536e-01, 3.6237e-01],\n",
              "         [6.8697e-01, 6.2782e-01, 2.8091e-01]]])"
            ]
          },
          "metadata": {},
          "execution_count": 37
        }
      ]
    },
    {
      "cell_type": "markdown",
      "source": [
        "## Indexing"
      ],
      "metadata": {
        "id": "JolTZEjoxDLf"
      }
    },
    {
      "cell_type": "code",
      "source": [
        "x = torch.arange(1,10).reshape(1,3,3)\n",
        "x"
      ],
      "metadata": {
        "colab": {
          "base_uri": "https://localhost:8080/"
        },
        "id": "sRt2h8F5weB7",
        "outputId": "30cec56b-af7d-4e04-8930-1919e7fa4be4"
      },
      "execution_count": null,
      "outputs": [
        {
          "output_type": "execute_result",
          "data": {
            "text/plain": [
              "tensor([[[1, 2, 3],\n",
              "         [4, 5, 6],\n",
              "         [7, 8, 9]]])"
            ]
          },
          "metadata": {},
          "execution_count": 38
        }
      ]
    },
    {
      "cell_type": "code",
      "source": [
        "x[0]"
      ],
      "metadata": {
        "colab": {
          "base_uri": "https://localhost:8080/"
        },
        "id": "JLCmDSNAxIoI",
        "outputId": "75292c52-def2-4f40-dcf3-8f4b0ac2e2a5"
      },
      "execution_count": null,
      "outputs": [
        {
          "output_type": "execute_result",
          "data": {
            "text/plain": [
              "tensor([[1, 2, 3],\n",
              "        [4, 5, 6],\n",
              "        [7, 8, 9]])"
            ]
          },
          "metadata": {},
          "execution_count": 39
        }
      ]
    },
    {
      "cell_type": "code",
      "source": [
        "x[0][0], x[0,0], x[:,0]"
      ],
      "metadata": {
        "colab": {
          "base_uri": "https://localhost:8080/"
        },
        "id": "5UGnK_9_xKro",
        "outputId": "21d0dbda-9395-4f49-b004-75f7aafdf54d"
      },
      "execution_count": null,
      "outputs": [
        {
          "output_type": "execute_result",
          "data": {
            "text/plain": [
              "(tensor([1, 2, 3]), tensor([1, 2, 3]), tensor([[1, 2, 3]]))"
            ]
          },
          "metadata": {},
          "execution_count": 45
        }
      ]
    },
    {
      "cell_type": "code",
      "source": [
        "x[0,0,0], x[0][0][0]"
      ],
      "metadata": {
        "colab": {
          "base_uri": "https://localhost:8080/"
        },
        "id": "7U3UPLDbxMyi",
        "outputId": "52cdc0c3-585e-45c5-aa88-c528491dba25"
      },
      "execution_count": null,
      "outputs": [
        {
          "output_type": "execute_result",
          "data": {
            "text/plain": [
              "(tensor(1), tensor(1))"
            ]
          },
          "metadata": {},
          "execution_count": 43
        }
      ]
    },
    {
      "cell_type": "code",
      "source": [
        "x[0][2][2]"
      ],
      "metadata": {
        "colab": {
          "base_uri": "https://localhost:8080/"
        },
        "id": "ohgdNWtfxR4p",
        "outputId": "71cad2b8-a79e-4af6-ffb3-29316b3e7c1f"
      },
      "execution_count": null,
      "outputs": [
        {
          "output_type": "execute_result",
          "data": {
            "text/plain": [
              "tensor(9)"
            ]
          },
          "metadata": {},
          "execution_count": 44
        }
      ]
    },
    {
      "cell_type": "code",
      "source": [
        "x[:,1:,:], x[:,:,1]"
      ],
      "metadata": {
        "colab": {
          "base_uri": "https://localhost:8080/"
        },
        "id": "Qal90MO4xe-H",
        "outputId": "45487a68-3535-4440-a843-2e770b13e7a8"
      },
      "execution_count": null,
      "outputs": [
        {
          "output_type": "execute_result",
          "data": {
            "text/plain": [
              "(tensor([[[4, 5, 6],\n",
              "          [7, 8, 9]]]),\n",
              " tensor([[2, 5, 8]]))"
            ]
          },
          "metadata": {},
          "execution_count": 47
        }
      ]
    },
    {
      "cell_type": "markdown",
      "source": [
        "## Pytorch tensors & Numpy"
      ],
      "metadata": {
        "id": "V0OFlCw0yirc"
      }
    },
    {
      "cell_type": "code",
      "source": [
        "array = np.arange(1.0,10.0)\n",
        "tensor = torch.from_numpy(array)\n",
        "array, tensor"
      ],
      "metadata": {
        "colab": {
          "base_uri": "https://localhost:8080/"
        },
        "id": "S8h6iDeyxqaE",
        "outputId": "727d6016-0e76-4a69-8373-b858ea038d3d"
      },
      "execution_count": null,
      "outputs": [
        {
          "output_type": "execute_result",
          "data": {
            "text/plain": [
              "(array([1., 2., 3., 4., 5., 6., 7., 8., 9.]),\n",
              " tensor([1., 2., 3., 4., 5., 6., 7., 8., 9.], dtype=torch.float64))"
            ]
          },
          "metadata": {},
          "execution_count": 51
        }
      ]
    },
    {
      "cell_type": "code",
      "source": [
        "tensor.type(torch.float32).dtype"
      ],
      "metadata": {
        "colab": {
          "base_uri": "https://localhost:8080/"
        },
        "id": "rKrogiYiycqq",
        "outputId": "3f42af55-f4a1-4a79-fc57-81085f3247e4"
      },
      "execution_count": null,
      "outputs": [
        {
          "output_type": "execute_result",
          "data": {
            "text/plain": [
              "torch.float32"
            ]
          },
          "metadata": {},
          "execution_count": 54
        }
      ]
    },
    {
      "cell_type": "code",
      "source": [
        "tensor = torch.ones(10)\n",
        "numpy_tensor = tensor.numpy()\n",
        "numpy_tensor, tensor"
      ],
      "metadata": {
        "colab": {
          "base_uri": "https://localhost:8080/"
        },
        "id": "Shso8oyWy0T8",
        "outputId": "c5970a80-e023-45b9-fd03-095d1736b760"
      },
      "execution_count": null,
      "outputs": [
        {
          "output_type": "execute_result",
          "data": {
            "text/plain": [
              "(array([1., 1., 1., 1., 1., 1., 1., 1., 1., 1.], dtype=float32),\n",
              " tensor([1., 1., 1., 1., 1., 1., 1., 1., 1., 1.]))"
            ]
          },
          "metadata": {},
          "execution_count": 55
        }
      ]
    },
    {
      "cell_type": "markdown",
      "source": [
        "## Random seed for reproducibility"
      ],
      "metadata": {
        "id": "0X8ldHPE0-oB"
      }
    },
    {
      "cell_type": "code",
      "source": [
        "tensor_A = torch.rand(2,3)\n",
        "tensor_B = torch.rand(2,3)\n",
        "tensor_A, tensor_B, tensor_A == tensor_B"
      ],
      "metadata": {
        "colab": {
          "base_uri": "https://localhost:8080/"
        },
        "id": "Y3VvNppfzdHi",
        "outputId": "cd74aff0-e97f-43c2-bac9-f32857d6f44c"
      },
      "execution_count": null,
      "outputs": [
        {
          "output_type": "execute_result",
          "data": {
            "text/plain": [
              "(tensor([[0.8602, 0.9759, 0.3528],\n",
              "         [0.0777, 0.8974, 0.6294]]),\n",
              " tensor([[0.2333, 0.4380, 0.7737],\n",
              "         [0.1635, 0.3575, 0.1572]]),\n",
              " tensor([[False, False, False],\n",
              "         [False, False, False]]))"
            ]
          },
          "metadata": {},
          "execution_count": 56
        }
      ]
    },
    {
      "cell_type": "code",
      "source": [
        "RANDOM_SEED = 42\n",
        "torch.manual_seed(RANDOM_SEED)\n",
        "tensor_A = torch.rand(2,3)\n",
        "\n",
        "\n",
        "torch.manual_seed(RANDOM_SEED)\n",
        "tensor_B = torch.rand(2,3)\n",
        "tensor_A, tensor_B, tensor_A == tensor_B"
      ],
      "metadata": {
        "colab": {
          "base_uri": "https://localhost:8080/"
        },
        "id": "JSf_5b001IXu",
        "outputId": "0241825c-ee4c-4c7f-c1f5-139e0d8b51a7"
      },
      "execution_count": null,
      "outputs": [
        {
          "output_type": "execute_result",
          "data": {
            "text/plain": [
              "(tensor([[0.8823, 0.9150, 0.3829],\n",
              "         [0.9593, 0.3904, 0.6009]]),\n",
              " tensor([[0.8823, 0.9150, 0.3829],\n",
              "         [0.9593, 0.3904, 0.6009]]),\n",
              " tensor([[True, True, True],\n",
              "         [True, True, True]]))"
            ]
          },
          "metadata": {},
          "execution_count": 57
        }
      ]
    },
    {
      "cell_type": "markdown",
      "source": [
        "## Access GPU using PyTorch"
      ],
      "metadata": {
        "id": "NIsK-vuX3AIe"
      }
    },
    {
      "cell_type": "code",
      "source": [
        "torch.cuda.is_available()"
      ],
      "metadata": {
        "colab": {
          "base_uri": "https://localhost:8080/"
        },
        "id": "IcO9jOLm1Tcq",
        "outputId": "62b7988c-287f-44fa-c0d1-ab6836fac998"
      },
      "execution_count": null,
      "outputs": [
        {
          "output_type": "execute_result",
          "data": {
            "text/plain": [
              "False"
            ]
          },
          "metadata": {},
          "execution_count": 58
        }
      ]
    },
    {
      "cell_type": "code",
      "source": [
        "#Setup device agnostic code\n",
        "\n",
        "device = \"cuda\" if torch.cuda.is_available() else \"cpu\"\n",
        "device"
      ],
      "metadata": {
        "colab": {
          "base_uri": "https://localhost:8080/",
          "height": 36
        },
        "id": "AukImxlj3E0j",
        "outputId": "2df87925-d0a2-4dae-d463-a5b3e351bd08"
      },
      "execution_count": null,
      "outputs": [
        {
          "output_type": "execute_result",
          "data": {
            "text/plain": [
              "'cpu'"
            ],
            "application/vnd.google.colaboratory.intrinsic+json": {
              "type": "string"
            }
          },
          "metadata": {},
          "execution_count": 59
        }
      ]
    },
    {
      "cell_type": "code",
      "source": [
        "torch.cuda.device_count()"
      ],
      "metadata": {
        "colab": {
          "base_uri": "https://localhost:8080/"
        },
        "id": "0nsCEgE43SNt",
        "outputId": "c9077838-887c-42b5-ac04-d26f89841a66"
      },
      "execution_count": null,
      "outputs": [
        {
          "output_type": "stream",
          "name": "stderr",
          "text": [
            "/usr/local/lib/python3.9/dist-packages/torch/cuda/__init__.py:497: UserWarning: Can't initialize NVML\n",
            "  warnings.warn(\"Can't initialize NVML\")\n"
          ]
        },
        {
          "output_type": "execute_result",
          "data": {
            "text/plain": [
              "0"
            ]
          },
          "metadata": {},
          "execution_count": 60
        }
      ]
    },
    {
      "cell_type": "code",
      "source": [
        "# Move tensor to GPU\n",
        "tensor_on_gpu = tensor.to(device)\n",
        "tensor_on_gpu\n"
      ],
      "metadata": {
        "colab": {
          "base_uri": "https://localhost:8080/"
        },
        "id": "DlC61Ual3WoQ",
        "outputId": "e924b93f-578e-4ed4-e0db-e049a5fa6929"
      },
      "execution_count": null,
      "outputs": [
        {
          "output_type": "execute_result",
          "data": {
            "text/plain": [
              "tensor([1., 1., 1., 1., 1., 1., 1., 1., 1., 1.])"
            ]
          },
          "metadata": {},
          "execution_count": 61
        }
      ]
    },
    {
      "cell_type": "code",
      "source": [
        "tensor_on_gpu.device"
      ],
      "metadata": {
        "colab": {
          "base_uri": "https://localhost:8080/"
        },
        "id": "RaIF1QMm4VM2",
        "outputId": "734c8082-8c1b-4230-e632-0a2299853fbb"
      },
      "execution_count": null,
      "outputs": [
        {
          "output_type": "execute_result",
          "data": {
            "text/plain": [
              "device(type='cpu')"
            ]
          },
          "metadata": {},
          "execution_count": 62
        }
      ]
    },
    {
      "cell_type": "code",
      "source": [
        "# If tensor is on GPU, cant transform it to Numpy\n",
        "\n",
        "tensor_on_gpu.cpu().numpy()"
      ],
      "metadata": {
        "colab": {
          "base_uri": "https://localhost:8080/"
        },
        "id": "lwLsDyxx4Y23",
        "outputId": "36c044c0-7831-4699-bd9d-4500c15dfc01"
      },
      "execution_count": null,
      "outputs": [
        {
          "output_type": "execute_result",
          "data": {
            "text/plain": [
              "array([1., 1., 1., 1., 1., 1., 1., 1., 1., 1.], dtype=float32)"
            ]
          },
          "metadata": {},
          "execution_count": 63
        }
      ]
    }
  ]
}