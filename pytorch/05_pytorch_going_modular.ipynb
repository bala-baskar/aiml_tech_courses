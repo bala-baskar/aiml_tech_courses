{
  "nbformat": 4,
  "nbformat_minor": 0,
  "metadata": {
    "colab": {
      "provenance": [],
      "authorship_tag": "ABX9TyOuNXRc8TFvmgiubyus4xqP",
      "include_colab_link": true
    },
    "kernelspec": {
      "name": "python3",
      "display_name": "Python 3"
    },
    "language_info": {
      "name": "python"
    }
  },
  "cells": [
    {
      "cell_type": "markdown",
      "metadata": {
        "id": "view-in-github",
        "colab_type": "text"
      },
      "source": [
        "<a href=\"https://colab.research.google.com/github/bala-baskar/aiml_tech_courses/blob/main/pytorch/05_pytorch_going_modular.ipynb\" target=\"_parent\"><img src=\"https://colab.research.google.com/assets/colab-badge.svg\" alt=\"Open In Colab\"/></a>"
      ]
    },
    {
      "cell_type": "markdown",
      "source": [
        "# 05. PyTorch Going Modular Exercises"
      ],
      "metadata": {
        "id": "Fro4cD5Ox1oU"
      }
    },
    {
      "cell_type": "code",
      "execution_count": 2,
      "metadata": {
        "colab": {
          "base_uri": "https://localhost:8080/"
        },
        "id": "hupKRRkjx0K0",
        "outputId": "a8800111-c252-4cb6-cf0f-2cff82e49381"
      },
      "outputs": [
        {
          "output_type": "stream",
          "name": "stdout",
          "text": [
            "/content/going_modular\n"
          ]
        }
      ],
      "source": [
        "import os\n",
        "PATH = './going_modular'\n",
        "if not os.path.isdir(PATH):\n",
        "  os.makedirs(PATH)\n",
        "  os.chdir(PATH)\n",
        "print(os.getcwd())"
      ]
    },
    {
      "cell_type": "code",
      "source": [
        "%%writefile get_data.py\n",
        "import argparse\n",
        "import os\n",
        "import requests\n",
        "import zipfile\n",
        "from pathlib import Path\n",
        "\n",
        "def get_args():\n",
        "  parser = argparse.ArgumentParser(\"Get the path directory to download!\")\n",
        "  parser.add_argument(\"-p\",\"--path\",help='get the directory path to save the downloaded data')\n",
        "  args = parser.parse_args()\n",
        "  return args.path\n",
        "\n",
        "def data_download(PATH):\n",
        "  # Setup path to data folder\n",
        "  image_path = PATH + \"/pizza_steak_sushi\"\n",
        "\n",
        "  # If the image folder doesn't exist, download it and prepare it...\n",
        "  if os.path.isdir(image_path):\n",
        "      print(f\"{image_path} directory exists.\")\n",
        "  else:\n",
        "      print(f\"Did not find {image_path} directory, creating one...\")\n",
        "      os.makedirs(image_path)\n",
        "\n",
        "  # Download pizza, steak, sushi data\n",
        "  with open(PATH + \"/pizza_steak_sushi.zip\", \"wb\") as f:\n",
        "      request = requests.get(\"https://github.com/mrdbourke/pytorch-deep-learning/raw/main/data/pizza_steak_sushi.zip\")\n",
        "      print(\"Downloading pizza, steak, sushi data...\")\n",
        "      f.write(request.content)\n",
        "\n",
        "  # Unzip pizza, steak, sushi data\n",
        "  with zipfile.ZipFile(PATH + \"/pizza_steak_sushi.zip\", \"r\") as zip_ref:\n",
        "      print(\"Unzipping pizza, steak, sushi data...\")\n",
        "      zip_ref.extractall(image_path)\n",
        "\n",
        "  # Remove zip file\n",
        "  os.remove(PATH + \"/pizza_steak_sushi.zip\")\n",
        "\n",
        "if __name__ == '__main__':\n",
        "  PATH = get_args()\n",
        "  print(PATH)\n",
        "  data_download(PATH)"
      ],
      "metadata": {
        "colab": {
          "base_uri": "https://localhost:8080/"
        },
        "id": "LtJLm4gfx6iC",
        "outputId": "39c5d72c-59f2-403d-e582-85d506059704"
      },
      "execution_count": 18,
      "outputs": [
        {
          "output_type": "stream",
          "name": "stdout",
          "text": [
            "Overwriting get_data.py\n"
          ]
        }
      ]
    },
    {
      "cell_type": "code",
      "source": [
        "!python get_data.py -p './data'"
      ],
      "metadata": {
        "colab": {
          "base_uri": "https://localhost:8080/"
        },
        "id": "LPsfoZvvyFDr",
        "outputId": "1e32ff8c-bbc0-44b2-b510-1163d1cff4c4"
      },
      "execution_count": 19,
      "outputs": [
        {
          "output_type": "stream",
          "name": "stdout",
          "text": [
            "./data\n",
            "Did not find ./data/pizza_steak_sushi directory, creating one...\n",
            "Downloading pizza, steak, sushi data...\n",
            "Unzipping pizza, steak, sushi data...\n"
          ]
        }
      ]
    },
    {
      "cell_type": "code",
      "source": [
        "%%writefile data_setup.py\n",
        "\"\"\"\n",
        "Contains functionality for creating PyTorch DataLoaders for\n",
        "image classification data.\n",
        "\"\"\"\n",
        "import os\n",
        "\n",
        "from torchvision import datasets, transforms\n",
        "from torch.utils.data import DataLoader\n",
        "\n",
        "NUM_WORKERS = os.cpu_count()\n",
        "\n",
        "def create_dataloaders(\n",
        "    train_dir: str,\n",
        "    test_dir: str,\n",
        "    transform: transforms.Compose,\n",
        "    batch_size: int,\n",
        "    num_workers: int=NUM_WORKERS\n",
        "):\n",
        "  \"\"\"Creates training and testing DataLoaders.\n",
        "\n",
        "  Takes in a training directory and testing directory path and turns\n",
        "  them into PyTorch Datasets and then into PyTorch DataLoaders.\n",
        "\n",
        "  Args:\n",
        "    train_dir: Path to training directory.\n",
        "    test_dir: Path to testing directory.\n",
        "    transform: torchvision transforms to perform on training and testing data.\n",
        "    batch_size: Number of samples per batch in each of the DataLoaders.\n",
        "    num_workers: An integer for number of workers per DataLoader.\n",
        "\n",
        "  Returns:\n",
        "    A tuple of (train_dataloader, test_dataloader, class_names).\n",
        "    Where class_names is a list of the target classes.\n",
        "    Example usage:\n",
        "      train_dataloader, test_dataloader, class_names = \\\n",
        "        = create_dataloaders(train_dir=path/to/train_dir,\n",
        "                             test_dir=path/to/test_dir,\n",
        "                             transform=some_transform,\n",
        "                             batch_size=32,\n",
        "                             num_workers=4)\n",
        "  \"\"\"\n",
        "  # Use ImageFolder to create dataset(s)\n",
        "  train_data = datasets.ImageFolder(train_dir, transform=transform)\n",
        "  test_data = datasets.ImageFolder(test_dir, transform=transform)\n",
        "\n",
        "  # Get class names\n",
        "  class_names = train_data.classes\n",
        "\n",
        "  # Turn images into data loaders\n",
        "  train_dataloader = DataLoader(\n",
        "      train_data,\n",
        "      batch_size=batch_size,\n",
        "      shuffle=True,\n",
        "      num_workers=num_workers,\n",
        "      pin_memory=True,\n",
        "  )\n",
        "  test_dataloader = DataLoader(\n",
        "      test_data,\n",
        "      batch_size=batch_size,\n",
        "      shuffle=False, # don't need to shuffle test data\n",
        "      num_workers=num_workers,\n",
        "      pin_memory=True,\n",
        "  )\n",
        "\n",
        "  return train_dataloader, test_dataloader, class_names"
      ],
      "metadata": {
        "colab": {
          "base_uri": "https://localhost:8080/"
        },
        "id": "NCMO_7ULyW6U",
        "outputId": "663025af-be6e-4e87-9036-d41e165bdfe2"
      },
      "execution_count": 20,
      "outputs": [
        {
          "output_type": "stream",
          "name": "stdout",
          "text": [
            "Writing data_setup.py\n"
          ]
        }
      ]
    },
    {
      "cell_type": "code",
      "source": [
        "%%writefile model_builder.py\n",
        "\"\"\"\n",
        "Contains PyTorch model code to instantiate a TinyVGG model.\n",
        "\"\"\"\n",
        "import torch\n",
        "from torch import nn\n",
        "\n",
        "class TinyVGG(nn.Module):\n",
        "  \"\"\"Creates the TinyVGG architecture.\n",
        "\n",
        "  Replicates the TinyVGG architecture from the CNN explainer website in PyTorch.\n",
        "  See the original architecture here: https://poloclub.github.io/cnn-explainer/\n",
        "\n",
        "  Args:\n",
        "    input_shape: An integer indicating number of input channels.\n",
        "    hidden_units: An integer indicating number of hidden units between layers.\n",
        "    output_shape: An integer indicating number of output units.\n",
        "  \"\"\"\n",
        "  def __init__(self, input_shape: int, hidden_units: int, output_shape: int) -> None:\n",
        "      super().__init__()\n",
        "      self.conv_block_1 = nn.Sequential(\n",
        "          nn.Conv2d(in_channels=input_shape,\n",
        "                    out_channels=hidden_units,\n",
        "                    kernel_size=3,\n",
        "                    stride=1,\n",
        "                    padding=0),\n",
        "          nn.ReLU(),\n",
        "          nn.Conv2d(in_channels=hidden_units,\n",
        "                    out_channels=hidden_units,\n",
        "                    kernel_size=3,\n",
        "                    stride=1,\n",
        "                    padding=0),\n",
        "          nn.ReLU(),\n",
        "          nn.MaxPool2d(kernel_size=2,\n",
        "                        stride=2)\n",
        "      )\n",
        "      self.conv_block_2 = nn.Sequential(\n",
        "          nn.Conv2d(hidden_units, hidden_units, kernel_size=3, padding=0),\n",
        "          nn.ReLU(),\n",
        "          nn.Conv2d(hidden_units, hidden_units, kernel_size=3, padding=0),\n",
        "          nn.ReLU(),\n",
        "          nn.MaxPool2d(2)\n",
        "      )\n",
        "      self.classifier = nn.Sequential(\n",
        "          nn.Flatten(),\n",
        "          # Where did this in_features shape come from?\n",
        "          # It's because each layer of our network compresses and changes the shape of our inputs data.\n",
        "          nn.Linear(in_features=hidden_units*13*13,\n",
        "                    out_features=output_shape)\n",
        "      )\n",
        "\n",
        "  def forward(self, x: torch.Tensor):\n",
        "      x = self.conv_block_1(x)\n",
        "      x = self.conv_block_2(x)\n",
        "      x = self.classifier(x)\n",
        "      return x\n",
        "      # return self.classifier(self.conv_block_2(self.conv_block_1(x))) # <- leverage the benefits of operator fusion"
      ],
      "metadata": {
        "colab": {
          "base_uri": "https://localhost:8080/"
        },
        "id": "Zv9Nwv5c0Guj",
        "outputId": "c918076d-ea80-4b07-b7a9-def5dfddbab7"
      },
      "execution_count": 21,
      "outputs": [
        {
          "output_type": "stream",
          "name": "stdout",
          "text": [
            "Writing model_builder.py\n"
          ]
        }
      ]
    },
    {
      "cell_type": "code",
      "source": [
        "%%writefile engine.py\n",
        "\"\"\"\n",
        "Contains functions for training and testing a PyTorch model.\n",
        "\"\"\"\n",
        "import torch\n",
        "\n",
        "from tqdm.auto import tqdm\n",
        "from typing import Dict, List, Tuple\n",
        "\n",
        "def train_step(model: torch.nn.Module,\n",
        "               dataloader: torch.utils.data.DataLoader,\n",
        "               loss_fn: torch.nn.Module,\n",
        "               optimizer: torch.optim.Optimizer,\n",
        "               device: torch.device) -> Tuple[float, float]:\n",
        "  \"\"\"Trains a PyTorch model for a single epoch.\n",
        "\n",
        "  Turns a target PyTorch model to training mode and then\n",
        "  runs through all of the required training steps (forward\n",
        "  pass, loss calculation, optimizer step).\n",
        "\n",
        "  Args:\n",
        "    model: A PyTorch model to be trained.\n",
        "    dataloader: A DataLoader instance for the model to be trained on.\n",
        "    loss_fn: A PyTorch loss function to minimize.\n",
        "    optimizer: A PyTorch optimizer to help minimize the loss function.\n",
        "    device: A target device to compute on (e.g. \"cuda\" or \"cpu\").\n",
        "\n",
        "  Returns:\n",
        "    A tuple of training loss and training accuracy metrics.\n",
        "    In the form (train_loss, train_accuracy). For example:\n",
        "\n",
        "    (0.1112, 0.8743)\n",
        "  \"\"\"\n",
        "  # Put model in train mode\n",
        "  model.train()\n",
        "\n",
        "  # Setup train loss and train accuracy values\n",
        "  train_loss, train_acc = 0, 0\n",
        "\n",
        "  # Loop through data loader data batches\n",
        "  for batch, (X, y) in enumerate(dataloader):\n",
        "      # Send data to target device\n",
        "      X, y = X.to(device), y.to(device)\n",
        "\n",
        "      # 1. Forward pass\n",
        "      y_pred = model(X)\n",
        "\n",
        "      # 2. Calculate  and accumulate loss\n",
        "      loss = loss_fn(y_pred, y)\n",
        "      train_loss += loss.item()\n",
        "\n",
        "      # 3. Optimizer zero grad\n",
        "      optimizer.zero_grad()\n",
        "\n",
        "      # 4. Loss backward\n",
        "      loss.backward()\n",
        "\n",
        "      # 5. Optimizer step\n",
        "      optimizer.step()\n",
        "\n",
        "      # Calculate and accumulate accuracy metric across all batches\n",
        "      y_pred_class = torch.argmax(torch.softmax(y_pred, dim=1), dim=1)\n",
        "      train_acc += (y_pred_class == y).sum().item()/len(y_pred)\n",
        "\n",
        "  # Adjust metrics to get average loss and accuracy per batch\n",
        "  train_loss = train_loss / len(dataloader)\n",
        "  train_acc = train_acc / len(dataloader)\n",
        "  return train_loss, train_acc\n",
        "\n",
        "def test_step(model: torch.nn.Module,\n",
        "              dataloader: torch.utils.data.DataLoader,\n",
        "              loss_fn: torch.nn.Module,\n",
        "              device: torch.device) -> Tuple[float, float]:\n",
        "  \"\"\"Tests a PyTorch model for a single epoch.\n",
        "\n",
        "  Turns a target PyTorch model to \"eval\" mode and then performs\n",
        "  a forward pass on a testing dataset.\n",
        "\n",
        "  Args:\n",
        "    model: A PyTorch model to be tested.\n",
        "    dataloader: A DataLoader instance for the model to be tested on.\n",
        "    loss_fn: A PyTorch loss function to calculate loss on the test data.\n",
        "    device: A target device to compute on (e.g. \"cuda\" or \"cpu\").\n",
        "\n",
        "  Returns:\n",
        "    A tuple of testing loss and testing accuracy metrics.\n",
        "    In the form (test_loss, test_accuracy). For example:\n",
        "\n",
        "    (0.0223, 0.8985)\n",
        "  \"\"\"\n",
        "  # Put model in eval mode\n",
        "  model.eval()\n",
        "\n",
        "  # Setup test loss and test accuracy values\n",
        "  test_loss, test_acc = 0, 0\n",
        "\n",
        "  # Turn on inference context manager\n",
        "  with torch.inference_mode():\n",
        "      # Loop through DataLoader batches\n",
        "      for batch, (X, y) in enumerate(dataloader):\n",
        "          # Send data to target device\n",
        "          X, y = X.to(device), y.to(device)\n",
        "\n",
        "          # 1. Forward pass\n",
        "          test_pred_logits = model(X)\n",
        "\n",
        "          # 2. Calculate and accumulate loss\n",
        "          loss = loss_fn(test_pred_logits, y)\n",
        "          test_loss += loss.item()\n",
        "\n",
        "          # Calculate and accumulate accuracy\n",
        "          test_pred_labels = test_pred_logits.argmax(dim=1)\n",
        "          test_acc += ((test_pred_labels == y).sum().item()/len(test_pred_labels))\n",
        "\n",
        "  # Adjust metrics to get average loss and accuracy per batch\n",
        "  test_loss = test_loss / len(dataloader)\n",
        "  test_acc = test_acc / len(dataloader)\n",
        "  return test_loss, test_acc\n",
        "\n",
        "def train(model: torch.nn.Module,\n",
        "          train_dataloader: torch.utils.data.DataLoader,\n",
        "          test_dataloader: torch.utils.data.DataLoader,\n",
        "          optimizer: torch.optim.Optimizer,\n",
        "          loss_fn: torch.nn.Module,\n",
        "          epochs: int,\n",
        "          device: torch.device) -> Dict[str, List]:\n",
        "  \"\"\"Trains and tests a PyTorch model.\n",
        "\n",
        "  Passes a target PyTorch models through train_step() and test_step()\n",
        "  functions for a number of epochs, training and testing the model\n",
        "  in the same epoch loop.\n",
        "\n",
        "  Calculates, prints and stores evaluation metrics throughout.\n",
        "\n",
        "  Args:\n",
        "    model: A PyTorch model to be trained and tested.\n",
        "    train_dataloader: A DataLoader instance for the model to be trained on.\n",
        "    test_dataloader: A DataLoader instance for the model to be tested on.\n",
        "    optimizer: A PyTorch optimizer to help minimize the loss function.\n",
        "    loss_fn: A PyTorch loss function to calculate loss on both datasets.\n",
        "    epochs: An integer indicating how many epochs to train for.\n",
        "    device: A target device to compute on (e.g. \"cuda\" or \"cpu\").\n",
        "\n",
        "  Returns:\n",
        "    A dictionary of training and testing loss as well as training and\n",
        "    testing accuracy metrics. Each metric has a value in a list for\n",
        "    each epoch.\n",
        "    In the form: {train_loss: [...],\n",
        "                  train_acc: [...],\n",
        "                  test_loss: [...],\n",
        "                  test_acc: [...]}\n",
        "    For example if training for epochs=2:\n",
        "                 {train_loss: [2.0616, 1.0537],\n",
        "                  train_acc: [0.3945, 0.3945],\n",
        "                  test_loss: [1.2641, 1.5706],\n",
        "                  test_acc: [0.3400, 0.2973]}\n",
        "  \"\"\"\n",
        "  # Create empty results dictionary\n",
        "  results = {\"train_loss\": [],\n",
        "      \"train_acc\": [],\n",
        "      \"test_loss\": [],\n",
        "      \"test_acc\": []\n",
        "  }\n",
        "\n",
        "  # Loop through training and testing steps for a number of epochs\n",
        "  for epoch in tqdm(range(epochs)):\n",
        "      train_loss, train_acc = train_step(model=model,\n",
        "                                          dataloader=train_dataloader,\n",
        "                                          loss_fn=loss_fn,\n",
        "                                          optimizer=optimizer,\n",
        "                                          device=device)\n",
        "      test_loss, test_acc = test_step(model=model,\n",
        "          dataloader=test_dataloader,\n",
        "          loss_fn=loss_fn,\n",
        "          device=device)\n",
        "\n",
        "      # Print out what's happening\n",
        "      print(\n",
        "          f\"Epoch: {epoch+1} | \"\n",
        "          f\"train_loss: {train_loss:.4f} | \"\n",
        "          f\"train_acc: {train_acc:.4f} | \"\n",
        "          f\"test_loss: {test_loss:.4f} | \"\n",
        "          f\"test_acc: {test_acc:.4f}\"\n",
        "      )\n",
        "\n",
        "      # Update results dictionary\n",
        "      results[\"train_loss\"].append(train_loss)\n",
        "      results[\"train_acc\"].append(train_acc)\n",
        "      results[\"test_loss\"].append(test_loss)\n",
        "      results[\"test_acc\"].append(test_acc)\n",
        "\n",
        "  # Return the filled results at the end of the epochs\n",
        "  return results"
      ],
      "metadata": {
        "colab": {
          "base_uri": "https://localhost:8080/"
        },
        "id": "aJ2A86ny0VXP",
        "outputId": "d1acca6c-fce7-4baf-b63e-6ae95b36e6fc"
      },
      "execution_count": 23,
      "outputs": [
        {
          "output_type": "stream",
          "name": "stdout",
          "text": [
            "Writing engine.py\n"
          ]
        }
      ]
    },
    {
      "cell_type": "code",
      "source": [
        "%%writefile utils.py\n",
        "\"\"\"\n",
        "Contains various utility functions for PyTorch model training and saving.\n",
        "\"\"\"\n",
        "import torch\n",
        "from pathlib import Path\n",
        "\n",
        "def save_model(model: torch.nn.Module,\n",
        "               target_dir: str,\n",
        "               model_name: str):\n",
        "  \"\"\"Saves a PyTorch model to a target directory.\n",
        "\n",
        "  Args:\n",
        "    model: A target PyTorch model to save.\n",
        "    target_dir: A directory for saving the model to.\n",
        "    model_name: A filename for the saved model. Should include\n",
        "      either \".pth\" or \".pt\" as the file extension.\n",
        "\n",
        "  Example usage:\n",
        "    save_model(model=model_0,\n",
        "               target_dir=\"models\",\n",
        "               model_name=\"05_going_modular_tingvgg_model.pth\")\n",
        "  \"\"\"\n",
        "  # Create target directory\n",
        "  target_dir_path = Path(target_dir)\n",
        "  target_dir_path.mkdir(parents=True,\n",
        "                        exist_ok=True)\n",
        "\n",
        "  # Create model save path\n",
        "  assert model_name.endswith(\".pth\") or model_name.endswith(\".pt\"), \"model_name should end with '.pt' or '.pth'\"\n",
        "  model_save_path = target_dir_path / model_name\n",
        "\n",
        "  # Save the model state_dict()\n",
        "  print(f\"[INFO] Saving model to: {model_save_path}\")\n",
        "  torch.save(obj=model.state_dict(),\n",
        "             f=model_save_path)"
      ],
      "metadata": {
        "colab": {
          "base_uri": "https://localhost:8080/"
        },
        "id": "r0EYah2_0gmW",
        "outputId": "a9aee137-e445-45ae-c37b-f58807040d0d"
      },
      "execution_count": 24,
      "outputs": [
        {
          "output_type": "stream",
          "name": "stdout",
          "text": [
            "Writing utils.py\n"
          ]
        }
      ]
    },
    {
      "cell_type": "code",
      "source": [
        "%%writefile train.py\n",
        "\"\"\"\n",
        "Trains a PyTorch image classification model using device-agnostic code.\n",
        "\"\"\"\n",
        "\n",
        "import os\n",
        "import torch\n",
        "import data_setup, engine, model_builder, utils\n",
        "import argparse\n",
        "from torchvision import transforms\n",
        "\n",
        "def get_args():\n",
        "  parser = argparse.ArgumentParser(\"Get all the parameters from user\")\n",
        "  parser.add_argument('-e','--epochs',help='number of epochs')\n",
        "  parser.add_argument('-b','--batch_size',help='batch size')\n",
        "  parser.add_argument('-hu','--hidden_units',help='number of hidden units')\n",
        "  parser.add_argument('-lr','--alpha',help='learning rate')\n",
        "  parser.add_argument('-m','--model_path',help='model_path')\n",
        "  args = parser.parse_args()\n",
        "  return args\n",
        "\n",
        "\n",
        "def main(args):\n",
        "\n",
        "  # Setup hyperparameters\n",
        "  NUM_EPOCHS = int(args.epochs)\n",
        "  BATCH_SIZE = int(args.batch_size)\n",
        "  HIDDEN_UNITS = int(args.hidden_units)\n",
        "  LEARNING_RATE = float(args.alpha)\n",
        "  MODEL_PATH = args.model_path\n",
        "\n",
        "  # Setup directories\n",
        "  train_dir = \"data/pizza_steak_sushi/train\"\n",
        "  test_dir = \"data/pizza_steak_sushi/test\"\n",
        "\n",
        "  # Setup target device\n",
        "  device = \"cuda\" if torch.cuda.is_available() else \"cpu\"\n",
        "\n",
        "  # Create transforms\n",
        "  data_transform = transforms.Compose([\n",
        "    transforms.Resize((64, 64)),\n",
        "    transforms.ToTensor()\n",
        "  ])\n",
        "\n",
        "  # Create DataLoaders with help from data_setup.py\n",
        "  train_dataloader, test_dataloader, class_names = data_setup.create_dataloaders(\n",
        "      train_dir=train_dir,\n",
        "      test_dir=test_dir,\n",
        "      transform=data_transform,\n",
        "      batch_size=BATCH_SIZE\n",
        "  )\n",
        "  print(\"DataLoader created\")\n",
        "  # Create model with help from model_builder.py\n",
        "  model = model_builder.TinyVGG(\n",
        "      input_shape=3,\n",
        "      hidden_units=HIDDEN_UNITS,\n",
        "      output_shape=len(class_names)\n",
        "  ).to(device)\n",
        "  print(\"Initiated model object\")\n",
        "  # Set loss and optimizer\n",
        "  loss_fn = torch.nn.CrossEntropyLoss()\n",
        "  optimizer = torch.optim.Adam(model.parameters(),\n",
        "                              lr=LEARNING_RATE)\n",
        "  print(\"Loss function and optimizer are initiated\")\n",
        "  # Start training with help from engine.py\n",
        "  engine.train(model=model,\n",
        "              train_dataloader=train_dataloader,\n",
        "              test_dataloader=test_dataloader,\n",
        "              loss_fn=loss_fn,\n",
        "              optimizer=optimizer,\n",
        "              epochs=NUM_EPOCHS,\n",
        "              device=device)\n",
        "\n",
        "  # Save the model with help from utils.py\n",
        "  utils.save_model(model=model,\n",
        "                  target_dir=\"models\",\n",
        "                  model_name=MODEL_PATH)\n",
        "\n",
        "if __name__ == '__main__':\n",
        "  args = get_args()\n",
        "  main(args)"
      ],
      "metadata": {
        "colab": {
          "base_uri": "https://localhost:8080/"
        },
        "id": "RnnGQqgg1K9J",
        "outputId": "ddb717fe-eef1-4086-8c8d-a2d27e32c5da"
      },
      "execution_count": 31,
      "outputs": [
        {
          "output_type": "stream",
          "name": "stdout",
          "text": [
            "Overwriting train.py\n"
          ]
        }
      ]
    },
    {
      "cell_type": "code",
      "source": [
        "%%writefile predict.py\n",
        "import argparse\n",
        "import torch\n",
        "from torchvision import transforms\n",
        "from PIL import Image\n",
        "import matplotlib.pyplot as plt\n",
        "import numpy as np\n",
        "import model_builder\n",
        "\n",
        "def get_args():\n",
        "  parser = argparse.ArgumentParser()\n",
        "  parser.add_argument('-m','--model_path',help='path of model to be used for prediction')\n",
        "  parser.add_argument('-i','--image_path',help='path of input image to be used for prediction')\n",
        "  args = parser.parse_args()\n",
        "  return args\n",
        "\n",
        "def main(args):\n",
        "\n",
        "  MODEL_PATH = args.model_path\n",
        "  IMAGE_PATH = args.image_path\n",
        "\n",
        "  # Setup target device\n",
        "  device = \"cuda\" if torch.cuda.is_available() else \"cpu\"\n",
        "  class_names = ['pizza','sushi','steak']\n",
        "\n",
        "  img = Image.open(IMAGE_PATH)\n",
        "  #Tranform the image\n",
        "  img_transformer = transforms.Compose([transforms.Resize((64,64)),\n",
        "                                          transforms.ToTensor()])\n",
        "  transformed_img = img_transformer(img)\n",
        "\n",
        "  #Load the model\n",
        "  model = model_builder.TinyVGG(\n",
        "      input_shape=3,\n",
        "      hidden_units=10,\n",
        "      output_shape=3\n",
        "  ).to(device)\n",
        "  trained_params = torch.load(MODEL_PATH,weights_only=True)\n",
        "  model.load_state_dict(trained_params)\n",
        "\n",
        "  #Prediction\n",
        "  y_pred = model(transformed_img.unsqueeze(dim=0))\n",
        "  y_pred_prob = torch.softmax(y_pred,dim=1)\n",
        "  y_pred_class = torch.softmax(y_pred,dim=1).argmax(dim=1).item()\n",
        "  y_pred_label = class_names[y_pred_class]\n",
        "  print(f\"Prediction class: {y_pred_label}| prob {round(y_pred_prob.squeeze().detach().numpy()[y_pred_class]*100.0,2)} %\")\n",
        "\n",
        "if __name__ == '__main__':\n",
        "  args = get_args()\n",
        "  main(args)"
      ],
      "metadata": {
        "colab": {
          "base_uri": "https://localhost:8080/"
        },
        "id": "SF9RtJAb6ypP",
        "outputId": "886d3872-11e0-4b21-f3f6-e633d1d3fb32"
      },
      "execution_count": 66,
      "outputs": [
        {
          "output_type": "stream",
          "name": "stdout",
          "text": [
            "Overwriting predict.py\n"
          ]
        }
      ]
    },
    {
      "cell_type": "code",
      "source": [
        "!python train.py --epochs 20 --batch_size 32 --hidden_units 10 --alpha 0.001 --model_path 'tinyvgg_foodvision_v1.pth'"
      ],
      "metadata": {
        "colab": {
          "base_uri": "https://localhost:8080/"
        },
        "id": "d0Xi7rOU2wU0",
        "outputId": "e611e6c3-8f81-444e-94cc-f248bd329a8b"
      },
      "execution_count": 54,
      "outputs": [
        {
          "output_type": "stream",
          "name": "stdout",
          "text": [
            "DataLoader created\n",
            "Initiated model object\n",
            "Loss function and optimizer are initiated\n",
            "  0% 0/20 [00:00<?, ?it/s]Epoch: 1 | train_loss: 1.0944 | train_acc: 0.3711 | test_loss: 1.1049 | test_acc: 0.2604\n",
            "  5% 1/20 [00:01<00:33,  1.75s/it]Epoch: 2 | train_loss: 1.1067 | train_acc: 0.3086 | test_loss: 1.1138 | test_acc: 0.2708\n",
            " 10% 2/20 [00:03<00:31,  1.76s/it]Epoch: 3 | train_loss: 1.0633 | train_acc: 0.4297 | test_loss: 1.0577 | test_acc: 0.4527\n",
            " 15% 3/20 [00:05<00:29,  1.75s/it]Epoch: 4 | train_loss: 1.0121 | train_acc: 0.5820 | test_loss: 0.9674 | test_acc: 0.5938\n",
            " 20% 4/20 [00:06<00:27,  1.74s/it]Epoch: 5 | train_loss: 0.9734 | train_acc: 0.3945 | test_loss: 1.0527 | test_acc: 0.3712\n",
            " 25% 5/20 [00:08<00:26,  1.74s/it]Epoch: 6 | train_loss: 0.8445 | train_acc: 0.6445 | test_loss: 1.0704 | test_acc: 0.3314\n",
            " 30% 6/20 [00:11<00:29,  2.08s/it]Epoch: 7 | train_loss: 0.8853 | train_acc: 0.4883 | test_loss: 1.1377 | test_acc: 0.2604\n",
            " 35% 7/20 [00:13<00:26,  2.03s/it]Epoch: 8 | train_loss: 0.7471 | train_acc: 0.6758 | test_loss: 0.9702 | test_acc: 0.5246\n",
            " 40% 8/20 [00:15<00:23,  1.95s/it]Epoch: 9 | train_loss: 0.8165 | train_acc: 0.6680 | test_loss: 1.0250 | test_acc: 0.4631\n",
            " 45% 9/20 [00:16<00:20,  1.89s/it]Epoch: 10 | train_loss: 0.7333 | train_acc: 0.6562 | test_loss: 1.1065 | test_acc: 0.3930\n",
            " 50% 10/20 [00:18<00:18,  1.85s/it]Epoch: 11 | train_loss: 0.9544 | train_acc: 0.5859 | test_loss: 1.0880 | test_acc: 0.3617\n",
            " 55% 11/20 [00:20<00:16,  1.81s/it]Epoch: 12 | train_loss: 0.7309 | train_acc: 0.6836 | test_loss: 1.0459 | test_acc: 0.4744\n",
            " 60% 12/20 [00:22<00:14,  1.84s/it]Epoch: 13 | train_loss: 0.7593 | train_acc: 0.7148 | test_loss: 1.0645 | test_acc: 0.3722\n",
            " 65% 13/20 [00:25<00:14,  2.13s/it]Epoch: 14 | train_loss: 0.9180 | train_acc: 0.5586 | test_loss: 1.0883 | test_acc: 0.4432\n",
            " 70% 14/20 [00:26<00:12,  2.02s/it]Epoch: 15 | train_loss: 0.7025 | train_acc: 0.7148 | test_loss: 0.9697 | test_acc: 0.5246\n",
            " 75% 15/20 [00:28<00:09,  1.94s/it]Epoch: 16 | train_loss: 0.7448 | train_acc: 0.7148 | test_loss: 0.9717 | test_acc: 0.4318\n",
            " 80% 16/20 [00:30<00:07,  1.92s/it]Epoch: 17 | train_loss: 0.6840 | train_acc: 0.7188 | test_loss: 0.9961 | test_acc: 0.4223\n",
            " 85% 17/20 [00:32<00:05,  1.87s/it]Epoch: 18 | train_loss: 0.7329 | train_acc: 0.7227 | test_loss: 1.0523 | test_acc: 0.4233\n",
            " 90% 18/20 [00:34<00:03,  1.83s/it]Epoch: 19 | train_loss: 1.1258 | train_acc: 0.5742 | test_loss: 1.0718 | test_acc: 0.3617\n",
            " 95% 19/20 [00:36<00:01,  1.98s/it]Epoch: 20 | train_loss: 0.8785 | train_acc: 0.5742 | test_loss: 0.9790 | test_acc: 0.4848\n",
            "100% 20/20 [00:38<00:00,  1.93s/it]\n",
            "[INFO] Saving model to: models/tinyvgg_foodvision_v1.pth\n"
          ]
        }
      ]
    },
    {
      "cell_type": "code",
      "source": [
        "from PIL import Image\n",
        "Image.open('/content/sushi.jpg')"
      ],
      "metadata": {
        "colab": {
          "base_uri": "https://localhost:8080/",
          "height": 165
        },
        "id": "cpEczrTmBM9N",
        "outputId": "14dacddb-f2bd-4dbd-eec1-36c7f65d0390"
      },
      "execution_count": 70,
      "outputs": [
        {
          "output_type": "execute_result",
          "data": {
            "text/plain": [
              "<PIL.JpegImagePlugin.JpegImageFile image mode=RGB size=192x148>"
            ],
            "image/png": "[encoded data removed]",
            "image/jpeg": "[encoded data removed]"
          },
          "metadata": {},
          "execution_count": 70
        }
      ]
    },
    {
      "cell_type": "code",
      "source": [
        "!python predict.py -m './models/tinyvgg_foodvision_v1.pth' -i '/content/sushi.jpg'"
      ],
      "metadata": {
        "colab": {
          "base_uri": "https://localhost:8080/"
        },
        "id": "4yKBi5yb2ylb",
        "outputId": "f0e8dc37-6dba-438a-aa50-a9d5da4fe75b"
      },
      "execution_count": 69,
      "outputs": [
        {
          "output_type": "stream",
          "name": "stdout",
          "text": [
            "Prediction class: sushi| prob 48.94 %\n"
          ]
        }
      ]
    },
    {
      "cell_type": "code",
      "source": [],
      "metadata": {
        "id": "wI1uL3eO-ETE"
      },
      "execution_count": null,
      "outputs": []
    }
  ]
}