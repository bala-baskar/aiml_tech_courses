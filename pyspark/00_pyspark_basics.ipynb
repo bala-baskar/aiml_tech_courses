{
  "nbformat": 4,
  "nbformat_minor": 0,
  "metadata": {
    "colab": {
      "provenance": [],
      "authorship_tag": "ABX9TyNjvLnIAd+nFewKEnyV6uAn",
      "include_colab_link": true
    },
    "kernelspec": {
      "name": "python3",
      "display_name": "Python 3"
    },
    "language_info": {
      "name": "python"
    }
  },
  "cells": [
    {
      "cell_type": "markdown",
      "metadata": {
        "id": "view-in-github",
        "colab_type": "text"
      },
      "source": [
        "<a href=\"https://colab.research.google.com/github/bala-baskar/aiml_tech_courses/blob/main/pyspark/00_pyspark_basics.ipynb\" target=\"_parent\"><img src=\"https://colab.research.google.com/assets/colab-badge.svg\" alt=\"Open In Colab\"/></a>"
      ]
    },
    {
      "cell_type": "code",
      "execution_count": 1,
      "metadata": {
        "colab": {
          "base_uri": "https://localhost:8080/"
        },
        "id": "adWNervT7xRC",
        "outputId": "00817dc3-3ffc-4bee-812b-33297a014f7f"
      },
      "outputs": [
        {
          "output_type": "stream",
          "name": "stdout",
          "text": [
            "Collecting pyspark\n",
            "  Downloading pyspark-3.5.0.tar.gz (316.9 MB)\n",
            "\u001b[2K     \u001b[90m━━━━━━━━━━━━━━━━━━━━━━━━━━━━━━━━━━━━━━━━\u001b[0m \u001b[32m316.9/316.9 MB\u001b[0m \u001b[31m2.1 MB/s\u001b[0m eta \u001b[36m0:00:00\u001b[0m\n",
            "\u001b[?25h  Preparing metadata (setup.py) ... \u001b[?25l\u001b[?25hdone\n",
            "Requirement already satisfied: py4j==0.10.9.7 in /usr/local/lib/python3.10/dist-packages (from pyspark) (0.10.9.7)\n",
            "Building wheels for collected packages: pyspark\n",
            "  Building wheel for pyspark (setup.py) ... \u001b[?25l\u001b[?25hdone\n",
            "  Created wheel for pyspark: filename=pyspark-3.5.0-py2.py3-none-any.whl size=317425345 sha256=9aeddf001294e82b4503cc6a44276f2188eaab50658a2256fd2fa6814cf1c3aa\n",
            "  Stored in directory: /root/.cache/pip/wheels/41/4e/10/c2cf2467f71c678cfc8a6b9ac9241e5e44a01940da8fbb17fc\n",
            "Successfully built pyspark\n",
            "Installing collected packages: pyspark\n",
            "Successfully installed pyspark-3.5.0\n"
          ]
        }
      ],
      "source": [
        "!pip install pyspark"
      ]
    },
    {
      "cell_type": "markdown",
      "source": [
        "### Initiate Spark session in Google colab"
      ],
      "metadata": {
        "id": "NTQtP3HQ9j0h"
      }
    },
    {
      "cell_type": "code",
      "source": [
        "import pandas as pd\n",
        "import numpy as np\n",
        "import matplotlib.pyplot as plt\n",
        "%matplotlib inline\n",
        "\n",
        "import pyspark\n",
        "from pyspark.sql import *\n",
        "from pyspark.sql.types import *\n",
        "from pyspark.sql.functions import *\n",
        "from pyspark import SparkContext, SparkConf"
      ],
      "metadata": {
        "id": "ZiWAO87u75c5"
      },
      "execution_count": 2,
      "outputs": []
    },
    {
      "cell_type": "code",
      "source": [
        "# create the session\n",
        "spark = SparkSession.builder\\\n",
        "                    .master(\"local\")\\\n",
        "                    .appName(\"Colab\")\\\n",
        "                    .config('spark.ui.port',\"4050\")\\\n",
        "                    .getOrCreate()\n",
        "spark"
      ],
      "metadata": {
        "id": "qyVXpdam9CkR",
        "colab": {
          "base_uri": "https://localhost:8080/",
          "height": 219
        },
        "outputId": "5f09efb2-c0f2-4aa2-babb-681fcfd8d85c"
      },
      "execution_count": 3,
      "outputs": [
        {
          "output_type": "execute_result",
          "data": {
            "text/plain": [
              "<pyspark.sql.session.SparkSession at 0x7b6dd7180d90>"
            ],
            "text/html": [
              "\n",
              "            <div>\n",
              "                <p><b>SparkSession - in-memory</b></p>\n",
              "                \n",
              "        <div>\n",
              "            <p><b>SparkContext</b></p>\n",
              "\n",
              "            <p><a href=\"http://d0a93ca7436e:4050\">Spark UI</a></p>\n",
              "\n",
              "            <dl>\n",
              "              <dt>Version</dt>\n",
              "                <dd><code>v3.5.0</code></dd>\n",
              "              <dt>Master</dt>\n",
              "                <dd><code>local</code></dd>\n",
              "              <dt>AppName</dt>\n",
              "                <dd><code>Colab</code></dd>\n",
              "            </dl>\n",
              "        </div>\n",
              "        \n",
              "            </div>\n",
              "        "
            ]
          },
          "metadata": {},
          "execution_count": 3
        }
      ]
    },
    {
      "cell_type": "code",
      "source": [
        "# !wget https://bin.equinox.io/c/4VmDzA7iaHb/ngrok-stable-linux-amd64.zip\n",
        "# !unzip ngrok-stable-linux-amd64.zip\n",
        "# get_ipython().system_raw('./ngrok http 4050 &')\n",
        "# !curl -s http://localhost:4040/api/tunnels\n",
        "# !sleep 5\n",
        "# !curl -s http://localhost:4040/api/tunnels | grep -Po 'public_url\":\"(?=https)\\K[^\"]*'"
      ],
      "metadata": {
        "id": "OqzAFZD8-YaD"
      },
      "execution_count": 4,
      "outputs": []
    },
    {
      "cell_type": "code",
      "source": [
        "# Prepare data\n",
        "sample_df = pd.DataFrame({'name':['abc','bcd','cde','def','efg','fgh','ghi',None],\n",
        "                          'age':[35,30,24,21,None,50,None,None],\n",
        "                          'gender':['M','F','F','F','M','M','M','F'],\n",
        "                          'exp_yrs':[5.2,10.8,12.4,7.3,None,2.3,None,1.5],\n",
        "                          'salary':[1200,2400,None,2000,5000,800,1900,None]})\n",
        "sample_df.to_csv(\"sample.csv\",index=False)"
      ],
      "metadata": {
        "id": "-FU3viE78nHy"
      },
      "execution_count": 5,
      "outputs": []
    },
    {
      "cell_type": "markdown",
      "source": [
        "###Read the file"
      ],
      "metadata": {
        "id": "TwmLLF066QUb"
      }
    },
    {
      "cell_type": "code",
      "source": [
        "spark_df = spark.read.format('csv').option('header','true').load(\"sample.csv\",inferSchema=True)\n",
        "spark_df.show()"
      ],
      "metadata": {
        "colab": {
          "base_uri": "https://localhost:8080/"
        },
        "id": "OwKHq5iT9Ab9",
        "outputId": "c9491247-c81e-4f25-aeba-b1ea6f4808b0"
      },
      "execution_count": 6,
      "outputs": [
        {
          "output_type": "stream",
          "name": "stdout",
          "text": [
            "+----+----+------+-------+------+\n",
            "|name| age|gender|exp_yrs|salary|\n",
            "+----+----+------+-------+------+\n",
            "| abc|35.0|     M|    5.2|1200.0|\n",
            "| bcd|30.0|     F|   10.8|2400.0|\n",
            "| cde|24.0|     F|   12.4|  NULL|\n",
            "| def|21.0|     F|    7.3|2000.0|\n",
            "| efg|NULL|     M|   NULL|5000.0|\n",
            "| fgh|50.0|     M|    2.3| 800.0|\n",
            "| ghi|NULL|     M|   NULL|1900.0|\n",
            "|NULL|NULL|     F|    1.5|  NULL|\n",
            "+----+----+------+-------+------+\n",
            "\n"
          ]
        }
      ]
    },
    {
      "cell_type": "code",
      "source": [
        "type(spark_df), spark_df.printSchema(), spark_df.columns"
      ],
      "metadata": {
        "colab": {
          "base_uri": "https://localhost:8080/"
        },
        "id": "KjMTDI8p6ev2",
        "outputId": "9a63cc5b-9c9a-489f-93d3-50ed63a3a30d"
      },
      "execution_count": 7,
      "outputs": [
        {
          "output_type": "stream",
          "name": "stdout",
          "text": [
            "root\n",
            " |-- name: string (nullable = true)\n",
            " |-- age: double (nullable = true)\n",
            " |-- gender: string (nullable = true)\n",
            " |-- exp_yrs: double (nullable = true)\n",
            " |-- salary: double (nullable = true)\n",
            "\n"
          ]
        },
        {
          "output_type": "execute_result",
          "data": {
            "text/plain": [
              "(pyspark.sql.dataframe.DataFrame,\n",
              " None,\n",
              " ['name', 'age', 'gender', 'exp_yrs', 'salary'])"
            ]
          },
          "metadata": {},
          "execution_count": 7
        }
      ]
    },
    {
      "cell_type": "code",
      "source": [
        "spark_df.head(2)"
      ],
      "metadata": {
        "colab": {
          "base_uri": "https://localhost:8080/"
        },
        "id": "8GrnoDFg6_wO",
        "outputId": "9f06e9a2-d1d0-4710-959c-2e9c177f5466"
      },
      "execution_count": 8,
      "outputs": [
        {
          "output_type": "execute_result",
          "data": {
            "text/plain": [
              "[Row(name='abc', age=35.0, gender='M', exp_yrs=5.2, salary=1200.0),\n",
              " Row(name='bcd', age=30.0, gender='F', exp_yrs=10.8, salary=2400.0)]"
            ]
          },
          "metadata": {},
          "execution_count": 8
        }
      ]
    },
    {
      "cell_type": "code",
      "source": [
        "display(spark_df)"
      ],
      "metadata": {
        "colab": {
          "base_uri": "https://localhost:8080/",
          "height": 34
        },
        "id": "R2zcE8pe8z3A",
        "outputId": "283e6e99-ff09-4b74-e146-1ecea923df41"
      },
      "execution_count": 9,
      "outputs": [
        {
          "output_type": "display_data",
          "data": {
            "text/plain": [
              "DataFrame[name: string, age: double, gender: string, exp_yrs: double, salary: double]"
            ]
          },
          "metadata": {}
        }
      ]
    },
    {
      "cell_type": "markdown",
      "source": [
        "###Data Manipulation"
      ],
      "metadata": {
        "id": "Br7PFhgV_eYD"
      }
    },
    {
      "cell_type": "code",
      "source": [
        "# Select a column in dataframe\n",
        "spark_df.select(['Name','exp_yrs']).show()"
      ],
      "metadata": {
        "colab": {
          "base_uri": "https://localhost:8080/"
        },
        "id": "nWIcRbi988YH",
        "outputId": "46e82984-cecb-4ac8-8eb8-ee3489ae6cec"
      },
      "execution_count": 10,
      "outputs": [
        {
          "output_type": "stream",
          "name": "stdout",
          "text": [
            "+----+-------+\n",
            "|Name|exp_yrs|\n",
            "+----+-------+\n",
            "| abc|    5.2|\n",
            "| bcd|   10.8|\n",
            "| cde|   12.4|\n",
            "| def|    7.3|\n",
            "| efg|   NULL|\n",
            "| fgh|    2.3|\n",
            "| ghi|   NULL|\n",
            "|NULL|    1.5|\n",
            "+----+-------+\n",
            "\n"
          ]
        }
      ]
    },
    {
      "cell_type": "code",
      "source": [
        "# Find the dataypes\n",
        "spark_df.dtypes"
      ],
      "metadata": {
        "colab": {
          "base_uri": "https://localhost:8080/"
        },
        "id": "I-2O1BLM9DYy",
        "outputId": "789c84fc-780b-4e85-8c10-dc63fd3f8de6"
      },
      "execution_count": 11,
      "outputs": [
        {
          "output_type": "execute_result",
          "data": {
            "text/plain": [
              "[('name', 'string'),\n",
              " ('age', 'double'),\n",
              " ('gender', 'string'),\n",
              " ('exp_yrs', 'double'),\n",
              " ('salary', 'double')]"
            ]
          },
          "metadata": {},
          "execution_count": 11
        }
      ]
    },
    {
      "cell_type": "code",
      "source": [
        "# Describe summary\n",
        "spark_df.describe().show()"
      ],
      "metadata": {
        "colab": {
          "base_uri": "https://localhost:8080/"
        },
        "id": "Lyt6sQ_N9nVB",
        "outputId": "0465aaad-76ce-4d5e-96e5-634285d6f37c"
      },
      "execution_count": 12,
      "outputs": [
        {
          "output_type": "stream",
          "name": "stdout",
          "text": [
            "+-------+----+------------------+------+-----------------+------------------+\n",
            "|summary|name|               age|gender|          exp_yrs|            salary|\n",
            "+-------+----+------------------+------+-----------------+------------------+\n",
            "|  count|   7|                 5|     8|                6|                 6|\n",
            "|   mean|NULL|              32.0|  NULL|6.583333333333332|2216.6666666666665|\n",
            "| stddev|NULL|11.423659658795863|  NULL|4.432343247839304|1481.1031924436147|\n",
            "|    min| abc|              21.0|     F|              1.5|             800.0|\n",
            "|    max| ghi|              50.0|     M|             12.4|            5000.0|\n",
            "+-------+----+------------------+------+-----------------+------------------+\n",
            "\n"
          ]
        }
      ]
    },
    {
      "cell_type": "code",
      "source": [
        "# Adding new column & rename\n",
        "spark_df = spark_df.withColumn('exp_workers', spark_df['exp_yrs']>10.0).withColumnRenamed('exp_workers','Exp_>_10yrs')\n",
        "spark_df.show()"
      ],
      "metadata": {
        "colab": {
          "base_uri": "https://localhost:8080/"
        },
        "id": "Pw8Apq-d9vu3",
        "outputId": "09e943ff-a4c8-4ab4-e30e-41272560a0a6"
      },
      "execution_count": 13,
      "outputs": [
        {
          "output_type": "stream",
          "name": "stdout",
          "text": [
            "+----+----+------+-------+------+-----------+\n",
            "|name| age|gender|exp_yrs|salary|Exp_>_10yrs|\n",
            "+----+----+------+-------+------+-----------+\n",
            "| abc|35.0|     M|    5.2|1200.0|      false|\n",
            "| bcd|30.0|     F|   10.8|2400.0|       true|\n",
            "| cde|24.0|     F|   12.4|  NULL|       true|\n",
            "| def|21.0|     F|    7.3|2000.0|      false|\n",
            "| efg|NULL|     M|   NULL|5000.0|       NULL|\n",
            "| fgh|50.0|     M|    2.3| 800.0|      false|\n",
            "| ghi|NULL|     M|   NULL|1900.0|       NULL|\n",
            "|NULL|NULL|     F|    1.5|  NULL|      false|\n",
            "+----+----+------+-------+------+-----------+\n",
            "\n"
          ]
        }
      ]
    },
    {
      "cell_type": "code",
      "source": [
        "# Drop the existing column\n",
        "spark_df = spark_df.drop('Exp_>_10yrs')\n",
        "spark_df.show()"
      ],
      "metadata": {
        "colab": {
          "base_uri": "https://localhost:8080/"
        },
        "id": "vg3cu0ZR-PO6",
        "outputId": "4d64c31b-c50b-45bc-cbb1-82a519066939"
      },
      "execution_count": 14,
      "outputs": [
        {
          "output_type": "stream",
          "name": "stdout",
          "text": [
            "+----+----+------+-------+------+\n",
            "|name| age|gender|exp_yrs|salary|\n",
            "+----+----+------+-------+------+\n",
            "| abc|35.0|     M|    5.2|1200.0|\n",
            "| bcd|30.0|     F|   10.8|2400.0|\n",
            "| cde|24.0|     F|   12.4|  NULL|\n",
            "| def|21.0|     F|    7.3|2000.0|\n",
            "| efg|NULL|     M|   NULL|5000.0|\n",
            "| fgh|50.0|     M|    2.3| 800.0|\n",
            "| ghi|NULL|     M|   NULL|1900.0|\n",
            "|NULL|NULL|     F|    1.5|  NULL|\n",
            "+----+----+------+-------+------+\n",
            "\n"
          ]
        }
      ]
    },
    {
      "cell_type": "code",
      "source": [
        "# Drop na rows\n",
        "spark_df.show()\n",
        "print(\"Drop any rows with NA\")\n",
        "spark_df.dropna().show()\n",
        "print(\"Drop any rows with min thresh values as Non null\")\n",
        "spark_df.dropna(how='any',thresh=2).show()\n",
        "print(\"Drop any rows with NA in specific cols\",['name','salary'])\n",
        "spark_df.dropna(how='any',subset=['name','salary']).show()"
      ],
      "metadata": {
        "colab": {
          "base_uri": "https://localhost:8080/"
        },
        "id": "Ycfzx1QA-fHM",
        "outputId": "11ea7175-138d-497a-f0fa-8cdbada1340f"
      },
      "execution_count": 15,
      "outputs": [
        {
          "output_type": "stream",
          "name": "stdout",
          "text": [
            "+----+----+------+-------+------+\n",
            "|name| age|gender|exp_yrs|salary|\n",
            "+----+----+------+-------+------+\n",
            "| abc|35.0|     M|    5.2|1200.0|\n",
            "| bcd|30.0|     F|   10.8|2400.0|\n",
            "| cde|24.0|     F|   12.4|  NULL|\n",
            "| def|21.0|     F|    7.3|2000.0|\n",
            "| efg|NULL|     M|   NULL|5000.0|\n",
            "| fgh|50.0|     M|    2.3| 800.0|\n",
            "| ghi|NULL|     M|   NULL|1900.0|\n",
            "|NULL|NULL|     F|    1.5|  NULL|\n",
            "+----+----+------+-------+------+\n",
            "\n",
            "Drop any rows with NA\n",
            "+----+----+------+-------+------+\n",
            "|name| age|gender|exp_yrs|salary|\n",
            "+----+----+------+-------+------+\n",
            "| abc|35.0|     M|    5.2|1200.0|\n",
            "| bcd|30.0|     F|   10.8|2400.0|\n",
            "| def|21.0|     F|    7.3|2000.0|\n",
            "| fgh|50.0|     M|    2.3| 800.0|\n",
            "+----+----+------+-------+------+\n",
            "\n",
            "Drop any rows with min thresh values as Non null\n",
            "+----+----+------+-------+------+\n",
            "|name| age|gender|exp_yrs|salary|\n",
            "+----+----+------+-------+------+\n",
            "| abc|35.0|     M|    5.2|1200.0|\n",
            "| bcd|30.0|     F|   10.8|2400.0|\n",
            "| cde|24.0|     F|   12.4|  NULL|\n",
            "| def|21.0|     F|    7.3|2000.0|\n",
            "| efg|NULL|     M|   NULL|5000.0|\n",
            "| fgh|50.0|     M|    2.3| 800.0|\n",
            "| ghi|NULL|     M|   NULL|1900.0|\n",
            "|NULL|NULL|     F|    1.5|  NULL|\n",
            "+----+----+------+-------+------+\n",
            "\n",
            "Drop any rows with NA in specific cols ['name', 'salary']\n",
            "+----+----+------+-------+------+\n",
            "|name| age|gender|exp_yrs|salary|\n",
            "+----+----+------+-------+------+\n",
            "| abc|35.0|     M|    5.2|1200.0|\n",
            "| bcd|30.0|     F|   10.8|2400.0|\n",
            "| def|21.0|     F|    7.3|2000.0|\n",
            "| efg|NULL|     M|   NULL|5000.0|\n",
            "| fgh|50.0|     M|    2.3| 800.0|\n",
            "| ghi|NULL|     M|   NULL|1900.0|\n",
            "+----+----+------+-------+------+\n",
            "\n"
          ]
        }
      ]
    },
    {
      "cell_type": "code",
      "source": [
        "# Data imputer\n",
        "from pyspark.ml.feature import Imputer\n",
        "\n",
        "imputer = Imputer(\n",
        "          inputCols=['age','exp_yrs','salary'],\n",
        "          outputCols=[\"{}_imputed\".format(c) for c in ['age','exp_yrs','salary']]\n",
        ").setStrategy(\"mean\")\n",
        "\n",
        "imputer.fit(spark_df).transform(spark_df).show()"
      ],
      "metadata": {
        "colab": {
          "base_uri": "https://localhost:8080/"
        },
        "id": "HVW_ha-pEFSQ",
        "outputId": "019a3eca-646f-4fba-bd9e-72ef39fecb33"
      },
      "execution_count": 16,
      "outputs": [
        {
          "output_type": "stream",
          "name": "stdout",
          "text": [
            "+----+----+------+-------+------+-----------+-----------------+------------------+\n",
            "|name| age|gender|exp_yrs|salary|age_imputed|  exp_yrs_imputed|    salary_imputed|\n",
            "+----+----+------+-------+------+-----------+-----------------+------------------+\n",
            "| abc|35.0|     M|    5.2|1200.0|       35.0|              5.2|            1200.0|\n",
            "| bcd|30.0|     F|   10.8|2400.0|       30.0|             10.8|            2400.0|\n",
            "| cde|24.0|     F|   12.4|  NULL|       24.0|             12.4|2216.6666666666665|\n",
            "| def|21.0|     F|    7.3|2000.0|       21.0|              7.3|            2000.0|\n",
            "| efg|NULL|     M|   NULL|5000.0|       32.0|6.583333333333332|            5000.0|\n",
            "| fgh|50.0|     M|    2.3| 800.0|       50.0|              2.3|             800.0|\n",
            "| ghi|NULL|     M|   NULL|1900.0|       32.0|6.583333333333332|            1900.0|\n",
            "|NULL|NULL|     F|    1.5|  NULL|       32.0|              1.5|2216.6666666666665|\n",
            "+----+----+------+-------+------+-----------+-----------------+------------------+\n",
            "\n"
          ]
        }
      ]
    },
    {
      "cell_type": "code",
      "source": [
        "# Filter operation\n",
        "spark_df.filter(\"salary > 1200\").dropna(how='any').show()"
      ],
      "metadata": {
        "colab": {
          "base_uri": "https://localhost:8080/"
        },
        "id": "gCPM-XWqEX1L",
        "outputId": "4558a92d-a5c4-4053-d6bd-47790511985c"
      },
      "execution_count": 17,
      "outputs": [
        {
          "output_type": "stream",
          "name": "stdout",
          "text": [
            "+----+----+------+-------+------+\n",
            "|name| age|gender|exp_yrs|salary|\n",
            "+----+----+------+-------+------+\n",
            "| bcd|30.0|     F|   10.8|2400.0|\n",
            "| def|21.0|     F|    7.3|2000.0|\n",
            "+----+----+------+-------+------+\n",
            "\n"
          ]
        }
      ]
    },
    {
      "cell_type": "code",
      "source": [
        "spark_df.filter((spark_df['salary']>500) & (~(spark_df['age']<30.0))).show()"
      ],
      "metadata": {
        "colab": {
          "base_uri": "https://localhost:8080/"
        },
        "id": "XBy72MClhVej",
        "outputId": "183308b0-ce90-4552-e2ab-0ba94f120410"
      },
      "execution_count": 18,
      "outputs": [
        {
          "output_type": "stream",
          "name": "stdout",
          "text": [
            "+----+----+------+-------+------+\n",
            "|name| age|gender|exp_yrs|salary|\n",
            "+----+----+------+-------+------+\n",
            "| abc|35.0|     M|    5.2|1200.0|\n",
            "| bcd|30.0|     F|   10.8|2400.0|\n",
            "| fgh|50.0|     M|    2.3| 800.0|\n",
            "+----+----+------+-------+------+\n",
            "\n"
          ]
        }
      ]
    },
    {
      "cell_type": "code",
      "source": [
        "# Groupby & Agg function\n",
        "spark_df.groupBy('gender').mean().show()"
      ],
      "metadata": {
        "colab": {
          "base_uri": "https://localhost:8080/"
        },
        "id": "e7kOLB2Uh14x",
        "outputId": "d1b55c0a-7973-492e-94cc-6999e7b0ff60"
      },
      "execution_count": 19,
      "outputs": [
        {
          "output_type": "stream",
          "name": "stdout",
          "text": [
            "+------+--------+------------+-----------+\n",
            "|gender|avg(age)|avg(exp_yrs)|avg(salary)|\n",
            "+------+--------+------------+-----------+\n",
            "|     F|    25.0|         8.0|     2200.0|\n",
            "|     M|    42.5|        3.75|     2225.0|\n",
            "+------+--------+------------+-----------+\n",
            "\n"
          ]
        }
      ]
    },
    {
      "cell_type": "markdown",
      "source": [
        "###Machine learning using PySpark\n",
        "\n",
        "####1. Data preparation"
      ],
      "metadata": {
        "id": "6JDf0h65urcx"
      }
    },
    {
      "cell_type": "code",
      "source": [
        "from sklearn.datasets import fetch_california_housing\n",
        "\n",
        "data = fetch_california_housing()\n",
        "data['data']"
      ],
      "metadata": {
        "id": "fpXmVos3jG-0",
        "colab": {
          "base_uri": "https://localhost:8080/"
        },
        "outputId": "7d658868-eb4c-4f3d-d44f-68b605b67fde"
      },
      "execution_count": 85,
      "outputs": [
        {
          "output_type": "execute_result",
          "data": {
            "text/plain": [
              "array([[   8.3252    ,   41.        ,    6.98412698, ...,    2.55555556,\n",
              "          37.88      , -122.23      ],\n",
              "       [   8.3014    ,   21.        ,    6.23813708, ...,    2.10984183,\n",
              "          37.86      , -122.22      ],\n",
              "       [   7.2574    ,   52.        ,    8.28813559, ...,    2.80225989,\n",
              "          37.85      , -122.24      ],\n",
              "       ...,\n",
              "       [   1.7       ,   17.        ,    5.20554273, ...,    2.3256351 ,\n",
              "          39.43      , -121.22      ],\n",
              "       [   1.8672    ,   18.        ,    5.32951289, ...,    2.12320917,\n",
              "          39.43      , -121.32      ],\n",
              "       [   2.3886    ,   16.        ,    5.25471698, ...,    2.61698113,\n",
              "          39.37      , -121.24      ]])"
            ]
          },
          "metadata": {},
          "execution_count": 85
        }
      ]
    },
    {
      "cell_type": "code",
      "source": [
        "df = pd.DataFrame(data['data'],columns=data['feature_names'])\n",
        "df[data['target_names']] = data['target'].reshape(-1,1)\n",
        "df"
      ],
      "metadata": {
        "colab": {
          "base_uri": "https://localhost:8080/",
          "height": 424
        },
        "id": "IuKmUBaZvqxe",
        "outputId": "804514f6-665f-4c57-d30f-91b709e9a380"
      },
      "execution_count": 86,
      "outputs": [
        {
          "output_type": "execute_result",
          "data": {
            "text/plain": [
              "       MedInc  HouseAge  AveRooms  AveBedrms  Population  AveOccup  Latitude  \\\n",
              "0      8.3252      41.0  6.984127   1.023810       322.0  2.555556     37.88   \n",
              "1      8.3014      21.0  6.238137   0.971880      2401.0  2.109842     37.86   \n",
              "2      7.2574      52.0  8.288136   1.073446       496.0  2.802260     37.85   \n",
              "3      5.6431      52.0  5.817352   1.073059       558.0  2.547945     37.85   \n",
              "4      3.8462      52.0  6.281853   1.081081       565.0  2.181467     37.85   \n",
              "...       ...       ...       ...        ...         ...       ...       ...   \n",
              "20635  1.5603      25.0  5.045455   1.133333       845.0  2.560606     39.48   \n",
              "20636  2.5568      18.0  6.114035   1.315789       356.0  3.122807     39.49   \n",
              "20637  1.7000      17.0  5.205543   1.120092      1007.0  2.325635     39.43   \n",
              "20638  1.8672      18.0  5.329513   1.171920       741.0  2.123209     39.43   \n",
              "20639  2.3886      16.0  5.254717   1.162264      1387.0  2.616981     39.37   \n",
              "\n",
              "       Longitude  MedHouseVal  \n",
              "0        -122.23        4.526  \n",
              "1        -122.22        3.585  \n",
              "2        -122.24        3.521  \n",
              "3        -122.25        3.413  \n",
              "4        -122.25        3.422  \n",
              "...          ...          ...  \n",
              "20635    -121.09        0.781  \n",
              "20636    -121.21        0.771  \n",
              "20637    -121.22        0.923  \n",
              "20638    -121.32        0.847  \n",
              "20639    -121.24        0.894  \n",
              "\n",
              "[20640 rows x 9 columns]"
            ],
            "text/html": [
              "\n",
              "  <div id=\"df-26f22d1c-38b0-46d8-bf69-dd05a1f44d44\" class=\"colab-df-container\">\n",
              "    <div>\n",
              "<style scoped>\n",
              "    .dataframe tbody tr th:only-of-type {\n",
              "        vertical-align: middle;\n",
              "    }\n",
              "\n",
              "    .dataframe tbody tr th {\n",
              "        vertical-align: top;\n",
              "    }\n",
              "\n",
              "    .dataframe thead th {\n",
              "        text-align: right;\n",
              "    }\n",
              "</style>\n",
              "<table border=\"1\" class=\"dataframe\">\n",
              "  <thead>\n",
              "    <tr style=\"text-align: right;\">\n",
              "      <th></th>\n",
              "      <th>MedInc</th>\n",
              "      <th>HouseAge</th>\n",
              "      <th>AveRooms</th>\n",
              "      <th>AveBedrms</th>\n",
              "      <th>Population</th>\n",
              "      <th>AveOccup</th>\n",
              "      <th>Latitude</th>\n",
              "      <th>Longitude</th>\n",
              "      <th>MedHouseVal</th>\n",
              "    </tr>\n",
              "  </thead>\n",
              "  <tbody>\n",
              "    <tr>\n",
              "      <th>0</th>\n",
              "      <td>8.3252</td>\n",
              "      <td>41.0</td>\n",
              "      <td>6.984127</td>\n",
              "      <td>1.023810</td>\n",
              "      <td>322.0</td>\n",
              "      <td>2.555556</td>\n",
              "      <td>37.88</td>\n",
              "      <td>-122.23</td>\n",
              "      <td>4.526</td>\n",
              "    </tr>\n",
              "    <tr>\n",
              "      <th>1</th>\n",
              "      <td>8.3014</td>\n",
              "      <td>21.0</td>\n",
              "      <td>6.238137</td>\n",
              "      <td>0.971880</td>\n",
              "      <td>2401.0</td>\n",
              "      <td>2.109842</td>\n",
              "      <td>37.86</td>\n",
              "      <td>-122.22</td>\n",
              "      <td>3.585</td>\n",
              "    </tr>\n",
              "    <tr>\n",
              "      <th>2</th>\n",
              "      <td>7.2574</td>\n",
              "      <td>52.0</td>\n",
              "      <td>8.288136</td>\n",
              "      <td>1.073446</td>\n",
              "      <td>496.0</td>\n",
              "      <td>2.802260</td>\n",
              "      <td>37.85</td>\n",
              "      <td>-122.24</td>\n",
              "      <td>3.521</td>\n",
              "    </tr>\n",
              "    <tr>\n",
              "      <th>3</th>\n",
              "      <td>5.6431</td>\n",
              "      <td>52.0</td>\n",
              "      <td>5.817352</td>\n",
              "      <td>1.073059</td>\n",
              "      <td>558.0</td>\n",
              "      <td>2.547945</td>\n",
              "      <td>37.85</td>\n",
              "      <td>-122.25</td>\n",
              "      <td>3.413</td>\n",
              "    </tr>\n",
              "    <tr>\n",
              "      <th>4</th>\n",
              "      <td>3.8462</td>\n",
              "      <td>52.0</td>\n",
              "      <td>6.281853</td>\n",
              "      <td>1.081081</td>\n",
              "      <td>565.0</td>\n",
              "      <td>2.181467</td>\n",
              "      <td>37.85</td>\n",
              "      <td>-122.25</td>\n",
              "      <td>3.422</td>\n",
              "    </tr>\n",
              "    <tr>\n",
              "      <th>...</th>\n",
              "      <td>...</td>\n",
              "      <td>...</td>\n",
              "      <td>...</td>\n",
              "      <td>...</td>\n",
              "      <td>...</td>\n",
              "      <td>...</td>\n",
              "      <td>...</td>\n",
              "      <td>...</td>\n",
              "      <td>...</td>\n",
              "    </tr>\n",
              "    <tr>\n",
              "      <th>20635</th>\n",
              "      <td>1.5603</td>\n",
              "      <td>25.0</td>\n",
              "      <td>5.045455</td>\n",
              "      <td>1.133333</td>\n",
              "      <td>845.0</td>\n",
              "      <td>2.560606</td>\n",
              "      <td>39.48</td>\n",
              "      <td>-121.09</td>\n",
              "      <td>0.781</td>\n",
              "    </tr>\n",
              "    <tr>\n",
              "      <th>20636</th>\n",
              "      <td>2.5568</td>\n",
              "      <td>18.0</td>\n",
              "      <td>6.114035</td>\n",
              "      <td>1.315789</td>\n",
              "      <td>356.0</td>\n",
              "      <td>3.122807</td>\n",
              "      <td>39.49</td>\n",
              "      <td>-121.21</td>\n",
              "      <td>0.771</td>\n",
              "    </tr>\n",
              "    <tr>\n",
              "      <th>20637</th>\n",
              "      <td>1.7000</td>\n",
              "      <td>17.0</td>\n",
              "      <td>5.205543</td>\n",
              "      <td>1.120092</td>\n",
              "      <td>1007.0</td>\n",
              "      <td>2.325635</td>\n",
              "      <td>39.43</td>\n",
              "      <td>-121.22</td>\n",
              "      <td>0.923</td>\n",
              "    </tr>\n",
              "    <tr>\n",
              "      <th>20638</th>\n",
              "      <td>1.8672</td>\n",
              "      <td>18.0</td>\n",
              "      <td>5.329513</td>\n",
              "      <td>1.171920</td>\n",
              "      <td>741.0</td>\n",
              "      <td>2.123209</td>\n",
              "      <td>39.43</td>\n",
              "      <td>-121.32</td>\n",
              "      <td>0.847</td>\n",
              "    </tr>\n",
              "    <tr>\n",
              "      <th>20639</th>\n",
              "      <td>2.3886</td>\n",
              "      <td>16.0</td>\n",
              "      <td>5.254717</td>\n",
              "      <td>1.162264</td>\n",
              "      <td>1387.0</td>\n",
              "      <td>2.616981</td>\n",
              "      <td>39.37</td>\n",
              "      <td>-121.24</td>\n",
              "      <td>0.894</td>\n",
              "    </tr>\n",
              "  </tbody>\n",
              "</table>\n",
              "<p>20640 rows × 9 columns</p>\n",
              "</div>\n",
              "    <div class=\"colab-df-buttons\">\n",
              "\n",
              "  <div class=\"colab-df-container\">\n",
              "    <button class=\"colab-df-convert\" onclick=\"convertToInteractive('df-26f22d1c-38b0-46d8-bf69-dd05a1f44d44')\"\n",
              "            title=\"Convert this dataframe to an interactive table.\"\n",
              "            style=\"display:none;\">\n",
              "\n",
              "  <svg xmlns=\"http://www.w3.org/2000/svg\" height=\"24px\" viewBox=\"0 -960 960 960\">\n",
              "    <path d=\"M120-120v-720h720v720H120Zm60-500h600v-160H180v160Zm220 220h160v-160H400v160Zm0 220h160v-160H400v160ZM180-400h160v-160H180v160Zm440 0h160v-160H620v160ZM180-180h160v-160H180v160Zm440 0h160v-160H620v160Z\"/>\n",
              "  </svg>\n",
              "    </button>\n",
              "\n",
              "  <style>\n",
              "    .colab-df-container {\n",
              "      display:flex;\n",
              "      gap: 12px;\n",
              "    }\n",
              "\n",
              "    .colab-df-convert {\n",
              "      background-color: #E8F0FE;\n",
              "      border: none;\n",
              "      border-radius: 50%;\n",
              "      cursor: pointer;\n",
              "      display: none;\n",
              "      fill: #1967D2;\n",
              "      height: 32px;\n",
              "      padding: 0 0 0 0;\n",
              "      width: 32px;\n",
              "    }\n",
              "\n",
              "    .colab-df-convert:hover {\n",
              "      background-color: #E2EBFA;\n",
              "      box-shadow: 0px 1px 2px rgba(60, 64, 67, 0.3), 0px 1px 3px 1px rgba(60, 64, 67, 0.15);\n",
              "      fill: #174EA6;\n",
              "    }\n",
              "\n",
              "    .colab-df-buttons div {\n",
              "      margin-bottom: 4px;\n",
              "    }\n",
              "\n",
              "    [theme=dark] .colab-df-convert {\n",
              "      background-color: #3B4455;\n",
              "      fill: #D2E3FC;\n",
              "    }\n",
              "\n",
              "    [theme=dark] .colab-df-convert:hover {\n",
              "      background-color: #434B5C;\n",
              "      box-shadow: 0px 1px 3px 1px rgba(0, 0, 0, 0.15);\n",
              "      filter: drop-shadow(0px 1px 2px rgba(0, 0, 0, 0.3));\n",
              "      fill: #FFFFFF;\n",
              "    }\n",
              "  </style>\n",
              "\n",
              "    <script>\n",
              "      const buttonEl =\n",
              "        document.querySelector('#df-26f22d1c-38b0-46d8-bf69-dd05a1f44d44 button.colab-df-convert');\n",
              "      buttonEl.style.display =\n",
              "        google.colab.kernel.accessAllowed ? 'block' : 'none';\n",
              "\n",
              "      async function convertToInteractive(key) {\n",
              "        const element = document.querySelector('#df-26f22d1c-38b0-46d8-bf69-dd05a1f44d44');\n",
              "        const dataTable =\n",
              "          await google.colab.kernel.invokeFunction('convertToInteractive',\n",
              "                                                    [key], {});\n",
              "        if (!dataTable) return;\n",
              "\n",
              "        const docLinkHtml = 'Like what you see? Visit the ' +\n",
              "          '<a target=\"_blank\" href=https://colab.research.google.com/notebooks/data_table.ipynb>data table notebook</a>'\n",
              "          + ' to learn more about interactive tables.';\n",
              "        element.innerHTML = '';\n",
              "        dataTable['output_type'] = 'display_data';\n",
              "        await google.colab.output.renderOutput(dataTable, element);\n",
              "        const docLink = document.createElement('div');\n",
              "        docLink.innerHTML = docLinkHtml;\n",
              "        element.appendChild(docLink);\n",
              "      }\n",
              "    </script>\n",
              "  </div>\n",
              "\n",
              "\n",
              "<div id=\"df-e15aed27-ea72-4166-bc6e-4b9e0f6b2364\">\n",
              "  <button class=\"colab-df-quickchart\" onclick=\"quickchart('df-e15aed27-ea72-4166-bc6e-4b9e0f6b2364')\"\n",
              "            title=\"Suggest charts\"\n",
              "            style=\"display:none;\">\n",
              "\n",
              "<svg xmlns=\"http://www.w3.org/2000/svg\" height=\"24px\"viewBox=\"0 0 24 24\"\n",
              "     width=\"24px\">\n",
              "    <g>\n",
              "        <path d=\"M19 3H5c-1.1 0-2 .9-2 2v14c0 1.1.9 2 2 2h14c1.1 0 2-.9 2-2V5c0-1.1-.9-2-2-2zM9 17H7v-7h2v7zm4 0h-2V7h2v10zm4 0h-2v-4h2v4z\"/>\n",
              "    </g>\n",
              "</svg>\n",
              "  </button>\n",
              "\n",
              "<style>\n",
              "  .colab-df-quickchart {\n",
              "      --bg-color: #E8F0FE;\n",
              "      --fill-color: #1967D2;\n",
              "      --hover-bg-color: #E2EBFA;\n",
              "      --hover-fill-color: #174EA6;\n",
              "      --disabled-fill-color: #AAA;\n",
              "      --disabled-bg-color: #DDD;\n",
              "  }\n",
              "\n",
              "  [theme=dark] .colab-df-quickchart {\n",
              "      --bg-color: #3B4455;\n",
              "      --fill-color: #D2E3FC;\n",
              "      --hover-bg-color: #434B5C;\n",
              "      --hover-fill-color: #FFFFFF;\n",
              "      --disabled-bg-color: #3B4455;\n",
              "      --disabled-fill-color: #666;\n",
              "  }\n",
              "\n",
              "  .colab-df-quickchart {\n",
              "    background-color: var(--bg-color);\n",
              "    border: none;\n",
              "    border-radius: 50%;\n",
              "    cursor: pointer;\n",
              "    display: none;\n",
              "    fill: var(--fill-color);\n",
              "    height: 32px;\n",
              "    padding: 0;\n",
              "    width: 32px;\n",
              "  }\n",
              "\n",
              "  .colab-df-quickchart:hover {\n",
              "    background-color: var(--hover-bg-color);\n",
              "    box-shadow: 0 1px 2px rgba(60, 64, 67, 0.3), 0 1px 3px 1px rgba(60, 64, 67, 0.15);\n",
              "    fill: var(--button-hover-fill-color);\n",
              "  }\n",
              "\n",
              "  .colab-df-quickchart-complete:disabled,\n",
              "  .colab-df-quickchart-complete:disabled:hover {\n",
              "    background-color: var(--disabled-bg-color);\n",
              "    fill: var(--disabled-fill-color);\n",
              "    box-shadow: none;\n",
              "  }\n",
              "\n",
              "  .colab-df-spinner {\n",
              "    border: 2px solid var(--fill-color);\n",
              "    border-color: transparent;\n",
              "    border-bottom-color: var(--fill-color);\n",
              "    animation:\n",
              "      spin 1s steps(1) infinite;\n",
              "  }\n",
              "\n",
              "  @keyframes spin {\n",
              "    0% {\n",
              "      border-color: transparent;\n",
              "      border-bottom-color: var(--fill-color);\n",
              "      border-left-color: var(--fill-color);\n",
              "    }\n",
              "    20% {\n",
              "      border-color: transparent;\n",
              "      border-left-color: var(--fill-color);\n",
              "      border-top-color: var(--fill-color);\n",
              "    }\n",
              "    30% {\n",
              "      border-color: transparent;\n",
              "      border-left-color: var(--fill-color);\n",
              "      border-top-color: var(--fill-color);\n",
              "      border-right-color: var(--fill-color);\n",
              "    }\n",
              "    40% {\n",
              "      border-color: transparent;\n",
              "      border-right-color: var(--fill-color);\n",
              "      border-top-color: var(--fill-color);\n",
              "    }\n",
              "    60% {\n",
              "      border-color: transparent;\n",
              "      border-right-color: var(--fill-color);\n",
              "    }\n",
              "    80% {\n",
              "      border-color: transparent;\n",
              "      border-right-color: var(--fill-color);\n",
              "      border-bottom-color: var(--fill-color);\n",
              "    }\n",
              "    90% {\n",
              "      border-color: transparent;\n",
              "      border-bottom-color: var(--fill-color);\n",
              "    }\n",
              "  }\n",
              "</style>\n",
              "\n",
              "  <script>\n",
              "    async function quickchart(key) {\n",
              "      const quickchartButtonEl =\n",
              "        document.querySelector('#' + key + ' button');\n",
              "      quickchartButtonEl.disabled = true;  // To prevent multiple clicks.\n",
              "      quickchartButtonEl.classList.add('colab-df-spinner');\n",
              "      try {\n",
              "        const charts = await google.colab.kernel.invokeFunction(\n",
              "            'suggestCharts', [key], {});\n",
              "      } catch (error) {\n",
              "        console.error('Error during call to suggestCharts:', error);\n",
              "      }\n",
              "      quickchartButtonEl.classList.remove('colab-df-spinner');\n",
              "      quickchartButtonEl.classList.add('colab-df-quickchart-complete');\n",
              "    }\n",
              "    (() => {\n",
              "      let quickchartButtonEl =\n",
              "        document.querySelector('#df-e15aed27-ea72-4166-bc6e-4b9e0f6b2364 button');\n",
              "      quickchartButtonEl.style.display =\n",
              "        google.colab.kernel.accessAllowed ? 'block' : 'none';\n",
              "    })();\n",
              "  </script>\n",
              "</div>\n",
              "\n",
              "  <div id=\"id_67671d1a-dbaf-4eaa-8e59-c167afc306f2\">\n",
              "    <style>\n",
              "      .colab-df-generate {\n",
              "        background-color: #E8F0FE;\n",
              "        border: none;\n",
              "        border-radius: 50%;\n",
              "        cursor: pointer;\n",
              "        display: none;\n",
              "        fill: #1967D2;\n",
              "        height: 32px;\n",
              "        padding: 0 0 0 0;\n",
              "        width: 32px;\n",
              "      }\n",
              "\n",
              "      .colab-df-generate:hover {\n",
              "        background-color: #E2EBFA;\n",
              "        box-shadow: 0px 1px 2px rgba(60, 64, 67, 0.3), 0px 1px 3px 1px rgba(60, 64, 67, 0.15);\n",
              "        fill: #174EA6;\n",
              "      }\n",
              "\n",
              "      [theme=dark] .colab-df-generate {\n",
              "        background-color: #3B4455;\n",
              "        fill: #D2E3FC;\n",
              "      }\n",
              "\n",
              "      [theme=dark] .colab-df-generate:hover {\n",
              "        background-color: #434B5C;\n",
              "        box-shadow: 0px 1px 3px 1px rgba(0, 0, 0, 0.15);\n",
              "        filter: drop-shadow(0px 1px 2px rgba(0, 0, 0, 0.3));\n",
              "        fill: #FFFFFF;\n",
              "      }\n",
              "    </style>\n",
              "    <button class=\"colab-df-generate\" onclick=\"generateWithVariable('df')\"\n",
              "            title=\"Generate code using this dataframe.\"\n",
              "            style=\"display:none;\">\n",
              "\n",
              "  <svg xmlns=\"http://www.w3.org/2000/svg\" height=\"24px\"viewBox=\"0 0 24 24\"\n",
              "       width=\"24px\">\n",
              "    <path d=\"M7,19H8.4L18.45,9,17,7.55,7,17.6ZM5,21V16.75L18.45,3.32a2,2,0,0,1,2.83,0l1.4,1.43a1.91,1.91,0,0,1,.58,1.4,1.91,1.91,0,0,1-.58,1.4L9.25,21ZM18.45,9,17,7.55Zm-12,3A5.31,5.31,0,0,0,4.9,8.1,5.31,5.31,0,0,0,1,6.5,5.31,5.31,0,0,0,4.9,4.9,5.31,5.31,0,0,0,6.5,1,5.31,5.31,0,0,0,8.1,4.9,5.31,5.31,0,0,0,12,6.5,5.46,5.46,0,0,0,6.5,12Z\"/>\n",
              "  </svg>\n",
              "    </button>\n",
              "    <script>\n",
              "      (() => {\n",
              "      const buttonEl =\n",
              "        document.querySelector('#id_67671d1a-dbaf-4eaa-8e59-c167afc306f2 button.colab-df-generate');\n",
              "      buttonEl.style.display =\n",
              "        google.colab.kernel.accessAllowed ? 'block' : 'none';\n",
              "\n",
              "      buttonEl.onclick = () => {\n",
              "        google.colab.notebook.generateWithVariable('df');\n",
              "      }\n",
              "      })();\n",
              "    </script>\n",
              "  </div>\n",
              "\n",
              "    </div>\n",
              "  </div>\n"
            ]
          },
          "metadata": {},
          "execution_count": 86
        }
      ]
    },
    {
      "cell_type": "code",
      "source": [
        "df['Population_rank'] = pd.cut(df['Population'],bins=3,labels=[f\"pop_rank_{x+1}\" for x in range(3)])\n",
        "df['Old_house'] = np.where(df['HouseAge'] < 5, 'New','Old')\n",
        "df.to_csv(\"california_housing_price.csv\",index=False)\n",
        "df.head()"
      ],
      "metadata": {
        "colab": {
          "base_uri": "https://localhost:8080/",
          "height": 206
        },
        "id": "BiGeFDbyv3ba",
        "outputId": "20b2d3c5-fe5c-4849-9e86-939eb02542e1"
      },
      "execution_count": 87,
      "outputs": [
        {
          "output_type": "execute_result",
          "data": {
            "text/plain": [
              "   MedInc  HouseAge  AveRooms  AveBedrms  Population  AveOccup  Latitude  \\\n",
              "0  8.3252      41.0  6.984127   1.023810       322.0  2.555556     37.88   \n",
              "1  8.3014      21.0  6.238137   0.971880      2401.0  2.109842     37.86   \n",
              "2  7.2574      52.0  8.288136   1.073446       496.0  2.802260     37.85   \n",
              "3  5.6431      52.0  5.817352   1.073059       558.0  2.547945     37.85   \n",
              "4  3.8462      52.0  6.281853   1.081081       565.0  2.181467     37.85   \n",
              "\n",
              "   Longitude  MedHouseVal Population_rank Old_house  \n",
              "0    -122.23        4.526      pop_rank_1       Old  \n",
              "1    -122.22        3.585      pop_rank_1       Old  \n",
              "2    -122.24        3.521      pop_rank_1       Old  \n",
              "3    -122.25        3.413      pop_rank_1       Old  \n",
              "4    -122.25        3.422      pop_rank_1       Old  "
            ],
            "text/html": [
              "\n",
              "  <div id=\"df-435c6fc9-3c17-4f61-9a37-49e6983a525a\" class=\"colab-df-container\">\n",
              "    <div>\n",
              "<style scoped>\n",
              "    .dataframe tbody tr th:only-of-type {\n",
              "        vertical-align: middle;\n",
              "    }\n",
              "\n",
              "    .dataframe tbody tr th {\n",
              "        vertical-align: top;\n",
              "    }\n",
              "\n",
              "    .dataframe thead th {\n",
              "        text-align: right;\n",
              "    }\n",
              "</style>\n",
              "<table border=\"1\" class=\"dataframe\">\n",
              "  <thead>\n",
              "    <tr style=\"text-align: right;\">\n",
              "      <th></th>\n",
              "      <th>MedInc</th>\n",
              "      <th>HouseAge</th>\n",
              "      <th>AveRooms</th>\n",
              "      <th>AveBedrms</th>\n",
              "      <th>Population</th>\n",
              "      <th>AveOccup</th>\n",
              "      <th>Latitude</th>\n",
              "      <th>Longitude</th>\n",
              "      <th>MedHouseVal</th>\n",
              "      <th>Population_rank</th>\n",
              "      <th>Old_house</th>\n",
              "    </tr>\n",
              "  </thead>\n",
              "  <tbody>\n",
              "    <tr>\n",
              "      <th>0</th>\n",
              "      <td>8.3252</td>\n",
              "      <td>41.0</td>\n",
              "      <td>6.984127</td>\n",
              "      <td>1.023810</td>\n",
              "      <td>322.0</td>\n",
              "      <td>2.555556</td>\n",
              "      <td>37.88</td>\n",
              "      <td>-122.23</td>\n",
              "      <td>4.526</td>\n",
              "      <td>pop_rank_1</td>\n",
              "      <td>Old</td>\n",
              "    </tr>\n",
              "    <tr>\n",
              "      <th>1</th>\n",
              "      <td>8.3014</td>\n",
              "      <td>21.0</td>\n",
              "      <td>6.238137</td>\n",
              "      <td>0.971880</td>\n",
              "      <td>2401.0</td>\n",
              "      <td>2.109842</td>\n",
              "      <td>37.86</td>\n",
              "      <td>-122.22</td>\n",
              "      <td>3.585</td>\n",
              "      <td>pop_rank_1</td>\n",
              "      <td>Old</td>\n",
              "    </tr>\n",
              "    <tr>\n",
              "      <th>2</th>\n",
              "      <td>7.2574</td>\n",
              "      <td>52.0</td>\n",
              "      <td>8.288136</td>\n",
              "      <td>1.073446</td>\n",
              "      <td>496.0</td>\n",
              "      <td>2.802260</td>\n",
              "      <td>37.85</td>\n",
              "      <td>-122.24</td>\n",
              "      <td>3.521</td>\n",
              "      <td>pop_rank_1</td>\n",
              "      <td>Old</td>\n",
              "    </tr>\n",
              "    <tr>\n",
              "      <th>3</th>\n",
              "      <td>5.6431</td>\n",
              "      <td>52.0</td>\n",
              "      <td>5.817352</td>\n",
              "      <td>1.073059</td>\n",
              "      <td>558.0</td>\n",
              "      <td>2.547945</td>\n",
              "      <td>37.85</td>\n",
              "      <td>-122.25</td>\n",
              "      <td>3.413</td>\n",
              "      <td>pop_rank_1</td>\n",
              "      <td>Old</td>\n",
              "    </tr>\n",
              "    <tr>\n",
              "      <th>4</th>\n",
              "      <td>3.8462</td>\n",
              "      <td>52.0</td>\n",
              "      <td>6.281853</td>\n",
              "      <td>1.081081</td>\n",
              "      <td>565.0</td>\n",
              "      <td>2.181467</td>\n",
              "      <td>37.85</td>\n",
              "      <td>-122.25</td>\n",
              "      <td>3.422</td>\n",
              "      <td>pop_rank_1</td>\n",
              "      <td>Old</td>\n",
              "    </tr>\n",
              "  </tbody>\n",
              "</table>\n",
              "</div>\n",
              "    <div class=\"colab-df-buttons\">\n",
              "\n",
              "  <div class=\"colab-df-container\">\n",
              "    <button class=\"colab-df-convert\" onclick=\"convertToInteractive('df-435c6fc9-3c17-4f61-9a37-49e6983a525a')\"\n",
              "            title=\"Convert this dataframe to an interactive table.\"\n",
              "            style=\"display:none;\">\n",
              "\n",
              "  <svg xmlns=\"http://www.w3.org/2000/svg\" height=\"24px\" viewBox=\"0 -960 960 960\">\n",
              "    <path d=\"M120-120v-720h720v720H120Zm60-500h600v-160H180v160Zm220 220h160v-160H400v160Zm0 220h160v-160H400v160ZM180-400h160v-160H180v160Zm440 0h160v-160H620v160ZM180-180h160v-160H180v160Zm440 0h160v-160H620v160Z\"/>\n",
              "  </svg>\n",
              "    </button>\n",
              "\n",
              "  <style>\n",
              "    .colab-df-container {\n",
              "      display:flex;\n",
              "      gap: 12px;\n",
              "    }\n",
              "\n",
              "    .colab-df-convert {\n",
              "      background-color: #E8F0FE;\n",
              "      border: none;\n",
              "      border-radius: 50%;\n",
              "      cursor: pointer;\n",
              "      display: none;\n",
              "      fill: #1967D2;\n",
              "      height: 32px;\n",
              "      padding: 0 0 0 0;\n",
              "      width: 32px;\n",
              "    }\n",
              "\n",
              "    .colab-df-convert:hover {\n",
              "      background-color: #E2EBFA;\n",
              "      box-shadow: 0px 1px 2px rgba(60, 64, 67, 0.3), 0px 1px 3px 1px rgba(60, 64, 67, 0.15);\n",
              "      fill: #174EA6;\n",
              "    }\n",
              "\n",
              "    .colab-df-buttons div {\n",
              "      margin-bottom: 4px;\n",
              "    }\n",
              "\n",
              "    [theme=dark] .colab-df-convert {\n",
              "      background-color: #3B4455;\n",
              "      fill: #D2E3FC;\n",
              "    }\n",
              "\n",
              "    [theme=dark] .colab-df-convert:hover {\n",
              "      background-color: #434B5C;\n",
              "      box-shadow: 0px 1px 3px 1px rgba(0, 0, 0, 0.15);\n",
              "      filter: drop-shadow(0px 1px 2px rgba(0, 0, 0, 0.3));\n",
              "      fill: #FFFFFF;\n",
              "    }\n",
              "  </style>\n",
              "\n",
              "    <script>\n",
              "      const buttonEl =\n",
              "        document.querySelector('#df-435c6fc9-3c17-4f61-9a37-49e6983a525a button.colab-df-convert');\n",
              "      buttonEl.style.display =\n",
              "        google.colab.kernel.accessAllowed ? 'block' : 'none';\n",
              "\n",
              "      async function convertToInteractive(key) {\n",
              "        const element = document.querySelector('#df-435c6fc9-3c17-4f61-9a37-49e6983a525a');\n",
              "        const dataTable =\n",
              "          await google.colab.kernel.invokeFunction('convertToInteractive',\n",
              "                                                    [key], {});\n",
              "        if (!dataTable) return;\n",
              "\n",
              "        const docLinkHtml = 'Like what you see? Visit the ' +\n",
              "          '<a target=\"_blank\" href=https://colab.research.google.com/notebooks/data_table.ipynb>data table notebook</a>'\n",
              "          + ' to learn more about interactive tables.';\n",
              "        element.innerHTML = '';\n",
              "        dataTable['output_type'] = 'display_data';\n",
              "        await google.colab.output.renderOutput(dataTable, element);\n",
              "        const docLink = document.createElement('div');\n",
              "        docLink.innerHTML = docLinkHtml;\n",
              "        element.appendChild(docLink);\n",
              "      }\n",
              "    </script>\n",
              "  </div>\n",
              "\n",
              "\n",
              "<div id=\"df-505ba94f-f3e0-4f47-9ddd-063e41d60e59\">\n",
              "  <button class=\"colab-df-quickchart\" onclick=\"quickchart('df-505ba94f-f3e0-4f47-9ddd-063e41d60e59')\"\n",
              "            title=\"Suggest charts\"\n",
              "            style=\"display:none;\">\n",
              "\n",
              "<svg xmlns=\"http://www.w3.org/2000/svg\" height=\"24px\"viewBox=\"0 0 24 24\"\n",
              "     width=\"24px\">\n",
              "    <g>\n",
              "        <path d=\"M19 3H5c-1.1 0-2 .9-2 2v14c0 1.1.9 2 2 2h14c1.1 0 2-.9 2-2V5c0-1.1-.9-2-2-2zM9 17H7v-7h2v7zm4 0h-2V7h2v10zm4 0h-2v-4h2v4z\"/>\n",
              "    </g>\n",
              "</svg>\n",
              "  </button>\n",
              "\n",
              "<style>\n",
              "  .colab-df-quickchart {\n",
              "      --bg-color: #E8F0FE;\n",
              "      --fill-color: #1967D2;\n",
              "      --hover-bg-color: #E2EBFA;\n",
              "      --hover-fill-color: #174EA6;\n",
              "      --disabled-fill-color: #AAA;\n",
              "      --disabled-bg-color: #DDD;\n",
              "  }\n",
              "\n",
              "  [theme=dark] .colab-df-quickchart {\n",
              "      --bg-color: #3B4455;\n",
              "      --fill-color: #D2E3FC;\n",
              "      --hover-bg-color: #434B5C;\n",
              "      --hover-fill-color: #FFFFFF;\n",
              "      --disabled-bg-color: #3B4455;\n",
              "      --disabled-fill-color: #666;\n",
              "  }\n",
              "\n",
              "  .colab-df-quickchart {\n",
              "    background-color: var(--bg-color);\n",
              "    border: none;\n",
              "    border-radius: 50%;\n",
              "    cursor: pointer;\n",
              "    display: none;\n",
              "    fill: var(--fill-color);\n",
              "    height: 32px;\n",
              "    padding: 0;\n",
              "    width: 32px;\n",
              "  }\n",
              "\n",
              "  .colab-df-quickchart:hover {\n",
              "    background-color: var(--hover-bg-color);\n",
              "    box-shadow: 0 1px 2px rgba(60, 64, 67, 0.3), 0 1px 3px 1px rgba(60, 64, 67, 0.15);\n",
              "    fill: var(--button-hover-fill-color);\n",
              "  }\n",
              "\n",
              "  .colab-df-quickchart-complete:disabled,\n",
              "  .colab-df-quickchart-complete:disabled:hover {\n",
              "    background-color: var(--disabled-bg-color);\n",
              "    fill: var(--disabled-fill-color);\n",
              "    box-shadow: none;\n",
              "  }\n",
              "\n",
              "  .colab-df-spinner {\n",
              "    border: 2px solid var(--fill-color);\n",
              "    border-color: transparent;\n",
              "    border-bottom-color: var(--fill-color);\n",
              "    animation:\n",
              "      spin 1s steps(1) infinite;\n",
              "  }\n",
              "\n",
              "  @keyframes spin {\n",
              "    0% {\n",
              "      border-color: transparent;\n",
              "      border-bottom-color: var(--fill-color);\n",
              "      border-left-color: var(--fill-color);\n",
              "    }\n",
              "    20% {\n",
              "      border-color: transparent;\n",
              "      border-left-color: var(--fill-color);\n",
              "      border-top-color: var(--fill-color);\n",
              "    }\n",
              "    30% {\n",
              "      border-color: transparent;\n",
              "      border-left-color: var(--fill-color);\n",
              "      border-top-color: var(--fill-color);\n",
              "      border-right-color: var(--fill-color);\n",
              "    }\n",
              "    40% {\n",
              "      border-color: transparent;\n",
              "      border-right-color: var(--fill-color);\n",
              "      border-top-color: var(--fill-color);\n",
              "    }\n",
              "    60% {\n",
              "      border-color: transparent;\n",
              "      border-right-color: var(--fill-color);\n",
              "    }\n",
              "    80% {\n",
              "      border-color: transparent;\n",
              "      border-right-color: var(--fill-color);\n",
              "      border-bottom-color: var(--fill-color);\n",
              "    }\n",
              "    90% {\n",
              "      border-color: transparent;\n",
              "      border-bottom-color: var(--fill-color);\n",
              "    }\n",
              "  }\n",
              "</style>\n",
              "\n",
              "  <script>\n",
              "    async function quickchart(key) {\n",
              "      const quickchartButtonEl =\n",
              "        document.querySelector('#' + key + ' button');\n",
              "      quickchartButtonEl.disabled = true;  // To prevent multiple clicks.\n",
              "      quickchartButtonEl.classList.add('colab-df-spinner');\n",
              "      try {\n",
              "        const charts = await google.colab.kernel.invokeFunction(\n",
              "            'suggestCharts', [key], {});\n",
              "      } catch (error) {\n",
              "        console.error('Error during call to suggestCharts:', error);\n",
              "      }\n",
              "      quickchartButtonEl.classList.remove('colab-df-spinner');\n",
              "      quickchartButtonEl.classList.add('colab-df-quickchart-complete');\n",
              "    }\n",
              "    (() => {\n",
              "      let quickchartButtonEl =\n",
              "        document.querySelector('#df-505ba94f-f3e0-4f47-9ddd-063e41d60e59 button');\n",
              "      quickchartButtonEl.style.display =\n",
              "        google.colab.kernel.accessAllowed ? 'block' : 'none';\n",
              "    })();\n",
              "  </script>\n",
              "</div>\n",
              "\n",
              "    </div>\n",
              "  </div>\n"
            ]
          },
          "metadata": {},
          "execution_count": 87
        }
      ]
    },
    {
      "cell_type": "markdown",
      "source": [
        "####2. Data Load"
      ],
      "metadata": {
        "id": "-zUOdxVJyW_q"
      }
    },
    {
      "cell_type": "code",
      "source": [
        "data_df = spark.read.format('csv').option('header','true').option('inferSchema','true').load('california_housing_price.csv')\n",
        "data_df.show()"
      ],
      "metadata": {
        "colab": {
          "base_uri": "https://localhost:8080/"
        },
        "id": "1Ac1TBjOwFMJ",
        "outputId": "e72b48ce-7bf6-4b16-8d8c-40feed325133"
      },
      "execution_count": 88,
      "outputs": [
        {
          "output_type": "stream",
          "name": "stdout",
          "text": [
            "+------+--------+------------------+------------------+----------+------------------+--------+---------+-----------+---------------+---------+\n",
            "|MedInc|HouseAge|          AveRooms|         AveBedrms|Population|          AveOccup|Latitude|Longitude|MedHouseVal|Population_rank|Old_house|\n",
            "+------+--------+------------------+------------------+----------+------------------+--------+---------+-----------+---------------+---------+\n",
            "|8.3252|    41.0| 6.984126984126984|1.0238095238095237|     322.0|2.5555555555555554|   37.88|  -122.23|      4.526|     pop_rank_1|      Old|\n",
            "|8.3014|    21.0| 6.238137082601054|0.9718804920913884|    2401.0| 2.109841827768014|   37.86|  -122.22|      3.585|     pop_rank_1|      Old|\n",
            "|7.2574|    52.0| 8.288135593220339| 1.073446327683616|     496.0|2.8022598870056497|   37.85|  -122.24|      3.521|     pop_rank_1|      Old|\n",
            "|5.6431|    52.0|5.8173515981735155|1.0730593607305936|     558.0| 2.547945205479452|   37.85|  -122.25|      3.413|     pop_rank_1|      Old|\n",
            "|3.8462|    52.0| 6.281853281853282|1.0810810810810811|     565.0|2.1814671814671813|   37.85|  -122.25|      3.422|     pop_rank_1|      Old|\n",
            "|4.0368|    52.0| 4.761658031088083|1.1036269430051813|     413.0| 2.139896373056995|   37.85|  -122.25|      2.697|     pop_rank_1|      Old|\n",
            "|3.6591|    52.0|4.9319066147859925|0.9513618677042801|    1094.0|2.1284046692607004|   37.84|  -122.25|      2.992|     pop_rank_1|      Old|\n",
            "|  3.12|    52.0| 4.797527047913447| 1.061823802163833|    1157.0|1.7882534775888717|   37.84|  -122.25|      2.414|     pop_rank_1|      Old|\n",
            "|2.0804|    42.0| 4.294117647058823|1.1176470588235294|    1206.0| 2.026890756302521|   37.84|  -122.26|      2.267|     pop_rank_1|      Old|\n",
            "|3.6912|    52.0| 4.970588235294118|0.9901960784313726|    1551.0| 2.172268907563025|   37.84|  -122.25|      2.611|     pop_rank_1|      Old|\n",
            "|3.2031|    52.0| 5.477611940298507|1.0796019900497513|     910.0| 2.263681592039801|   37.85|  -122.26|      2.815|     pop_rank_1|      Old|\n",
            "|3.2705|    52.0| 4.772479564032698|1.0245231607629428|    1504.0|2.0490463215258856|   37.85|  -122.26|      2.418|     pop_rank_1|      Old|\n",
            "| 3.075|    52.0| 5.322649572649572|1.0128205128205128|    1098.0|2.3461538461538463|   37.85|  -122.26|      2.135|     pop_rank_1|      Old|\n",
            "|2.6736|    52.0|               4.0|1.0977011494252873|     345.0|1.9827586206896552|   37.84|  -122.26|      1.913|     pop_rank_1|      Old|\n",
            "|1.9167|    52.0| 4.262903225806451|1.0096774193548388|    1212.0|1.9548387096774194|   37.85|  -122.26|      1.592|     pop_rank_1|      Old|\n",
            "| 2.125|    50.0| 4.242424242424242| 1.071969696969697|     697.0| 2.640151515151515|   37.85|  -122.26|        1.4|     pop_rank_1|      Old|\n",
            "| 2.775|    52.0|5.9395770392749245|1.0483383685800605|     793.0| 2.395770392749245|   37.85|  -122.27|      1.525|     pop_rank_1|      Old|\n",
            "|2.1202|    52.0| 4.052805280528053| 0.966996699669967|     648.0|2.1386138613861387|   37.85|  -122.27|      1.555|     pop_rank_1|      Old|\n",
            "|1.9911|    50.0| 5.343675417661098|1.0859188544152745|     990.0|2.3627684964200477|   37.84|  -122.26|      1.587|     pop_rank_1|      Old|\n",
            "|2.6033|    52.0| 5.465454545454546|1.0836363636363637|     690.0|2.5090909090909093|   37.84|  -122.27|      1.629|     pop_rank_1|      Old|\n",
            "+------+--------+------------------+------------------+----------+------------------+--------+---------+-----------+---------------+---------+\n",
            "only showing top 20 rows\n",
            "\n"
          ]
        }
      ]
    },
    {
      "cell_type": "code",
      "source": [
        "data_df.printSchema()"
      ],
      "metadata": {
        "colab": {
          "base_uri": "https://localhost:8080/"
        },
        "id": "rWoRkZV2yjyA",
        "outputId": "417addd8-f16e-4cd8-c15d-94c52e27f33e"
      },
      "execution_count": 89,
      "outputs": [
        {
          "output_type": "stream",
          "name": "stdout",
          "text": [
            "root\n",
            " |-- MedInc: double (nullable = true)\n",
            " |-- HouseAge: double (nullable = true)\n",
            " |-- AveRooms: double (nullable = true)\n",
            " |-- AveBedrms: double (nullable = true)\n",
            " |-- Population: double (nullable = true)\n",
            " |-- AveOccup: double (nullable = true)\n",
            " |-- Latitude: double (nullable = true)\n",
            " |-- Longitude: double (nullable = true)\n",
            " |-- MedHouseVal: double (nullable = true)\n",
            " |-- Population_rank: string (nullable = true)\n",
            " |-- Old_house: string (nullable = true)\n",
            "\n"
          ]
        }
      ]
    },
    {
      "cell_type": "code",
      "source": [
        "data_df.select(*[round(mean(c),3) for c in data_df.columns]).show()"
      ],
      "metadata": {
        "colab": {
          "base_uri": "https://localhost:8080/"
        },
        "id": "usatxZhcytKn",
        "outputId": "cd67ed8a-2f7b-4e38-b348-0d442a9b1870"
      },
      "execution_count": 90,
      "outputs": [
        {
          "output_type": "stream",
          "name": "stdout",
          "text": [
            "+---------------------+-----------------------+-----------------------+------------------------+-------------------------+-----------------------+-----------------------+------------------------+--------------------------+------------------------------+------------------------+\n",
            "|round(avg(MedInc), 3)|round(avg(HouseAge), 3)|round(avg(AveRooms), 3)|round(avg(AveBedrms), 3)|round(avg(Population), 3)|round(avg(AveOccup), 3)|round(avg(Latitude), 3)|round(avg(Longitude), 3)|round(avg(MedHouseVal), 3)|round(avg(Population_rank), 3)|round(avg(Old_house), 3)|\n",
            "+---------------------+-----------------------+-----------------------+------------------------+-------------------------+-----------------------+-----------------------+------------------------+--------------------------+------------------------------+------------------------+\n",
            "|                3.871|                 28.639|                  5.429|                   1.097|                 1425.477|                  3.071|                 35.632|                 -119.57|                     2.069|                          NULL|                    NULL|\n",
            "+---------------------+-----------------------+-----------------------+------------------------+-------------------------+-----------------------+-----------------------+------------------------+--------------------------+------------------------------+------------------------+\n",
            "\n"
          ]
        }
      ]
    },
    {
      "cell_type": "code",
      "source": [
        "data_df.groupby('Population_rank').agg({col: 'avg' for col in data_df.columns}).show()"
      ],
      "metadata": {
        "colab": {
          "base_uri": "https://localhost:8080/"
        },
        "id": "NlRs2OVtzx4A",
        "outputId": "59b8a63b-87ba-436d-981d-f940a5485ce3"
      },
      "execution_count": 91,
      "outputs": [
        {
          "output_type": "stream",
          "name": "stdout",
          "text": [
            "+---------------+-----------------+-----------------+------------------+-------------------+------------------+--------------+-----------------+-----------------+------------------+--------------------+------------------+\n",
            "|Population_rank|    avg(HouseAge)|    avg(AveOccup)|     avg(Latitude)|     avg(Longitude)|       avg(MedInc)|avg(Old_house)|  avg(Population)|    avg(AveRooms)|    avg(AveBedrms)|avg(Population_rank)|  avg(MedHouseVal)|\n",
            "+---------------+-----------------+-----------------+------------------+-------------------+------------------+--------------+-----------------+-----------------+------------------+--------------------+------------------+\n",
            "|     pop_rank_3|             12.5|6.089440986465188|34.995000000000005|           -119.605|2.4408000000000003|          NULL|          32124.0|5.317507605052884|1.0350843463233206|                NULL|             1.266|\n",
            "|     pop_rank_2|8.333333333333334|3.221390355585077| 35.36083333333333| -119.4541666666667|          5.605025|          NULL|          13478.5|6.584602489826582|1.0661837765885083|                NULL|2.5240833333333335|\n",
            "|     pop_rank_1|28.65286531562106|3.070274746656015| 35.63208086880654|-119.56976825365744|3.8698006205760205|          NULL|1415.487733928052|5.428338234932663|1.0966988613332869|                NULL| 2.068370969165168|\n",
            "+---------------+-----------------+-----------------+------------------+-------------------+------------------+--------------+-----------------+-----------------+------------------+--------------------+------------------+\n",
            "\n"
          ]
        }
      ]
    },
    {
      "cell_type": "code",
      "source": [
        "# Using UDF in pyspark\n",
        "\n",
        "avg_lat = data_df.select(mean(col('Latitude'))).collect()[0][0]\n",
        "avg_long = data_df.select(mean(col('Longitude'))).collect()[0][0]\n",
        "print(avg_lat,avg_long)"
      ],
      "metadata": {
        "colab": {
          "base_uri": "https://localhost:8080/"
        },
        "id": "ASJj304N0Laq",
        "outputId": "6a15e814-736f-4ee8-c375-6c0f09dd6450"
      },
      "execution_count": 92,
      "outputs": [
        {
          "output_type": "stream",
          "name": "stdout",
          "text": [
            "35.6318614341087 -119.56970445736148\n"
          ]
        }
      ]
    },
    {
      "cell_type": "code",
      "source": [
        "def spatial_distance(lat,long):\n",
        "  return np.power(np.power(35.6318614341087-lat,2)+np.power(-119.56970445736148-long,2),0.5)\n",
        "\n",
        "spatial_distance(35.0975,-118.7075)"
      ],
      "metadata": {
        "colab": {
          "base_uri": "https://localhost:8080/"
        },
        "id": "hkiLqS5N0rOu",
        "outputId": "fd0698c0-c11a-4014-8469-7815b843cb11"
      },
      "execution_count": 93,
      "outputs": [
        {
          "output_type": "execute_result",
          "data": {
            "text/plain": [
              "1.014366141270855"
            ]
          },
          "metadata": {},
          "execution_count": 93
        }
      ]
    },
    {
      "cell_type": "code",
      "source": [
        "from pyspark.sql.types import FloatType\n",
        "from pyspark.sql.functions import udf\n",
        "\n",
        "def spatial_distance(lat,long):\n",
        "  return ((avg_lat - lat)**2 + (avg_long - long)**2) ** 0.5\n",
        "\n",
        "distance_udf = udf(spatial_distance, FloatType())\n",
        "\n",
        "data_df = data_df.withColumn('avg_distance',distance_udf('Latitude','Longitude'))\n",
        "data_df.show()"
      ],
      "metadata": {
        "colab": {
          "base_uri": "https://localhost:8080/"
        },
        "id": "L8BuvKsQ1uEc",
        "outputId": "9a2f3488-af25-4030-a6c3-87e0eb28fa50"
      },
      "execution_count": 94,
      "outputs": [
        {
          "output_type": "stream",
          "name": "stdout",
          "text": [
            "+------+--------+------------------+------------------+----------+------------------+--------+---------+-----------+---------------+---------+------------+\n",
            "|MedInc|HouseAge|          AveRooms|         AveBedrms|Population|          AveOccup|Latitude|Longitude|MedHouseVal|Population_rank|Old_house|avg_distance|\n",
            "+------+--------+------------------+------------------+----------+------------------+--------+---------+-----------+---------------+---------+------------+\n",
            "|8.3252|    41.0| 6.984126984126984|1.0238095238095237|     322.0|2.5555555555555554|   37.88|  -122.23|      4.526|     pop_rank_1|      Old|   3.4830015|\n",
            "|8.3014|    21.0| 6.238137082601054|0.9718804920913884|    2401.0| 2.109841827768014|   37.86|  -122.22|      3.585|     pop_rank_1|      Old|   3.4624655|\n",
            "|7.2574|    52.0| 8.288135593220339| 1.073446327683616|     496.0|2.8022598870056497|   37.85|  -122.24|      3.521|     pop_rank_1|      Old|   3.4713998|\n",
            "|5.6431|    52.0|5.8173515981735155|1.0730593607305936|     558.0| 2.547945205479452|   37.85|  -122.25|      3.413|     pop_rank_1|      Old|    3.479098|\n",
            "|3.8462|    52.0| 6.281853281853282|1.0810810810810811|     565.0|2.1814671814671813|   37.85|  -122.25|      3.422|     pop_rank_1|      Old|    3.479098|\n",
            "|4.0368|    52.0| 4.761658031088083|1.1036269430051813|     413.0| 2.139896373056995|   37.85|  -122.25|      2.697|     pop_rank_1|      Old|    3.479098|\n",
            "|3.6591|    52.0|4.9319066147859925|0.9513618677042801|    1094.0|2.1284046692607004|   37.84|  -122.25|      2.992|     pop_rank_1|      Old|   3.4727309|\n",
            "|  3.12|    52.0| 4.797527047913447| 1.061823802163833|    1157.0|1.7882534775888717|   37.84|  -122.25|      2.414|     pop_rank_1|      Old|   3.4727309|\n",
            "|2.0804|    42.0| 4.294117647058823|1.1176470588235294|    1206.0| 2.026890756302521|   37.84|  -122.26|      2.267|     pop_rank_1|      Old|    3.480455|\n",
            "|3.6912|    52.0| 4.970588235294118|0.9901960784313726|    1551.0| 2.172268907563025|   37.84|  -122.25|      2.611|     pop_rank_1|      Old|   3.4727309|\n",
            "|3.2031|    52.0| 5.477611940298507|1.0796019900497513|     910.0| 2.263681592039801|   37.85|  -122.26|      2.815|     pop_rank_1|      Old|   3.4868078|\n",
            "|3.2705|    52.0| 4.772479564032698|1.0245231607629428|    1504.0|2.0490463215258856|   37.85|  -122.26|      2.418|     pop_rank_1|      Old|   3.4868078|\n",
            "| 3.075|    52.0| 5.322649572649572|1.0128205128205128|    1098.0|2.3461538461538463|   37.85|  -122.26|      2.135|     pop_rank_1|      Old|   3.4868078|\n",
            "|2.6736|    52.0|               4.0|1.0977011494252873|     345.0|1.9827586206896552|   37.84|  -122.26|      1.913|     pop_rank_1|      Old|    3.480455|\n",
            "|1.9167|    52.0| 4.262903225806451|1.0096774193548388|    1212.0|1.9548387096774194|   37.85|  -122.26|      1.592|     pop_rank_1|      Old|   3.4868078|\n",
            "| 2.125|    50.0| 4.242424242424242| 1.071969696969697|     697.0| 2.640151515151515|   37.85|  -122.26|        1.4|     pop_rank_1|      Old|   3.4868078|\n",
            "| 2.775|    52.0|5.9395770392749245|1.0483383685800605|     793.0| 2.395770392749245|   37.85|  -122.27|      1.525|     pop_rank_1|      Old|   3.4945292|\n",
            "|2.1202|    52.0| 4.052805280528053| 0.966996699669967|     648.0|2.1386138613861387|   37.85|  -122.27|      1.555|     pop_rank_1|      Old|   3.4945292|\n",
            "|1.9911|    50.0| 5.343675417661098|1.0859188544152745|     990.0|2.3627684964200477|   37.84|  -122.26|      1.587|     pop_rank_1|      Old|    3.480455|\n",
            "|2.6033|    52.0| 5.465454545454546|1.0836363636363637|     690.0|2.5090909090909093|   37.84|  -122.27|      1.629|     pop_rank_1|      Old|   3.4881904|\n",
            "+------+--------+------------------+------------------+----------+------------------+--------+---------+-----------+---------------+---------+------------+\n",
            "only showing top 20 rows\n",
            "\n"
          ]
        }
      ]
    },
    {
      "cell_type": "code",
      "source": [
        "# Train - test split\n",
        "train, test = data_df.randomSplit([0.7,0.3])\n",
        "train.count(),test.count()"
      ],
      "metadata": {
        "colab": {
          "base_uri": "https://localhost:8080/"
        },
        "id": "B7cJRXIvXx1y",
        "outputId": "cc9fe8b7-7461-447b-97ea-79a08836138d"
      },
      "execution_count": 95,
      "outputs": [
        {
          "output_type": "execute_result",
          "data": {
            "text/plain": [
              "(14448, 6192)"
            ]
          },
          "metadata": {},
          "execution_count": 95
        }
      ]
    },
    {
      "cell_type": "code",
      "source": [
        "# Get only numerical features\n",
        "target = 'MedHouseVal'\n",
        "num_features_lst = [c for c,d in train.dtypes if (d != 'string') and (c != target)]\n",
        "num_features_lst"
      ],
      "metadata": {
        "colab": {
          "base_uri": "https://localhost:8080/"
        },
        "id": "WJyBUTI6aE6K",
        "outputId": "f98e3ed4-6743-4a7c-a5ea-88ac4e41ba02"
      },
      "execution_count": 96,
      "outputs": [
        {
          "output_type": "execute_result",
          "data": {
            "text/plain": [
              "['MedInc',\n",
              " 'HouseAge',\n",
              " 'AveRooms',\n",
              " 'AveBedrms',\n",
              " 'Population',\n",
              " 'AveOccup',\n",
              " 'Latitude',\n",
              " 'Longitude',\n",
              " 'avg_distance']"
            ]
          },
          "metadata": {},
          "execution_count": 96
        }
      ]
    },
    {
      "cell_type": "code",
      "source": [
        "# Impute the numerical features\n",
        "\n",
        "from pyspark.ml.feature import Imputer\n",
        "\n",
        "imputer = Imputer(inputCols=num_features_lst,\n",
        "                  outputCols=num_features_lst)\n",
        "\n",
        "imputer = imputer.fit(train)\n",
        "train = imputer.transform(train)\n",
        "test = imputer.transform(test)"
      ],
      "metadata": {
        "id": "m9RUu9WKafh-"
      },
      "execution_count": 97,
      "outputs": []
    },
    {
      "cell_type": "code",
      "source": [
        "# Create feature vector by combining columns\n",
        "from pyspark.ml.feature import VectorAssembler\n",
        "\n",
        "num_vector_assembler = VectorAssembler(inputCols=num_features_lst,\n",
        "                                       outputCol='num_features_vector')\n",
        "\n",
        "train = num_vector_assembler.transform(train)\n",
        "test = num_vector_assembler.transform(test)\n",
        "\n",
        "train.show(3)"
      ],
      "metadata": {
        "colab": {
          "base_uri": "https://localhost:8080/"
        },
        "id": "w-gef_zXbtbX",
        "outputId": "337418de-dab6-4581-bff1-fdd210d4d613"
      },
      "execution_count": 98,
      "outputs": [
        {
          "output_type": "stream",
          "name": "stdout",
          "text": [
            "+------+--------+------------------+----------------+----------+------------------+--------+---------+-----------+---------------+---------+------------+--------------------+\n",
            "|MedInc|HouseAge|          AveRooms|       AveBedrms|Population|          AveOccup|Latitude|Longitude|MedHouseVal|Population_rank|Old_house|avg_distance| num_features_vector|\n",
            "+------+--------+------------------+----------------+----------+------------------+--------+---------+-----------+---------------+---------+------------+--------------------+\n",
            "|0.4999|    10.0|              6.74|            2.04|     108.0|              2.16|   34.69|   -116.9|       0.55|     pop_rank_1|      Old|    2.830976|[0.4999,10.0,6.74...|\n",
            "|0.4999|    15.0|11.596491228070175|2.56140350877193|     131.0|2.2982456140350878|   40.43|  -123.32|      0.567|     pop_rank_1|      Old|   6.0898976|[0.4999,15.0,11.5...|\n",
            "|0.4999|    16.0| 21.63157894736842|             6.0|      26.0| 1.368421052631579|   39.42|  -122.89|      0.735|     pop_rank_1|      Old|   5.0372963|[0.4999,16.0,21.6...|\n",
            "+------+--------+------------------+----------------+----------+------------------+--------+---------+-----------+---------------+---------+------------+--------------------+\n",
            "only showing top 3 rows\n",
            "\n"
          ]
        }
      ]
    },
    {
      "cell_type": "code",
      "source": [
        "# Scaling the numerical features\n",
        "from pyspark.ml.feature import StandardScaler\n",
        "\n",
        "scaler = StandardScaler(inputCol='num_features_vector',\n",
        "                        outputCol='scaled_num_feature_vector',\n",
        "                        withStd=True,withMean=True)\n",
        "\n",
        "scaler = scaler.fit(train)\n",
        "train = scaler.transform(train)\n",
        "test = scaler.transform(test)\n",
        "\n",
        "train.show(3)"
      ],
      "metadata": {
        "colab": {
          "base_uri": "https://localhost:8080/"
        },
        "id": "W-H9lnzGcjsQ",
        "outputId": "488c491c-e01e-49bf-cfd4-e3a7a308a2d4"
      },
      "execution_count": 99,
      "outputs": [
        {
          "output_type": "stream",
          "name": "stdout",
          "text": [
            "+------+--------+------------------+----------------+----------+------------------+--------+---------+-----------+---------------+---------+------------+--------------------+-------------------------+\n",
            "|MedInc|HouseAge|          AveRooms|       AveBedrms|Population|          AveOccup|Latitude|Longitude|MedHouseVal|Population_rank|Old_house|avg_distance| num_features_vector|scaled_num_feature_vector|\n",
            "+------+--------+------------------+----------------+----------+------------------+--------+---------+-----------+---------------+---------+------------+--------------------+-------------------------+\n",
            "|0.4999|    10.0|              6.74|            2.04|     108.0|              2.16|   34.69|   -116.9|       0.55|     pop_rank_1|      Old|    2.830976|[0.4999,10.0,6.74...|     [-1.7714414490315...|\n",
            "|0.4999|    15.0|11.596491228070175|2.56140350877193|     131.0|2.2982456140350878|   40.43|  -123.32|      0.567|     pop_rank_1|      Old|   6.0898976|[0.4999,15.0,11.5...|     [-1.7714414490315...|\n",
            "|0.4999|    16.0| 21.63157894736842|             6.0|      26.0| 1.368421052631579|   39.42|  -122.89|      0.735|     pop_rank_1|      Old|   5.0372963|[0.4999,16.0,21.6...|     [-1.7714414490315...|\n",
            "+------+--------+------------------+----------------+----------+------------------+--------+---------+-----------+---------------+---------+------------+--------------------+-------------------------+\n",
            "only showing top 3 rows\n",
            "\n"
          ]
        }
      ]
    },
    {
      "cell_type": "code",
      "source": [
        "# label encoding the categorical features\n",
        "from pyspark.ml.feature import StringIndexer\n",
        "\n",
        "indexer = StringIndexer(inputCols=['Population_rank','Old_house'],\n",
        "                        outputCols=['enc_Population_rank','enc_old_house'])\n",
        "\n",
        "indexer = indexer.fit(train)\n",
        "train = indexer.transform(train)\n",
        "test = indexer.transform(test)\n",
        "\n",
        "train.show(3)"
      ],
      "metadata": {
        "colab": {
          "base_uri": "https://localhost:8080/"
        },
        "id": "vivdtzpIdMUt",
        "outputId": "5d208044-49c0-4094-ff75-794e2fb0a8ae"
      },
      "execution_count": 100,
      "outputs": [
        {
          "output_type": "stream",
          "name": "stdout",
          "text": [
            "+------+--------+------------------+----------------+----------+------------------+--------+---------+-----------+---------------+---------+------------+--------------------+-------------------------+-------------------+-------------+\n",
            "|MedInc|HouseAge|          AveRooms|       AveBedrms|Population|          AveOccup|Latitude|Longitude|MedHouseVal|Population_rank|Old_house|avg_distance| num_features_vector|scaled_num_feature_vector|enc_Population_rank|enc_old_house|\n",
            "+------+--------+------------------+----------------+----------+------------------+--------+---------+-----------+---------------+---------+------------+--------------------+-------------------------+-------------------+-------------+\n",
            "|0.4999|    10.0|              6.74|            2.04|     108.0|              2.16|   34.69|   -116.9|       0.55|     pop_rank_1|      Old|    2.830976|[0.4999,10.0,6.74...|     [-1.7714414490315...|                0.0|          0.0|\n",
            "|0.4999|    15.0|11.596491228070175|2.56140350877193|     131.0|2.2982456140350878|   40.43|  -123.32|      0.567|     pop_rank_1|      Old|   6.0898976|[0.4999,15.0,11.5...|     [-1.7714414490315...|                0.0|          0.0|\n",
            "|0.4999|    16.0| 21.63157894736842|             6.0|      26.0| 1.368421052631579|   39.42|  -122.89|      0.735|     pop_rank_1|      Old|   5.0372963|[0.4999,16.0,21.6...|     [-1.7714414490315...|                0.0|          0.0|\n",
            "+------+--------+------------------+----------------+----------+------------------+--------+---------+-----------+---------------+---------+------------+--------------------+-------------------------+-------------------+-------------+\n",
            "only showing top 3 rows\n",
            "\n"
          ]
        }
      ]
    },
    {
      "cell_type": "code",
      "source": [
        "train.groupby('enc_Population_rank').count().show(),train.groupby('enc_old_house').count().show()"
      ],
      "metadata": {
        "colab": {
          "base_uri": "https://localhost:8080/"
        },
        "id": "fJ8VffoHeFAc",
        "outputId": "ac93f3f6-1765-4c33-dbf8-369dba652370"
      },
      "execution_count": 101,
      "outputs": [
        {
          "output_type": "stream",
          "name": "stdout",
          "text": [
            "+-------------------+-----+\n",
            "|enc_Population_rank|count|\n",
            "+-------------------+-----+\n",
            "|                0.0|14437|\n",
            "|                1.0|   10|\n",
            "|                2.0|    1|\n",
            "+-------------------+-----+\n",
            "\n",
            "+-------------+-----+\n",
            "|enc_old_house|count|\n",
            "+-------------+-----+\n",
            "|          0.0|14226|\n",
            "|          1.0|  222|\n",
            "+-------------+-----+\n",
            "\n"
          ]
        },
        {
          "output_type": "execute_result",
          "data": {
            "text/plain": [
              "(None, None)"
            ]
          },
          "metadata": {},
          "execution_count": 101
        }
      ]
    },
    {
      "cell_type": "code",
      "source": [
        "# One hot encoding\n",
        "\n",
        "from pyspark.ml.feature import OneHotEncoder\n",
        "\n",
        "one_hot_encoder = OneHotEncoder(inputCols=['enc_Population_rank','enc_old_house'],\n",
        "                                outputCols=['oh_enc_Population_rank','oh_enc_old_house'])\n",
        "\n",
        "one_hot_encoder = one_hot_encoder.fit(train)\n",
        "train = one_hot_encoder.transform(train)\n",
        "test = one_hot_encoder.transform(test)\n",
        "train.show(3)"
      ],
      "metadata": {
        "colab": {
          "base_uri": "https://localhost:8080/"
        },
        "id": "4D7tdbU9eV28",
        "outputId": "a2abf9e4-ba83-4b1d-b4fc-bbe13751829c"
      },
      "execution_count": 102,
      "outputs": [
        {
          "output_type": "stream",
          "name": "stdout",
          "text": [
            "+------+--------+------------------+----------------+----------+------------------+--------+---------+-----------+---------------+---------+------------+--------------------+-------------------------+-------------------+-------------+----------------------+----------------+\n",
            "|MedInc|HouseAge|          AveRooms|       AveBedrms|Population|          AveOccup|Latitude|Longitude|MedHouseVal|Population_rank|Old_house|avg_distance| num_features_vector|scaled_num_feature_vector|enc_Population_rank|enc_old_house|oh_enc_Population_rank|oh_enc_old_house|\n",
            "+------+--------+------------------+----------------+----------+------------------+--------+---------+-----------+---------------+---------+------------+--------------------+-------------------------+-------------------+-------------+----------------------+----------------+\n",
            "|0.4999|    10.0|              6.74|            2.04|     108.0|              2.16|   34.69|   -116.9|       0.55|     pop_rank_1|      Old|    2.830976|[0.4999,10.0,6.74...|     [-1.7714414490315...|                0.0|          0.0|         (2,[0],[1.0])|   (1,[0],[1.0])|\n",
            "|0.4999|    15.0|11.596491228070175|2.56140350877193|     131.0|2.2982456140350878|   40.43|  -123.32|      0.567|     pop_rank_1|      Old|   6.0898976|[0.4999,15.0,11.5...|     [-1.7714414490315...|                0.0|          0.0|         (2,[0],[1.0])|   (1,[0],[1.0])|\n",
            "|0.4999|    16.0| 21.63157894736842|             6.0|      26.0| 1.368421052631579|   39.42|  -122.89|      0.735|     pop_rank_1|      Old|   5.0372963|[0.4999,16.0,21.6...|     [-1.7714414490315...|                0.0|          0.0|         (2,[0],[1.0])|   (1,[0],[1.0])|\n",
            "+------+--------+------------------+----------------+----------+------------------+--------+---------+-----------+---------------+---------+------------+--------------------+-------------------------+-------------------+-------------+----------------------+----------------+\n",
            "only showing top 3 rows\n",
            "\n"
          ]
        }
      ]
    },
    {
      "cell_type": "code",
      "source": [
        "assembler = VectorAssembler(inputCols=['scaled_num_feature_vector','oh_enc_Population_rank','oh_enc_old_house'],\n",
        "                            outputCol='final_feature_vector')\n",
        "\n",
        "train = assembler.transform(train)\n",
        "test = assembler.transform(test)\n",
        "train.show(3)"
      ],
      "metadata": {
        "colab": {
          "base_uri": "https://localhost:8080/"
        },
        "id": "93CpNILcfv80",
        "outputId": "6ada9ae9-b84e-4c52-e009-ec1e817aca34"
      },
      "execution_count": 104,
      "outputs": [
        {
          "output_type": "stream",
          "name": "stdout",
          "text": [
            "+------+--------+------------------+----------------+----------+------------------+--------+---------+-----------+---------------+---------+------------+--------------------+-------------------------+-------------------+-------------+----------------------+----------------+--------------------+\n",
            "|MedInc|HouseAge|          AveRooms|       AveBedrms|Population|          AveOccup|Latitude|Longitude|MedHouseVal|Population_rank|Old_house|avg_distance| num_features_vector|scaled_num_feature_vector|enc_Population_rank|enc_old_house|oh_enc_Population_rank|oh_enc_old_house|final_feature_vector|\n",
            "+------+--------+------------------+----------------+----------+------------------+--------+---------+-----------+---------------+---------+------------+--------------------+-------------------------+-------------------+-------------+----------------------+----------------+--------------------+\n",
            "|0.4999|    10.0|              6.74|            2.04|     108.0|              2.16|   34.69|   -116.9|       0.55|     pop_rank_1|      Old|    2.830976|[0.4999,10.0,6.74...|     [-1.7714414490315...|                0.0|          0.0|         (2,[0],[1.0])|   (1,[0],[1.0])|[-1.7714414490315...|\n",
            "|0.4999|    15.0|11.596491228070175|2.56140350877193|     131.0|2.2982456140350878|   40.43|  -123.32|      0.567|     pop_rank_1|      Old|   6.0898976|[0.4999,15.0,11.5...|     [-1.7714414490315...|                0.0|          0.0|         (2,[0],[1.0])|   (1,[0],[1.0])|[-1.7714414490315...|\n",
            "|0.4999|    16.0| 21.63157894736842|             6.0|      26.0| 1.368421052631579|   39.42|  -122.89|      0.735|     pop_rank_1|      Old|   5.0372963|[0.4999,16.0,21.6...|     [-1.7714414490315...|                0.0|          0.0|         (2,[0],[1.0])|   (1,[0],[1.0])|[-1.7714414490315...|\n",
            "+------+--------+------------------+----------------+----------+------------------+--------+---------+-----------+---------------+---------+------------+--------------------+-------------------------+-------------------+-------------+----------------------+----------------+--------------------+\n",
            "only showing top 3 rows\n",
            "\n"
          ]
        }
      ]
    },
    {
      "cell_type": "code",
      "source": [
        "# Build a model\n",
        "from pyspark.ml.regression import LinearRegression\n",
        "\n",
        "lr = LinearRegression(featuresCol='final_feature_vector',\n",
        "                      labelCol='MedHouseVal')\n",
        "lr = lr.fit(train)\n",
        "lr"
      ],
      "metadata": {
        "colab": {
          "base_uri": "https://localhost:8080/"
        },
        "id": "AIc7xa-qgiuz",
        "outputId": "b2b3f897-7c5b-469f-8815-47038f2cdba2"
      },
      "execution_count": 106,
      "outputs": [
        {
          "output_type": "execute_result",
          "data": {
            "text/plain": [
              "LinearRegressionModel: uid=LinearRegression_6da68a219e60, numFeatures=12"
            ]
          },
          "metadata": {},
          "execution_count": 106
        }
      ]
    },
    {
      "cell_type": "code",
      "source": [
        "lr.coefficients"
      ],
      "metadata": {
        "colab": {
          "base_uri": "https://localhost:8080/"
        },
        "id": "Ezd3IBQfhwo9",
        "outputId": "4efaa609-bddc-43c8-966a-0338a8ac4da4"
      },
      "execution_count": 109,
      "outputs": [
        {
          "output_type": "execute_result",
          "data": {
            "text/plain": [
              "DenseVector([0.8506, 0.1265, -0.2936, 0.3381, -0.0013, -0.0459, -0.9329, -0.8859, 0.0452, 0.4757, 0.4705, -0.0004])"
            ]
          },
          "metadata": {},
          "execution_count": 109
        }
      ]
    },
    {
      "cell_type": "code",
      "source": [
        "lr.transform(train).show(3)"
      ],
      "metadata": {
        "colab": {
          "base_uri": "https://localhost:8080/"
        },
        "id": "HUDsL_4hhNTT",
        "outputId": "543e7234-4374-480b-c362-98d4e86da94d"
      },
      "execution_count": 107,
      "outputs": [
        {
          "output_type": "stream",
          "name": "stdout",
          "text": [
            "+------+--------+------------------+----------------+----------+------------------+--------+---------+-----------+---------------+---------+------------+--------------------+-------------------------+-------------------+-------------+----------------------+----------------+--------------------+------------------+\n",
            "|MedInc|HouseAge|          AveRooms|       AveBedrms|Population|          AveOccup|Latitude|Longitude|MedHouseVal|Population_rank|Old_house|avg_distance| num_features_vector|scaled_num_feature_vector|enc_Population_rank|enc_old_house|oh_enc_Population_rank|oh_enc_old_house|final_feature_vector|        prediction|\n",
            "+------+--------+------------------+----------------+----------+------------------+--------+---------+-----------+---------------+---------+------------+--------------------+-------------------------+-------------------+-------------+----------------------+----------------+--------------------+------------------+\n",
            "|0.4999|    10.0|              6.74|            2.04|     108.0|              2.16|   34.69|   -116.9|       0.55|     pop_rank_1|      Old|    2.830976|[0.4999,10.0,6.74...|     [-1.7714414490315...|                0.0|          0.0|         (2,[0],[1.0])|   (1,[0],[1.0])|[-1.7714414490315...|0.2199045389419716|\n",
            "|0.4999|    15.0|11.596491228070175|2.56140350877193|     131.0|2.2982456140350878|   40.43|  -123.32|      0.567|     pop_rank_1|      Old|   6.0898976|[0.4999,15.0,11.5...|     [-1.7714414490315...|                0.0|          0.0|         (2,[0],[1.0])|   (1,[0],[1.0])|[-1.7714414490315...|0.5723182427681044|\n",
            "|0.4999|    16.0| 21.63157894736842|             6.0|      26.0| 1.368421052631579|   39.42|  -122.89|      0.735|     pop_rank_1|      Old|   5.0372963|[0.4999,16.0,21.6...|     [-1.7714414490315...|                0.0|          0.0|         (2,[0],[1.0])|   (1,[0],[1.0])|[-1.7714414490315...| 2.329105385343022|\n",
            "+------+--------+------------------+----------------+----------+------------------+--------+---------+-----------+---------------+---------+------------+--------------------+-------------------------+-------------------+-------------+----------------------+----------------+--------------------+------------------+\n",
            "only showing top 3 rows\n",
            "\n"
          ]
        }
      ]
    },
    {
      "cell_type": "code",
      "source": [
        "pred_train_df = lr.transform(test)\n",
        "pred_train_df.select(['MedHouseVal','prediction']).show(3)"
      ],
      "metadata": {
        "colab": {
          "base_uri": "https://localhost:8080/"
        },
        "id": "n9GtCaUTg5dv",
        "outputId": "310799b3-73b2-4a19-e560-85522ae51c8b"
      },
      "execution_count": 108,
      "outputs": [
        {
          "output_type": "stream",
          "name": "stdout",
          "text": [
            "+-----------+--------------------+\n",
            "|MedHouseVal|          prediction|\n",
            "+-----------+--------------------+\n",
            "|      1.625|-0.08941055149575794|\n",
            "|      0.675|  1.0660534163765392|\n",
            "|      0.425|  0.5157651766915499|\n",
            "+-----------+--------------------+\n",
            "only showing top 3 rows\n",
            "\n"
          ]
        }
      ]
    },
    {
      "cell_type": "code",
      "source": [
        "from pyspark.ml.evaluation import RegressionEvaluator\n",
        "\n",
        "evaluator = RegressionEvaluator(labelCol=\"MedHouseVal\",\n",
        "                                predictionCol=\"prediction\", metricName=\"rmse\")\n",
        "rmse = evaluator.evaluate(pred_train_df)\n",
        "print(\"Root Mean Squared Error (RMSE) on test data = %g\" % rmse)"
      ],
      "metadata": {
        "colab": {
          "base_uri": "https://localhost:8080/"
        },
        "id": "sSfq7TvShgvE",
        "outputId": "a8db37b2-8095-4003-e709-41480ebc87e2"
      },
      "execution_count": 110,
      "outputs": [
        {
          "output_type": "stream",
          "name": "stdout",
          "text": [
            "Root Mean Squared Error (RMSE) on test data = 0.735385\n"
          ]
        }
      ]
    },
    {
      "cell_type": "code",
      "source": [
        "# Evaluation using RDD\n",
        "pred_actuals_rdd = pred_train_df.select(['MedHouseVal','prediction']).rdd.map(tuple)\n",
        "\n",
        "pred_actuals_rdd.take(2)"
      ],
      "metadata": {
        "colab": {
          "base_uri": "https://localhost:8080/"
        },
        "id": "qhXJqlCCiQfg",
        "outputId": "939aa29a-a21d-4924-aad3-962564b72d82"
      },
      "execution_count": 112,
      "outputs": [
        {
          "output_type": "execute_result",
          "data": {
            "text/plain": [
              "[(1.625, -0.08941055149575794), (0.675, 1.0660534163765392)]"
            ]
          },
          "metadata": {},
          "execution_count": 112
        }
      ]
    },
    {
      "cell_type": "code",
      "source": [
        "from pyspark.mllib.evaluation import RegressionMetrics\n",
        "\n",
        "metrics= RegressionMetrics(pred_actuals_rdd)\n",
        "\n",
        "s = '''\n",
        "Mean Squared error      :   {0}\n",
        "Root Mean Squared Error :   {1}\n",
        "Mean Absolute Error     :   {2}\n",
        "R^2                     :   {3}\n",
        "'''.format(metrics.meanSquaredError,\n",
        "           metrics.rootMeanSquaredError,\n",
        "           metrics.meanAbsoluteError,\n",
        "           metrics.r2)\n",
        "print(s)"
      ],
      "metadata": {
        "colab": {
          "base_uri": "https://localhost:8080/"
        },
        "id": "O1eA_rPfjJX8",
        "outputId": "fc7279d0-7230-404b-ad74-981c02727fa6"
      },
      "execution_count": 115,
      "outputs": [
        {
          "output_type": "stream",
          "name": "stderr",
          "text": [
            "/usr/local/lib/python3.10/dist-packages/pyspark/sql/context.py:158: FutureWarning: Deprecated in 3.0.0. Use SparkSession.builder.getOrCreate() instead.\n",
            "  warnings.warn(\n"
          ]
        },
        {
          "output_type": "stream",
          "name": "stdout",
          "text": [
            "\n",
            "Mean Squared error      :   0.5407915074305492\n",
            "Root Mean Squared Error :   0.7353852782253322\n",
            "Mean Absolute Error     :   0.5306816593739203\n",
            "R^2                     :   0.3351978583238028\n",
            "\n"
          ]
        }
      ]
    },
    {
      "cell_type": "code",
      "source": [],
      "metadata": {
        "id": "j_9RPjTXj0tQ"
      },
      "execution_count": null,
      "outputs": []
    }
  ]
}